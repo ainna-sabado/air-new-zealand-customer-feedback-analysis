{
 "cells": [
  {
   "cell_type": "code",
   "execution_count": null,
   "metadata": {
    "vscode": {
     "languageId": "plaintext"
    }
   },
   "outputs": [],
   "source": [
    "import pandas as pd\n",
    "import re\n",
    "import matplotlib.pyplot as plt\n",
    "import seaborn as sns\n",
    "from textblob import TextBlob\n",
    "from vaderSentiment.vaderSentiment import SentimentIntensityAnalyzer\n",
    "from sklearn.metrics import confusion_matrix, classification_report"
   ]
  },
  {
   "cell_type": "code",
   "execution_count": null,
   "metadata": {
    "vscode": {
     "languageId": "plaintext"
    }
   },
   "outputs": [],
   "source": [
    "reviews_df = pd.read_csv('../dataset/air_nz_cleaned_data.csv')\n",
    "\n",
    "# Check for and handle missing values\n",
    "reviews_df.dropna(subset=['review_content'], inplace=True)\n",
    "\n",
    "reviews_df"
   ]
  },
  {
   "cell_type": "code",
   "execution_count": null,
   "metadata": {
    "vscode": {
     "languageId": "plaintext"
    }
   },
   "outputs": [],
   "source": [
    "# Text cleaning function\n",
    "def clean_text(text):\n",
    "    # Preserve exclamations, question marks, and retain original casing\n",
    "    # Remove unwanted characters but keep punctuation marks important for sentiment\n",
    "    text = re.sub(r'[^a-zA-Z0-9\\s!?.]', '', text)\n",
    "    # Remove extra whitespace\n",
    "    text = re.sub(r'\\s+', ' ', text).strip()\n",
    "    return text\n",
    "\n",
    "# Apply text cleaning\n",
    "reviews_df['combined_content'] = reviews_df['header'] + ' ' + reviews_df['review_content'].apply(clean_text)\n",
    "reviews_df"
   ]
  },
  {
   "cell_type": "code",
   "execution_count": null,
   "metadata": {
    "vscode": {
     "languageId": "plaintext"
    }
   },
   "outputs": [],
   "source": [
    "# Define sentiment analysis functions\n",
    "def get_sentiment_textblob(text):\n",
    "    analysis = TextBlob(text)\n",
    "    polarity = analysis.sentiment.polarity\n",
    "    if polarity > 0:\n",
    "        return 'Positive'\n",
    "    elif polarity == 0:\n",
    "        return 'Neutral'\n",
    "    else:\n",
    "        return 'Negative'\n",
    "\n",
    "# Apply sentiment analysis using TextBlob\n",
    "reviews_df['textblob_sentiment'] = reviews_df['combined_content'].apply(get_sentiment_textblob)\n",
    "reviews_df"
   ]
  },
  {
   "cell_type": "code",
   "execution_count": null,
   "metadata": {
    "vscode": {
     "languageId": "plaintext"
    }
   },
   "outputs": [],
   "source": [
    "# Calculate sentiment counts\n",
    "sentiment_counts = reviews_df['textblob_sentiment'].value_counts()\n",
    "sentiment_counts"
   ]
  },
  {
   "cell_type": "code",
   "execution_count": null,
   "metadata": {
    "vscode": {
     "languageId": "plaintext"
    }
   },
   "outputs": [],
   "source": [
    "# Plot sentiment distribution\n",
    "plt.figure(figsize=(10, 7))\n",
    "colors = ['#4CAF50', '#FFC107', '#F44336']  # Colors for Positive, Neutral, Negative\n",
    "plt.bar(sentiment_counts.index, sentiment_counts.values, color=colors, edgecolor='black', alpha=0.8)\n",
    "plt.grid(axis='y', linestyle='--', alpha=0.7)\n",
    "plt.xlabel('Sentiment', fontsize=14, fontweight='bold')\n",
    "plt.ylabel('Number of Reviews', fontsize=14, fontweight='bold')\n",
    "plt.title('Distribution of Sentiment Categories (TextBlob)', fontsize=16, fontweight='bold')\n",
    "for i, count in enumerate(sentiment_counts.values):\n",
    "    plt.text(i, count + 5, str(count), ha='center', va='bottom', fontsize=12, fontweight='bold')\n",
    "plt.tight_layout()\n",
    "plt.show()"
   ]
  },
  {
   "cell_type": "code",
   "execution_count": null,
   "metadata": {
    "vscode": {
     "languageId": "plaintext"
    }
   },
   "outputs": [],
   "source": [
    "def get_sentiment_vader(text):\n",
    "    analyzer = SentimentIntensityAnalyzer()\n",
    "    analyzer.lexicon['worst airline'] = -5.0    \n",
    "    analyzer.lexicon['never fly with Air New Zealand'] = -5.0   \n",
    "\n",
    "    score = analyzer.polarity_scores(text)['compound']\n",
    "    if score > 0.1:  \n",
    "        return 'Positive'\n",
    "    elif score < -0.1: \n",
    "        return 'Negative'\n",
    "    else:\n",
    "        return 'Neutral'\n"
   ]
  },
  {
   "cell_type": "code",
   "execution_count": null,
   "metadata": {
    "vscode": {
     "languageId": "plaintext"
    }
   },
   "outputs": [],
   "source": [
    "# Apply sentiment analysis using VADER\n",
    "\n",
    "reviews_df['vader_sentiment'] = reviews_df['combined_content'].apply(get_sentiment_vader)\n",
    "reviews_df"
   ]
  },
  {
   "cell_type": "code",
   "execution_count": null,
   "metadata": {
    "vscode": {
     "languageId": "plaintext"
    }
   },
   "outputs": [],
   "source": [
    "# Calculate sentiment counts\n",
    "vader_sentiment_counts = reviews_df['vader_sentiment'].value_counts()\n",
    "vader_sentiment_counts"
   ]
  },
  {
   "cell_type": "code",
   "execution_count": null,
   "metadata": {
    "vscode": {
     "languageId": "plaintext"
    }
   },
   "outputs": [],
   "source": [
    "# Plot sentiment distribution\n",
    "plt.figure(figsize=(10, 7))\n",
    "colors = ['#4CAF50', '#FFC107', '#F44336']  # Colors for Positive, Neutral, Negative\n",
    "plt.bar(vader_sentiment_counts.index, vader_sentiment_counts.values, color=colors, edgecolor='black', alpha=0.8)\n",
    "plt.grid(axis='y', linestyle='--', alpha=0.7)\n",
    "plt.xlabel('Sentiment', fontsize=14, fontweight='bold')\n",
    "plt.ylabel('Number of Reviews', fontsize=14, fontweight='bold')\n",
    "plt.title('Distribution of Sentiment Categories (VADER)', fontsize=16, fontweight='bold')\n",
    "for i, count in enumerate(vader_sentiment_counts.values):\n",
    "    plt.text(i, count + 5, str(count), ha='center', va='bottom', fontsize=12, fontweight='bold')\n",
    "plt.tight_layout()\n",
    "plt.show()"
   ]
  },
  {
   "cell_type": "code",
   "execution_count": null,
   "metadata": {
    "vscode": {
     "languageId": "plaintext"
    }
   },
   "outputs": [],
   "source": [
    "# Define function to map ratings to sentiment\n",
    "def map_rating_to_sentiment(rating):\n",
    "    if rating >= 8:\n",
    "        return 'Positive'\n",
    "    elif rating >= 4:\n",
    "        return 'Neutral'\n",
    "    else:\n",
    "        return 'Negative'\n",
    "    \n",
    "# Apply rating to sentiment mapping\n",
    "reviews_df['rating_sentiment'] = reviews_df['rating'].apply(map_rating_to_sentiment)\n",
    "reviews_df"
   ]
  },
  {
   "cell_type": "code",
   "execution_count": null,
   "metadata": {
    "vscode": {
     "languageId": "plaintext"
    }
   },
   "outputs": [],
   "source": [
    "# Sample reviews for each sentiment type\n",
    "def sample_reviews(df, sentiment, n=2):\n",
    "    return df[df['textblob_sentiment'] == sentiment].sample(n=n)\n",
    "\n",
    "# Sample 2 reviews for each sentiment type\n",
    "positive_samples = sample_reviews(reviews_df, 'Positive')\n",
    "neutral_samples = sample_reviews(reviews_df, 'Neutral')\n",
    "negative_samples = sample_reviews(reviews_df, 'Negative')"
   ]
  },
  {
   "cell_type": "code",
   "execution_count": null,
   "metadata": {
    "vscode": {
     "languageId": "plaintext"
    }
   },
   "outputs": [],
   "source": [
    "# Combine samples into one DataFrame for easier inspection\n",
    "sampled_reviews = pd.concat([positive_samples, neutral_samples, negative_samples])\n",
    "\n",
    "# Display sampled reviews with TextBlob and VADER sentiment labels\n",
    "print(\"Sampled Reviews for Sentiment Analysis:\")\n",
    "print(sampled_reviews[['header', 'review_content', 'textblob_sentiment', 'vader_sentiment']])\n",
    "\n",
    "# Save results to CSV for inspection\n",
    "reviews_df[['header', 'review_content', 'rating', 'rating_sentiment', 'vader_sentiment', 'textblob_sentiment']].to_csv('../dataset/sentiment_comparison.csv', index=False)\n",
    "print(\"Results saved to 'sentiment_comparison.csv'.\")"
   ]
  },
  {
   "cell_type": "code",
   "execution_count": null,
   "metadata": {
    "vscode": {
     "languageId": "plaintext"
    }
   },
   "outputs": [],
   "source": [
    "# Calculate confusion matrix and classification report for VADER\n",
    "y_true = reviews_df['rating_sentiment']\n",
    "y_pred_vader = reviews_df['vader_sentiment']\n",
    "\n",
    "conf_matrix_vader = confusion_matrix(y_true, y_pred_vader, labels=['Positive', 'Neutral', 'Negative'])\n",
    "class_report_vader = classification_report(y_true, y_pred_vader, labels=['Positive', 'Neutral', 'Negative'])\n",
    "\n",
    "print(\"Confusion Matrix for VADER:\")\n",
    "print(conf_matrix_vader)\n",
    "print(\"\\nClassification Report for VADER:\")\n",
    "print(class_report_vader)"
   ]
  },
  {
   "cell_type": "code",
   "execution_count": null,
   "metadata": {
    "vscode": {
     "languageId": "plaintext"
    }
   },
   "outputs": [],
   "source": [
    "# Calculate confusion matrix and classification report for TextBlob\n",
    "y_true = reviews_df['rating_sentiment']\n",
    "y_pred_textblob = reviews_df['textblob_sentiment']\n",
    "\n",
    "conf_matrix_textblob = confusion_matrix(y_true, y_pred_textblob, labels=['Positive', 'Neutral', 'Negative'])\n",
    "class_report_textblob = classification_report(y_true, y_pred_textblob, labels=['Positive', 'Neutral', 'Negative'])\n",
    "\n",
    "print(\"Confusion Matrix for TextBlob:\")\n",
    "print(conf_matrix_textblob)\n",
    "print(\"\\nClassification Report for TextBlob:\")\n",
    "print(class_report_textblob)"
   ]
  },
  {
   "cell_type": "code",
   "execution_count": null,
   "metadata": {
    "vscode": {
     "languageId": "plaintext"
    }
   },
   "outputs": [],
   "source": [
    "# Save results to CSV for inspection\n",
    "reviews_df[['review_content', 'rating', 'rating_sentiment', 'vader_sentiment', 'textblob_sentiment']].to_csv('../dataset/sentiment_comparison.csv', index=False)\n",
    "print(\"Results saved to 'sentiment_comparison.csv'.\")\n",
    "\n",
    "# Plot confusion matrices\n",
    "def plot_confusion_matrix(cm, labels, title):\n",
    "    plt.figure(figsize=(10, 7))\n",
    "    sns.heatmap(cm, annot=True, fmt='d', cmap='Blues', xticklabels=labels, yticklabels=labels)\n",
    "    plt.xlabel('Predicted Sentiment', fontsize=14, fontweight='bold')\n",
    "    plt.ylabel('True Sentiment', fontsize=14, fontweight='bold')\n",
    "    plt.title(title, fontsize=16, fontweight='bold')\n",
    "    plt.show()\n",
    "\n",
    "plot_confusion_matrix(conf_matrix_vader, labels=['Positive', 'Neutral', 'Negative'], title='Confusion Matrix for VADER')\n",
    "plot_confusion_matrix(conf_matrix_textblob, labels=['Positive', 'Neutral', 'Negative'], title='Confusion Matrix for TextBlob')"
   ]
  },
  {
   "cell_type": "code",
   "execution_count": null,
   "metadata": {
    "vscode": {
     "languageId": "plaintext"
    }
   },
   "outputs": [],
   "source": [
    "# Calculate accuracies\n",
    "def calculate_accuracy(df, sentiment_col):\n",
    "    return (df['rating_sentiment'] == df[sentiment_col]).mean()\n",
    "\n",
    "vader_accuracy = calculate_accuracy(reviews_df, 'vader_sentiment')\n",
    "textblob_accuracy = calculate_accuracy(reviews_df, 'textblob_sentiment')\n",
    "\n",
    "print(f\"VADER Accuracy: {vader_accuracy:.2f}\")\n",
    "print(f\"TextBlob Accuracy: {textblob_accuracy:.2f}\")\n"
   ]
  },
  {
   "cell_type": "code",
   "execution_count": null,
   "metadata": {
    "vscode": {
     "languageId": "plaintext"
    }
   },
   "outputs": [],
   "source": [
    "accuracy_df = pd.DataFrame({\n",
    "    'Tool': ['VADER', 'TextBlob'],\n",
    "    'Accuracy': [vader_accuracy, textblob_accuracy]\n",
    "})\n",
    "\n",
    "\n",
    "plt.figure(figsize=(8, 5))\n",
    "sns.barplot(x='Tool', y='Accuracy', data=accuracy_df, palette='viridis')\n",
    "plt.ylim(0, 1)  \n",
    "plt.xlabel('Sentiment Analysis Tool', fontsize=14, fontweight='bold')\n",
    "plt.ylabel('Accuracy', fontsize=14, fontweight='bold')\n",
    "plt.title('Accuracy of Sentiment Analysis Tools', fontsize=16, fontweight='bold')\n",
    "plt.grid(axis='y', linestyle='--', alpha=0.7)\n",
    "\n",
    "\n",
    "for index, value in enumerate(accuracy_df['Accuracy']):\n",
    "    plt.text(index, value + 0.02, f'{value:.2f}', ha='center', va='bottom', fontsize=12, fontweight='bold')\n",
    "\n",
    "plt.tight_layout()\n",
    "plt.show()"
   ]
  },
  {
   "cell_type": "code",
   "execution_count": null,
   "metadata": {
    "vscode": {
     "languageId": "plaintext"
    }
   },
   "outputs": [],
   "source": [
    "# Convert 'date' to datetime and extract the year\n",
    "reviews_df['year'] = pd.to_datetime(reviews_df['date'], format='%Y-%m-%d').dt.year\n",
    "\n",
    "# Number of reviews aggregated by year and sentiment\n",
    "sentiment_by_year = reviews_df.groupby(['year', 'vader_sentiment']).size().unstack(fill_value=0)\n",
    "\n",
    "sentiment_by_year"
   ]
  }
 ],
 "metadata": {
  "language_info": {
   "name": "python"
  }
 },
 "nbformat": 4,
 "nbformat_minor": 2
}
