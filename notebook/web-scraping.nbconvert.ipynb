{
 "cells": [
  {
   "cell_type": "code",
   "execution_count": 1,
   "metadata": {
    "execution": {
     "iopub.execute_input": "2024-10-15T11:28:31.148406Z",
     "iopub.status.busy": "2024-10-15T11:28:31.148101Z",
     "iopub.status.idle": "2024-10-15T11:28:31.554651Z",
     "shell.execute_reply": "2024-10-15T11:28:31.554375Z"
    }
   },
   "outputs": [],
   "source": [
    "import requests\n",
    "from bs4 import BeautifulSoup\n",
    "import pandas as pd"
   ]
  },
  {
   "cell_type": "code",
   "execution_count": 2,
   "metadata": {
    "execution": {
     "iopub.execute_input": "2024-10-15T11:28:31.556047Z",
     "iopub.status.busy": "2024-10-15T11:28:31.555919Z",
     "iopub.status.idle": "2024-10-15T11:28:31.558969Z",
     "shell.execute_reply": "2024-10-15T11:28:31.558763Z"
    }
   },
   "outputs": [],
   "source": [
    "# Function to extract review details\n",
    "# Purpose: To extract specific details (date, header, rating, content, etc.) from the `review` object\n",
    "# `review` is an HTML element from the web page\n",
    "def extract_review(review):\n",
    "    review_dict = {}\n",
    "\n",
    "    # Extract the date\n",
    "    try:\n",
    "        review_dict[\"date\"] = review.find(\"meta\").get(\"content\")\n",
    "    except AttributeError:\n",
    "        review_dict[\"date\"] = None\n",
    "\n",
    "    # Extract the header\n",
    "    header = review.find(\"h2\", {\"class\": \"text_header\"})\n",
    "    review_dict[\"header\"] = header.get_text() if header else None\n",
    "\n",
    "    # Extract the rating\n",
    "    rating = review.find(\"div\", {\"class\": \"rating-10\"})\n",
    "    review_dict[\"rating\"] = None  \n",
    "    if rating:\n",
    "        span = rating.find(\"span\")\n",
    "        if span:\n",
    "            review_dict[\"rating\"] = span.get_text()\n",
    "\n",
    "    # Extract the content\n",
    "    content = review.find(\"div\", {\"class\": \"text_content\"})\n",
    "    review_dict[\"content\"] = content.get_text().strip() if content else None\n",
    "\n",
    "    # Extract additional ratings from the table\n",
    "    table = review.find(\"table\", {\"class\": \"review-ratings\"})\n",
    "    if table:\n",
    "        data = table.find_all(\"td\")\n",
    "\n",
    "        # Separate the category names (keys) and their ratings (values)\n",
    "        keys = data[::2]\n",
    "        values = data[1::2]\n",
    "\n",
    "        for key, value in zip(keys, values):\n",
    "            key_text = key.get_text()\n",
    "            star_value = None\n",
    "\n",
    "            try:\n",
    "                star_value = value.find_all(\"span\", {\"class\": \"star fill\"})[-1]\n",
    "            except IndexError:\n",
    "                pass\n",
    "\n",
    "            if star_value:\n",
    "                review_dict[key_text] = star_value.get_text()\n",
    "            else:\n",
    "                review_dict[key_text] = value.get_text() if value else None\n",
    "\n",
    "    return review_dict\n"
   ]
  },
  {
   "cell_type": "code",
   "execution_count": 3,
   "metadata": {
    "execution": {
     "iopub.execute_input": "2024-10-15T11:28:31.559962Z",
     "iopub.status.busy": "2024-10-15T11:28:31.559889Z",
     "iopub.status.idle": "2024-10-15T11:28:31.561836Z",
     "shell.execute_reply": "2024-10-15T11:28:31.561627Z"
    }
   },
   "outputs": [],
   "source": [
    "import re\n",
    "\n",
    "# Function to get total number of pages\n",
    "def get_total_pages(url):\n",
    "    response = requests.get(url)\n",
    "    content = BeautifulSoup(response.content, \"html.parser\")\n",
    "    \n",
    "    # Find the total number of pages by looking for a page navigation element\n",
    "    pagination = content.find(\"div\", {\"class\": \"pagination-total\"})\n",
    "    if pagination:\n",
    "        total_pages_text = pagination.get_text(strip=True)\n",
    "        # Extract only numbers from the text using regular expressions\n",
    "        total_pages = re.findall(r'\\d+', total_pages_text)\n",
    "        if total_pages:\n",
    "            return int(total_pages[-1])  # Return the last number (total pages)\n",
    "    return 1"
   ]
  },
  {
   "cell_type": "code",
   "execution_count": 4,
   "metadata": {
    "execution": {
     "iopub.execute_input": "2024-10-15T11:28:31.562807Z",
     "iopub.status.busy": "2024-10-15T11:28:31.562729Z",
     "iopub.status.idle": "2024-10-15T11:28:31.565083Z",
     "shell.execute_reply": "2024-10-15T11:28:31.564873Z"
    }
   },
   "outputs": [],
   "source": [
    "# Function to scrape all pages\n",
    "def get_all_reviews(airline_url):\n",
    "    # List to store all reviews\n",
    "    reviews_list = []\n",
    "    total_pages = get_total_pages(airline_url)  # Get the total number of pages\n",
    "    print(f\"Total pages found: {total_pages}\")\n",
    "\n",
    "    for page in range(1, total_pages + 1):\n",
    "        # Request each page's URL\n",
    "        response = requests.get(f\"{airline_url}page/{page}/\")\n",
    "        content = BeautifulSoup(response.content, \"html.parser\")\n",
    "        \n",
    "        # Find all review articles\n",
    "        content_reviews = content.find_all(\"article\", class_=lambda value: value and value.startswith(\"review-\"))\n",
    "\n",
    "        if not content_reviews:  # Stop if no more reviews\n",
    "            break\n",
    "\n",
    "        # Loop through reviews and extract data, add it to the list\n",
    "        for review in content_reviews:\n",
    "            review_data = extract_review(review)\n",
    "            reviews_list.append(review_data)\n",
    "\n",
    "        print(f\"Scraped page {page} of {total_pages}\")\n",
    "\n",
    "    # Convert list of dictionaries to pandas DataFrame\n",
    "    reviews_df = pd.DataFrame(reviews_list)\n",
    "\n",
    "    # Remove rows where header or rating is missing, to improve quality of data\n",
    "    reviews_df = reviews_df.dropna(subset=['header', 'rating'])\n",
    "\n",
    "    return reviews_df\n"
   ]
  },
  {
   "cell_type": "code",
   "execution_count": 5,
   "metadata": {
    "execution": {
     "iopub.execute_input": "2024-10-15T11:28:31.566068Z",
     "iopub.status.busy": "2024-10-15T11:28:31.565991Z",
     "iopub.status.idle": "2024-10-15T11:42:05.678740Z",
     "shell.execute_reply": "2024-10-15T11:42:05.678337Z"
    }
   },
   "outputs": [
    {
     "name": "stdout",
     "output_type": "stream",
     "text": [
      "Total pages found: 868\n"
     ]
    },
    {
     "name": "stdout",
     "output_type": "stream",
     "text": [
      "Scraped page 1 of 868\n"
     ]
    },
    {
     "name": "stdout",
     "output_type": "stream",
     "text": [
      "Scraped page 2 of 868\n"
     ]
    },
    {
     "name": "stdout",
     "output_type": "stream",
     "text": [
      "Scraped page 3 of 868\n"
     ]
    },
    {
     "name": "stdout",
     "output_type": "stream",
     "text": [
      "Scraped page 4 of 868\n"
     ]
    },
    {
     "name": "stdout",
     "output_type": "stream",
     "text": [
      "Scraped page 5 of 868\n"
     ]
    },
    {
     "name": "stdout",
     "output_type": "stream",
     "text": [
      "Scraped page 6 of 868\n"
     ]
    },
    {
     "name": "stdout",
     "output_type": "stream",
     "text": [
      "Scraped page 7 of 868\n"
     ]
    },
    {
     "name": "stdout",
     "output_type": "stream",
     "text": [
      "Scraped page 8 of 868\n"
     ]
    },
    {
     "name": "stdout",
     "output_type": "stream",
     "text": [
      "Scraped page 9 of 868\n"
     ]
    },
    {
     "name": "stdout",
     "output_type": "stream",
     "text": [
      "Scraped page 10 of 868\n"
     ]
    },
    {
     "name": "stdout",
     "output_type": "stream",
     "text": [
      "Scraped page 11 of 868\n"
     ]
    },
    {
     "name": "stdout",
     "output_type": "stream",
     "text": [
      "Scraped page 12 of 868\n"
     ]
    },
    {
     "name": "stdout",
     "output_type": "stream",
     "text": [
      "Scraped page 13 of 868\n"
     ]
    },
    {
     "name": "stdout",
     "output_type": "stream",
     "text": [
      "Scraped page 14 of 868\n"
     ]
    },
    {
     "name": "stdout",
     "output_type": "stream",
     "text": [
      "Scraped page 15 of 868\n"
     ]
    },
    {
     "name": "stdout",
     "output_type": "stream",
     "text": [
      "Scraped page 16 of 868\n"
     ]
    },
    {
     "name": "stdout",
     "output_type": "stream",
     "text": [
      "Scraped page 17 of 868\n"
     ]
    },
    {
     "name": "stdout",
     "output_type": "stream",
     "text": [
      "Scraped page 18 of 868\n"
     ]
    },
    {
     "name": "stdout",
     "output_type": "stream",
     "text": [
      "Scraped page 19 of 868\n"
     ]
    },
    {
     "name": "stdout",
     "output_type": "stream",
     "text": [
      "Scraped page 20 of 868\n"
     ]
    },
    {
     "name": "stdout",
     "output_type": "stream",
     "text": [
      "Scraped page 21 of 868\n"
     ]
    },
    {
     "name": "stdout",
     "output_type": "stream",
     "text": [
      "Scraped page 22 of 868\n"
     ]
    },
    {
     "name": "stdout",
     "output_type": "stream",
     "text": [
      "Scraped page 23 of 868\n"
     ]
    },
    {
     "name": "stdout",
     "output_type": "stream",
     "text": [
      "Scraped page 24 of 868\n"
     ]
    },
    {
     "name": "stdout",
     "output_type": "stream",
     "text": [
      "Scraped page 25 of 868\n"
     ]
    },
    {
     "name": "stdout",
     "output_type": "stream",
     "text": [
      "Scraped page 26 of 868\n"
     ]
    },
    {
     "name": "stdout",
     "output_type": "stream",
     "text": [
      "Scraped page 27 of 868\n"
     ]
    },
    {
     "name": "stdout",
     "output_type": "stream",
     "text": [
      "Scraped page 28 of 868\n"
     ]
    },
    {
     "name": "stdout",
     "output_type": "stream",
     "text": [
      "Scraped page 29 of 868\n"
     ]
    },
    {
     "name": "stdout",
     "output_type": "stream",
     "text": [
      "Scraped page 30 of 868\n"
     ]
    },
    {
     "name": "stdout",
     "output_type": "stream",
     "text": [
      "Scraped page 31 of 868\n"
     ]
    },
    {
     "name": "stdout",
     "output_type": "stream",
     "text": [
      "Scraped page 32 of 868\n"
     ]
    },
    {
     "name": "stdout",
     "output_type": "stream",
     "text": [
      "Scraped page 33 of 868\n"
     ]
    },
    {
     "name": "stdout",
     "output_type": "stream",
     "text": [
      "Scraped page 34 of 868\n"
     ]
    },
    {
     "name": "stdout",
     "output_type": "stream",
     "text": [
      "Scraped page 35 of 868\n"
     ]
    },
    {
     "name": "stdout",
     "output_type": "stream",
     "text": [
      "Scraped page 36 of 868\n"
     ]
    },
    {
     "name": "stdout",
     "output_type": "stream",
     "text": [
      "Scraped page 37 of 868\n"
     ]
    },
    {
     "name": "stdout",
     "output_type": "stream",
     "text": [
      "Scraped page 38 of 868\n"
     ]
    },
    {
     "name": "stdout",
     "output_type": "stream",
     "text": [
      "Scraped page 39 of 868\n"
     ]
    },
    {
     "name": "stdout",
     "output_type": "stream",
     "text": [
      "Scraped page 40 of 868\n"
     ]
    },
    {
     "name": "stdout",
     "output_type": "stream",
     "text": [
      "Scraped page 41 of 868\n"
     ]
    },
    {
     "name": "stdout",
     "output_type": "stream",
     "text": [
      "Scraped page 42 of 868\n"
     ]
    },
    {
     "name": "stdout",
     "output_type": "stream",
     "text": [
      "Scraped page 43 of 868\n"
     ]
    },
    {
     "name": "stdout",
     "output_type": "stream",
     "text": [
      "Scraped page 44 of 868\n"
     ]
    },
    {
     "name": "stdout",
     "output_type": "stream",
     "text": [
      "Scraped page 45 of 868\n"
     ]
    },
    {
     "name": "stdout",
     "output_type": "stream",
     "text": [
      "Scraped page 46 of 868\n"
     ]
    },
    {
     "name": "stdout",
     "output_type": "stream",
     "text": [
      "Scraped page 47 of 868\n"
     ]
    },
    {
     "name": "stdout",
     "output_type": "stream",
     "text": [
      "Scraped page 48 of 868\n"
     ]
    },
    {
     "name": "stdout",
     "output_type": "stream",
     "text": [
      "Scraped page 49 of 868\n"
     ]
    },
    {
     "name": "stdout",
     "output_type": "stream",
     "text": [
      "Scraped page 50 of 868\n"
     ]
    },
    {
     "name": "stdout",
     "output_type": "stream",
     "text": [
      "Scraped page 51 of 868\n"
     ]
    },
    {
     "name": "stdout",
     "output_type": "stream",
     "text": [
      "Scraped page 52 of 868\n"
     ]
    },
    {
     "name": "stdout",
     "output_type": "stream",
     "text": [
      "Scraped page 53 of 868\n"
     ]
    },
    {
     "name": "stdout",
     "output_type": "stream",
     "text": [
      "Scraped page 54 of 868\n"
     ]
    },
    {
     "name": "stdout",
     "output_type": "stream",
     "text": [
      "Scraped page 55 of 868\n"
     ]
    },
    {
     "name": "stdout",
     "output_type": "stream",
     "text": [
      "Scraped page 56 of 868\n"
     ]
    },
    {
     "name": "stdout",
     "output_type": "stream",
     "text": [
      "Scraped page 57 of 868\n"
     ]
    },
    {
     "name": "stdout",
     "output_type": "stream",
     "text": [
      "Scraped page 58 of 868\n"
     ]
    },
    {
     "name": "stdout",
     "output_type": "stream",
     "text": [
      "Scraped page 59 of 868\n"
     ]
    },
    {
     "name": "stdout",
     "output_type": "stream",
     "text": [
      "Scraped page 60 of 868\n"
     ]
    },
    {
     "name": "stdout",
     "output_type": "stream",
     "text": [
      "Scraped page 61 of 868\n"
     ]
    },
    {
     "name": "stdout",
     "output_type": "stream",
     "text": [
      "Scraped page 62 of 868\n"
     ]
    },
    {
     "name": "stdout",
     "output_type": "stream",
     "text": [
      "Scraped page 63 of 868\n"
     ]
    },
    {
     "name": "stdout",
     "output_type": "stream",
     "text": [
      "Scraped page 64 of 868\n"
     ]
    },
    {
     "name": "stdout",
     "output_type": "stream",
     "text": [
      "Scraped page 65 of 868\n"
     ]
    },
    {
     "name": "stdout",
     "output_type": "stream",
     "text": [
      "Scraped page 66 of 868\n"
     ]
    },
    {
     "name": "stdout",
     "output_type": "stream",
     "text": [
      "Scraped page 67 of 868\n"
     ]
    },
    {
     "name": "stdout",
     "output_type": "stream",
     "text": [
      "Scraped page 68 of 868\n"
     ]
    },
    {
     "name": "stdout",
     "output_type": "stream",
     "text": [
      "Scraped page 69 of 868\n"
     ]
    },
    {
     "name": "stdout",
     "output_type": "stream",
     "text": [
      "Scraped page 70 of 868\n"
     ]
    },
    {
     "name": "stdout",
     "output_type": "stream",
     "text": [
      "Scraped page 71 of 868\n"
     ]
    },
    {
     "name": "stdout",
     "output_type": "stream",
     "text": [
      "Scraped page 72 of 868\n"
     ]
    },
    {
     "name": "stdout",
     "output_type": "stream",
     "text": [
      "Scraped page 73 of 868\n"
     ]
    },
    {
     "name": "stdout",
     "output_type": "stream",
     "text": [
      "Scraped page 74 of 868\n"
     ]
    },
    {
     "name": "stdout",
     "output_type": "stream",
     "text": [
      "Scraped page 75 of 868\n"
     ]
    },
    {
     "name": "stdout",
     "output_type": "stream",
     "text": [
      "Scraped page 76 of 868\n"
     ]
    },
    {
     "name": "stdout",
     "output_type": "stream",
     "text": [
      "Scraped page 77 of 868\n"
     ]
    },
    {
     "name": "stdout",
     "output_type": "stream",
     "text": [
      "Scraped page 78 of 868\n"
     ]
    },
    {
     "name": "stdout",
     "output_type": "stream",
     "text": [
      "Scraped page 79 of 868\n"
     ]
    },
    {
     "name": "stdout",
     "output_type": "stream",
     "text": [
      "Scraped page 80 of 868\n"
     ]
    },
    {
     "name": "stdout",
     "output_type": "stream",
     "text": [
      "Scraped page 81 of 868\n"
     ]
    },
    {
     "name": "stdout",
     "output_type": "stream",
     "text": [
      "Scraped page 82 of 868\n"
     ]
    },
    {
     "name": "stdout",
     "output_type": "stream",
     "text": [
      "Scraped page 83 of 868\n"
     ]
    },
    {
     "name": "stdout",
     "output_type": "stream",
     "text": [
      "Scraped page 84 of 868\n"
     ]
    },
    {
     "name": "stdout",
     "output_type": "stream",
     "text": [
      "Scraped page 85 of 868\n"
     ]
    },
    {
     "name": "stdout",
     "output_type": "stream",
     "text": [
      "Scraped page 86 of 868\n"
     ]
    },
    {
     "name": "stdout",
     "output_type": "stream",
     "text": [
      "Scraped page 87 of 868\n"
     ]
    },
    {
     "name": "stdout",
     "output_type": "stream",
     "text": [
      "Scraped page 88 of 868\n"
     ]
    },
    {
     "name": "stdout",
     "output_type": "stream",
     "text": [
      "Scraped page 89 of 868\n"
     ]
    },
    {
     "name": "stdout",
     "output_type": "stream",
     "text": [
      "Scraped page 90 of 868\n"
     ]
    },
    {
     "name": "stdout",
     "output_type": "stream",
     "text": [
      "Scraped page 91 of 868\n"
     ]
    },
    {
     "name": "stdout",
     "output_type": "stream",
     "text": [
      "Scraped page 92 of 868\n"
     ]
    },
    {
     "name": "stdout",
     "output_type": "stream",
     "text": [
      "Scraped page 93 of 868\n"
     ]
    },
    {
     "name": "stdout",
     "output_type": "stream",
     "text": [
      "Scraped page 94 of 868\n"
     ]
    },
    {
     "name": "stdout",
     "output_type": "stream",
     "text": [
      "Scraped page 95 of 868\n"
     ]
    },
    {
     "name": "stdout",
     "output_type": "stream",
     "text": [
      "Scraped page 96 of 868\n"
     ]
    },
    {
     "name": "stdout",
     "output_type": "stream",
     "text": [
      "Scraped page 97 of 868\n"
     ]
    },
    {
     "name": "stdout",
     "output_type": "stream",
     "text": [
      "Scraped page 98 of 868\n"
     ]
    },
    {
     "name": "stdout",
     "output_type": "stream",
     "text": [
      "Scraped page 99 of 868\n"
     ]
    },
    {
     "name": "stdout",
     "output_type": "stream",
     "text": [
      "Scraped page 100 of 868\n"
     ]
    },
    {
     "name": "stdout",
     "output_type": "stream",
     "text": [
      "Scraped page 101 of 868\n"
     ]
    },
    {
     "name": "stdout",
     "output_type": "stream",
     "text": [
      "Scraped page 102 of 868\n"
     ]
    },
    {
     "name": "stdout",
     "output_type": "stream",
     "text": [
      "Scraped page 103 of 868\n"
     ]
    },
    {
     "name": "stdout",
     "output_type": "stream",
     "text": [
      "Scraped page 104 of 868\n"
     ]
    },
    {
     "name": "stdout",
     "output_type": "stream",
     "text": [
      "Scraped page 105 of 868\n"
     ]
    },
    {
     "name": "stdout",
     "output_type": "stream",
     "text": [
      "Scraped page 106 of 868\n"
     ]
    },
    {
     "name": "stdout",
     "output_type": "stream",
     "text": [
      "Scraped page 107 of 868\n"
     ]
    },
    {
     "name": "stdout",
     "output_type": "stream",
     "text": [
      "Scraped page 108 of 868\n"
     ]
    },
    {
     "name": "stdout",
     "output_type": "stream",
     "text": [
      "Scraped page 109 of 868\n"
     ]
    },
    {
     "name": "stdout",
     "output_type": "stream",
     "text": [
      "Scraped page 110 of 868\n"
     ]
    },
    {
     "name": "stdout",
     "output_type": "stream",
     "text": [
      "Scraped page 111 of 868\n"
     ]
    },
    {
     "name": "stdout",
     "output_type": "stream",
     "text": [
      "Scraped page 112 of 868\n"
     ]
    },
    {
     "name": "stdout",
     "output_type": "stream",
     "text": [
      "Scraped page 113 of 868\n"
     ]
    },
    {
     "name": "stdout",
     "output_type": "stream",
     "text": [
      "Scraped page 114 of 868\n"
     ]
    },
    {
     "name": "stdout",
     "output_type": "stream",
     "text": [
      "Scraped page 115 of 868\n"
     ]
    },
    {
     "name": "stdout",
     "output_type": "stream",
     "text": [
      "Scraped page 116 of 868\n"
     ]
    },
    {
     "name": "stdout",
     "output_type": "stream",
     "text": [
      "Scraped page 117 of 868\n"
     ]
    },
    {
     "name": "stdout",
     "output_type": "stream",
     "text": [
      "Scraped page 118 of 868\n"
     ]
    },
    {
     "name": "stdout",
     "output_type": "stream",
     "text": [
      "Scraped page 119 of 868\n"
     ]
    },
    {
     "name": "stdout",
     "output_type": "stream",
     "text": [
      "Scraped page 120 of 868\n"
     ]
    },
    {
     "name": "stdout",
     "output_type": "stream",
     "text": [
      "Scraped page 121 of 868\n"
     ]
    },
    {
     "name": "stdout",
     "output_type": "stream",
     "text": [
      "Scraped page 122 of 868\n"
     ]
    },
    {
     "name": "stdout",
     "output_type": "stream",
     "text": [
      "Scraped page 123 of 868\n"
     ]
    },
    {
     "name": "stdout",
     "output_type": "stream",
     "text": [
      "Scraped page 124 of 868\n"
     ]
    },
    {
     "name": "stdout",
     "output_type": "stream",
     "text": [
      "Scraped page 125 of 868\n"
     ]
    },
    {
     "name": "stdout",
     "output_type": "stream",
     "text": [
      "Scraped page 126 of 868\n"
     ]
    },
    {
     "name": "stdout",
     "output_type": "stream",
     "text": [
      "Scraped page 127 of 868\n"
     ]
    },
    {
     "name": "stdout",
     "output_type": "stream",
     "text": [
      "Scraped page 128 of 868\n"
     ]
    },
    {
     "name": "stdout",
     "output_type": "stream",
     "text": [
      "Scraped page 129 of 868\n"
     ]
    },
    {
     "name": "stdout",
     "output_type": "stream",
     "text": [
      "Scraped page 130 of 868\n"
     ]
    },
    {
     "name": "stdout",
     "output_type": "stream",
     "text": [
      "Scraped page 131 of 868\n"
     ]
    },
    {
     "name": "stdout",
     "output_type": "stream",
     "text": [
      "Scraped page 132 of 868\n"
     ]
    },
    {
     "name": "stdout",
     "output_type": "stream",
     "text": [
      "Scraped page 133 of 868\n"
     ]
    },
    {
     "name": "stdout",
     "output_type": "stream",
     "text": [
      "Scraped page 134 of 868\n"
     ]
    },
    {
     "name": "stdout",
     "output_type": "stream",
     "text": [
      "Scraped page 135 of 868\n"
     ]
    },
    {
     "name": "stdout",
     "output_type": "stream",
     "text": [
      "Scraped page 136 of 868\n"
     ]
    },
    {
     "name": "stdout",
     "output_type": "stream",
     "text": [
      "Scraped page 137 of 868\n"
     ]
    },
    {
     "name": "stdout",
     "output_type": "stream",
     "text": [
      "Scraped page 138 of 868\n"
     ]
    },
    {
     "name": "stdout",
     "output_type": "stream",
     "text": [
      "Scraped page 139 of 868\n"
     ]
    },
    {
     "name": "stdout",
     "output_type": "stream",
     "text": [
      "Scraped page 140 of 868\n"
     ]
    },
    {
     "name": "stdout",
     "output_type": "stream",
     "text": [
      "Scraped page 141 of 868\n"
     ]
    },
    {
     "name": "stdout",
     "output_type": "stream",
     "text": [
      "Scraped page 142 of 868\n"
     ]
    },
    {
     "name": "stdout",
     "output_type": "stream",
     "text": [
      "Scraped page 143 of 868\n"
     ]
    },
    {
     "name": "stdout",
     "output_type": "stream",
     "text": [
      "Scraped page 144 of 868\n"
     ]
    },
    {
     "name": "stdout",
     "output_type": "stream",
     "text": [
      "Scraped page 145 of 868\n"
     ]
    },
    {
     "name": "stdout",
     "output_type": "stream",
     "text": [
      "Scraped page 146 of 868\n"
     ]
    },
    {
     "name": "stdout",
     "output_type": "stream",
     "text": [
      "Scraped page 147 of 868\n"
     ]
    },
    {
     "name": "stdout",
     "output_type": "stream",
     "text": [
      "Scraped page 148 of 868\n"
     ]
    },
    {
     "name": "stdout",
     "output_type": "stream",
     "text": [
      "Scraped page 149 of 868\n"
     ]
    },
    {
     "name": "stdout",
     "output_type": "stream",
     "text": [
      "Scraped page 150 of 868\n"
     ]
    },
    {
     "name": "stdout",
     "output_type": "stream",
     "text": [
      "Scraped page 151 of 868\n"
     ]
    },
    {
     "name": "stdout",
     "output_type": "stream",
     "text": [
      "Scraped page 152 of 868\n"
     ]
    },
    {
     "name": "stdout",
     "output_type": "stream",
     "text": [
      "Scraped page 153 of 868\n"
     ]
    },
    {
     "name": "stdout",
     "output_type": "stream",
     "text": [
      "Scraped page 154 of 868\n"
     ]
    },
    {
     "name": "stdout",
     "output_type": "stream",
     "text": [
      "Scraped page 155 of 868\n"
     ]
    },
    {
     "name": "stdout",
     "output_type": "stream",
     "text": [
      "Scraped page 156 of 868\n"
     ]
    },
    {
     "name": "stdout",
     "output_type": "stream",
     "text": [
      "Scraped page 157 of 868\n"
     ]
    },
    {
     "name": "stdout",
     "output_type": "stream",
     "text": [
      "Scraped page 158 of 868\n"
     ]
    },
    {
     "name": "stdout",
     "output_type": "stream",
     "text": [
      "Scraped page 159 of 868\n"
     ]
    },
    {
     "name": "stdout",
     "output_type": "stream",
     "text": [
      "Scraped page 160 of 868\n"
     ]
    },
    {
     "name": "stdout",
     "output_type": "stream",
     "text": [
      "Scraped page 161 of 868\n"
     ]
    },
    {
     "name": "stdout",
     "output_type": "stream",
     "text": [
      "Scraped page 162 of 868\n"
     ]
    },
    {
     "name": "stdout",
     "output_type": "stream",
     "text": [
      "Scraped page 163 of 868\n"
     ]
    },
    {
     "name": "stdout",
     "output_type": "stream",
     "text": [
      "Scraped page 164 of 868\n"
     ]
    },
    {
     "name": "stdout",
     "output_type": "stream",
     "text": [
      "Scraped page 165 of 868\n"
     ]
    },
    {
     "name": "stdout",
     "output_type": "stream",
     "text": [
      "Scraped page 166 of 868\n"
     ]
    },
    {
     "name": "stdout",
     "output_type": "stream",
     "text": [
      "Scraped page 167 of 868\n"
     ]
    },
    {
     "name": "stdout",
     "output_type": "stream",
     "text": [
      "Scraped page 168 of 868\n"
     ]
    },
    {
     "name": "stdout",
     "output_type": "stream",
     "text": [
      "Scraped page 169 of 868\n"
     ]
    },
    {
     "name": "stdout",
     "output_type": "stream",
     "text": [
      "Scraped page 170 of 868\n"
     ]
    },
    {
     "name": "stdout",
     "output_type": "stream",
     "text": [
      "Scraped page 171 of 868\n"
     ]
    },
    {
     "name": "stdout",
     "output_type": "stream",
     "text": [
      "Scraped page 172 of 868\n"
     ]
    },
    {
     "name": "stdout",
     "output_type": "stream",
     "text": [
      "Scraped page 173 of 868\n"
     ]
    },
    {
     "name": "stdout",
     "output_type": "stream",
     "text": [
      "Scraped page 174 of 868\n"
     ]
    },
    {
     "name": "stdout",
     "output_type": "stream",
     "text": [
      "Scraped page 175 of 868\n"
     ]
    },
    {
     "name": "stdout",
     "output_type": "stream",
     "text": [
      "Scraped page 176 of 868\n"
     ]
    },
    {
     "name": "stdout",
     "output_type": "stream",
     "text": [
      "Scraped page 177 of 868\n"
     ]
    },
    {
     "name": "stdout",
     "output_type": "stream",
     "text": [
      "Scraped page 178 of 868\n"
     ]
    },
    {
     "name": "stdout",
     "output_type": "stream",
     "text": [
      "Scraped page 179 of 868\n"
     ]
    },
    {
     "name": "stdout",
     "output_type": "stream",
     "text": [
      "Scraped page 180 of 868\n"
     ]
    },
    {
     "name": "stdout",
     "output_type": "stream",
     "text": [
      "Scraped page 181 of 868\n"
     ]
    },
    {
     "name": "stdout",
     "output_type": "stream",
     "text": [
      "Scraped page 182 of 868\n"
     ]
    },
    {
     "name": "stdout",
     "output_type": "stream",
     "text": [
      "Scraped page 183 of 868\n"
     ]
    },
    {
     "name": "stdout",
     "output_type": "stream",
     "text": [
      "Scraped page 184 of 868\n"
     ]
    },
    {
     "name": "stdout",
     "output_type": "stream",
     "text": [
      "Scraped page 185 of 868\n"
     ]
    },
    {
     "name": "stdout",
     "output_type": "stream",
     "text": [
      "Scraped page 186 of 868\n"
     ]
    },
    {
     "name": "stdout",
     "output_type": "stream",
     "text": [
      "Scraped page 187 of 868\n"
     ]
    },
    {
     "name": "stdout",
     "output_type": "stream",
     "text": [
      "Scraped page 188 of 868\n"
     ]
    },
    {
     "name": "stdout",
     "output_type": "stream",
     "text": [
      "Scraped page 189 of 868\n"
     ]
    },
    {
     "name": "stdout",
     "output_type": "stream",
     "text": [
      "Scraped page 190 of 868\n"
     ]
    },
    {
     "name": "stdout",
     "output_type": "stream",
     "text": [
      "Scraped page 191 of 868\n"
     ]
    },
    {
     "name": "stdout",
     "output_type": "stream",
     "text": [
      "Scraped page 192 of 868\n"
     ]
    },
    {
     "name": "stdout",
     "output_type": "stream",
     "text": [
      "Scraped page 193 of 868\n"
     ]
    },
    {
     "name": "stdout",
     "output_type": "stream",
     "text": [
      "Scraped page 194 of 868\n"
     ]
    },
    {
     "name": "stdout",
     "output_type": "stream",
     "text": [
      "Scraped page 195 of 868\n"
     ]
    },
    {
     "name": "stdout",
     "output_type": "stream",
     "text": [
      "Scraped page 196 of 868\n"
     ]
    },
    {
     "name": "stdout",
     "output_type": "stream",
     "text": [
      "Scraped page 197 of 868\n"
     ]
    },
    {
     "name": "stdout",
     "output_type": "stream",
     "text": [
      "Scraped page 198 of 868\n"
     ]
    },
    {
     "name": "stdout",
     "output_type": "stream",
     "text": [
      "Scraped page 199 of 868\n"
     ]
    },
    {
     "name": "stdout",
     "output_type": "stream",
     "text": [
      "Scraped page 200 of 868\n"
     ]
    },
    {
     "name": "stdout",
     "output_type": "stream",
     "text": [
      "Scraped page 201 of 868\n"
     ]
    },
    {
     "name": "stdout",
     "output_type": "stream",
     "text": [
      "Scraped page 202 of 868\n"
     ]
    },
    {
     "name": "stdout",
     "output_type": "stream",
     "text": [
      "Scraped page 203 of 868\n"
     ]
    },
    {
     "name": "stdout",
     "output_type": "stream",
     "text": [
      "Scraped page 204 of 868\n"
     ]
    },
    {
     "name": "stdout",
     "output_type": "stream",
     "text": [
      "Scraped page 205 of 868\n"
     ]
    },
    {
     "name": "stdout",
     "output_type": "stream",
     "text": [
      "Scraped page 206 of 868\n"
     ]
    },
    {
     "name": "stdout",
     "output_type": "stream",
     "text": [
      "Scraped page 207 of 868\n"
     ]
    },
    {
     "name": "stdout",
     "output_type": "stream",
     "text": [
      "Scraped page 208 of 868\n"
     ]
    },
    {
     "name": "stdout",
     "output_type": "stream",
     "text": [
      "Scraped page 209 of 868\n"
     ]
    },
    {
     "name": "stdout",
     "output_type": "stream",
     "text": [
      "Scraped page 210 of 868\n"
     ]
    },
    {
     "name": "stdout",
     "output_type": "stream",
     "text": [
      "Scraped page 211 of 868\n"
     ]
    },
    {
     "name": "stdout",
     "output_type": "stream",
     "text": [
      "Scraped page 212 of 868\n"
     ]
    },
    {
     "name": "stdout",
     "output_type": "stream",
     "text": [
      "Scraped page 213 of 868\n"
     ]
    },
    {
     "name": "stdout",
     "output_type": "stream",
     "text": [
      "Scraped page 214 of 868\n"
     ]
    },
    {
     "name": "stdout",
     "output_type": "stream",
     "text": [
      "Scraped page 215 of 868\n"
     ]
    },
    {
     "name": "stdout",
     "output_type": "stream",
     "text": [
      "Scraped page 216 of 868\n"
     ]
    },
    {
     "name": "stdout",
     "output_type": "stream",
     "text": [
      "Scraped page 217 of 868\n"
     ]
    },
    {
     "name": "stdout",
     "output_type": "stream",
     "text": [
      "Scraped page 218 of 868\n"
     ]
    },
    {
     "name": "stdout",
     "output_type": "stream",
     "text": [
      "Scraped page 219 of 868\n"
     ]
    },
    {
     "name": "stdout",
     "output_type": "stream",
     "text": [
      "Scraped page 220 of 868\n"
     ]
    },
    {
     "name": "stdout",
     "output_type": "stream",
     "text": [
      "Scraped page 221 of 868\n"
     ]
    },
    {
     "name": "stdout",
     "output_type": "stream",
     "text": [
      "Scraped page 222 of 868\n"
     ]
    },
    {
     "name": "stdout",
     "output_type": "stream",
     "text": [
      "Scraped page 223 of 868\n"
     ]
    },
    {
     "name": "stdout",
     "output_type": "stream",
     "text": [
      "Scraped page 224 of 868\n"
     ]
    },
    {
     "name": "stdout",
     "output_type": "stream",
     "text": [
      "Scraped page 225 of 868\n"
     ]
    },
    {
     "name": "stdout",
     "output_type": "stream",
     "text": [
      "Scraped page 226 of 868\n"
     ]
    },
    {
     "name": "stdout",
     "output_type": "stream",
     "text": [
      "Scraped page 227 of 868\n"
     ]
    },
    {
     "name": "stdout",
     "output_type": "stream",
     "text": [
      "Scraped page 228 of 868\n"
     ]
    },
    {
     "name": "stdout",
     "output_type": "stream",
     "text": [
      "Scraped page 229 of 868\n"
     ]
    },
    {
     "name": "stdout",
     "output_type": "stream",
     "text": [
      "Scraped page 230 of 868\n"
     ]
    },
    {
     "name": "stdout",
     "output_type": "stream",
     "text": [
      "Scraped page 231 of 868\n"
     ]
    },
    {
     "name": "stdout",
     "output_type": "stream",
     "text": [
      "Scraped page 232 of 868\n"
     ]
    },
    {
     "name": "stdout",
     "output_type": "stream",
     "text": [
      "Scraped page 233 of 868\n"
     ]
    },
    {
     "name": "stdout",
     "output_type": "stream",
     "text": [
      "Scraped page 234 of 868\n"
     ]
    },
    {
     "name": "stdout",
     "output_type": "stream",
     "text": [
      "Scraped page 235 of 868\n"
     ]
    },
    {
     "name": "stdout",
     "output_type": "stream",
     "text": [
      "Scraped page 236 of 868\n"
     ]
    },
    {
     "name": "stdout",
     "output_type": "stream",
     "text": [
      "Scraped page 237 of 868\n"
     ]
    },
    {
     "name": "stdout",
     "output_type": "stream",
     "text": [
      "Scraped page 238 of 868\n"
     ]
    },
    {
     "name": "stdout",
     "output_type": "stream",
     "text": [
      "Scraped page 239 of 868\n"
     ]
    },
    {
     "name": "stdout",
     "output_type": "stream",
     "text": [
      "Scraped page 240 of 868\n"
     ]
    },
    {
     "name": "stdout",
     "output_type": "stream",
     "text": [
      "Scraped page 241 of 868\n"
     ]
    },
    {
     "name": "stdout",
     "output_type": "stream",
     "text": [
      "Scraped page 242 of 868\n"
     ]
    },
    {
     "name": "stdout",
     "output_type": "stream",
     "text": [
      "Scraped page 243 of 868\n"
     ]
    },
    {
     "name": "stdout",
     "output_type": "stream",
     "text": [
      "Scraped page 244 of 868\n"
     ]
    },
    {
     "name": "stdout",
     "output_type": "stream",
     "text": [
      "Scraped page 245 of 868\n"
     ]
    },
    {
     "name": "stdout",
     "output_type": "stream",
     "text": [
      "Scraped page 246 of 868\n"
     ]
    },
    {
     "name": "stdout",
     "output_type": "stream",
     "text": [
      "Scraped page 247 of 868\n"
     ]
    },
    {
     "name": "stdout",
     "output_type": "stream",
     "text": [
      "Scraped page 248 of 868\n"
     ]
    },
    {
     "name": "stdout",
     "output_type": "stream",
     "text": [
      "Scraped page 249 of 868\n"
     ]
    },
    {
     "name": "stdout",
     "output_type": "stream",
     "text": [
      "Scraped page 250 of 868\n"
     ]
    },
    {
     "name": "stdout",
     "output_type": "stream",
     "text": [
      "Scraped page 251 of 868\n"
     ]
    },
    {
     "name": "stdout",
     "output_type": "stream",
     "text": [
      "Scraped page 252 of 868\n"
     ]
    },
    {
     "name": "stdout",
     "output_type": "stream",
     "text": [
      "Scraped page 253 of 868\n"
     ]
    },
    {
     "name": "stdout",
     "output_type": "stream",
     "text": [
      "Scraped page 254 of 868\n"
     ]
    },
    {
     "name": "stdout",
     "output_type": "stream",
     "text": [
      "Scraped page 255 of 868\n"
     ]
    },
    {
     "name": "stdout",
     "output_type": "stream",
     "text": [
      "Scraped page 256 of 868\n"
     ]
    },
    {
     "name": "stdout",
     "output_type": "stream",
     "text": [
      "Scraped page 257 of 868\n"
     ]
    },
    {
     "name": "stdout",
     "output_type": "stream",
     "text": [
      "Scraped page 258 of 868\n"
     ]
    },
    {
     "name": "stdout",
     "output_type": "stream",
     "text": [
      "Scraped page 259 of 868\n"
     ]
    },
    {
     "name": "stdout",
     "output_type": "stream",
     "text": [
      "Scraped page 260 of 868\n"
     ]
    },
    {
     "name": "stdout",
     "output_type": "stream",
     "text": [
      "Scraped page 261 of 868\n"
     ]
    },
    {
     "name": "stdout",
     "output_type": "stream",
     "text": [
      "Scraped page 262 of 868\n"
     ]
    },
    {
     "name": "stdout",
     "output_type": "stream",
     "text": [
      "Scraped page 263 of 868\n"
     ]
    },
    {
     "name": "stdout",
     "output_type": "stream",
     "text": [
      "Scraped page 264 of 868\n"
     ]
    },
    {
     "name": "stdout",
     "output_type": "stream",
     "text": [
      "Scraped page 265 of 868\n"
     ]
    },
    {
     "name": "stdout",
     "output_type": "stream",
     "text": [
      "Scraped page 266 of 868\n"
     ]
    },
    {
     "name": "stdout",
     "output_type": "stream",
     "text": [
      "Scraped page 267 of 868\n"
     ]
    },
    {
     "name": "stdout",
     "output_type": "stream",
     "text": [
      "Scraped page 268 of 868\n"
     ]
    },
    {
     "name": "stdout",
     "output_type": "stream",
     "text": [
      "Scraped page 269 of 868\n"
     ]
    },
    {
     "name": "stdout",
     "output_type": "stream",
     "text": [
      "Scraped page 270 of 868\n"
     ]
    },
    {
     "name": "stdout",
     "output_type": "stream",
     "text": [
      "Scraped page 271 of 868\n"
     ]
    },
    {
     "name": "stdout",
     "output_type": "stream",
     "text": [
      "Scraped page 272 of 868\n"
     ]
    },
    {
     "name": "stdout",
     "output_type": "stream",
     "text": [
      "Scraped page 273 of 868\n"
     ]
    },
    {
     "name": "stdout",
     "output_type": "stream",
     "text": [
      "Scraped page 274 of 868\n"
     ]
    },
    {
     "name": "stdout",
     "output_type": "stream",
     "text": [
      "Scraped page 275 of 868\n"
     ]
    },
    {
     "name": "stdout",
     "output_type": "stream",
     "text": [
      "Scraped page 276 of 868\n"
     ]
    },
    {
     "name": "stdout",
     "output_type": "stream",
     "text": [
      "Scraped page 277 of 868\n"
     ]
    },
    {
     "name": "stdout",
     "output_type": "stream",
     "text": [
      "Scraped page 278 of 868\n"
     ]
    },
    {
     "name": "stdout",
     "output_type": "stream",
     "text": [
      "Scraped page 279 of 868\n"
     ]
    },
    {
     "name": "stdout",
     "output_type": "stream",
     "text": [
      "Scraped page 280 of 868\n"
     ]
    },
    {
     "name": "stdout",
     "output_type": "stream",
     "text": [
      "Scraped page 281 of 868\n"
     ]
    },
    {
     "name": "stdout",
     "output_type": "stream",
     "text": [
      "Scraped page 282 of 868\n"
     ]
    },
    {
     "name": "stdout",
     "output_type": "stream",
     "text": [
      "Scraped page 283 of 868\n"
     ]
    },
    {
     "name": "stdout",
     "output_type": "stream",
     "text": [
      "Scraped page 284 of 868\n"
     ]
    },
    {
     "name": "stdout",
     "output_type": "stream",
     "text": [
      "Scraped page 285 of 868\n"
     ]
    },
    {
     "name": "stdout",
     "output_type": "stream",
     "text": [
      "Scraped page 286 of 868\n"
     ]
    },
    {
     "name": "stdout",
     "output_type": "stream",
     "text": [
      "Scraped page 287 of 868\n"
     ]
    },
    {
     "name": "stdout",
     "output_type": "stream",
     "text": [
      "Scraped page 288 of 868\n"
     ]
    },
    {
     "name": "stdout",
     "output_type": "stream",
     "text": [
      "Scraped page 289 of 868\n"
     ]
    },
    {
     "name": "stdout",
     "output_type": "stream",
     "text": [
      "Scraped page 290 of 868\n"
     ]
    },
    {
     "name": "stdout",
     "output_type": "stream",
     "text": [
      "Scraped page 291 of 868\n"
     ]
    },
    {
     "name": "stdout",
     "output_type": "stream",
     "text": [
      "Scraped page 292 of 868\n"
     ]
    },
    {
     "name": "stdout",
     "output_type": "stream",
     "text": [
      "Scraped page 293 of 868\n"
     ]
    },
    {
     "name": "stdout",
     "output_type": "stream",
     "text": [
      "Scraped page 294 of 868\n"
     ]
    },
    {
     "name": "stdout",
     "output_type": "stream",
     "text": [
      "Scraped page 295 of 868\n"
     ]
    },
    {
     "name": "stdout",
     "output_type": "stream",
     "text": [
      "Scraped page 296 of 868\n"
     ]
    },
    {
     "name": "stdout",
     "output_type": "stream",
     "text": [
      "Scraped page 297 of 868\n"
     ]
    },
    {
     "name": "stdout",
     "output_type": "stream",
     "text": [
      "Scraped page 298 of 868\n"
     ]
    },
    {
     "name": "stdout",
     "output_type": "stream",
     "text": [
      "Scraped page 299 of 868\n"
     ]
    },
    {
     "name": "stdout",
     "output_type": "stream",
     "text": [
      "Scraped page 300 of 868\n"
     ]
    },
    {
     "name": "stdout",
     "output_type": "stream",
     "text": [
      "Scraped page 301 of 868\n"
     ]
    },
    {
     "name": "stdout",
     "output_type": "stream",
     "text": [
      "Scraped page 302 of 868\n"
     ]
    },
    {
     "name": "stdout",
     "output_type": "stream",
     "text": [
      "Scraped page 303 of 868\n"
     ]
    },
    {
     "name": "stdout",
     "output_type": "stream",
     "text": [
      "Scraped page 304 of 868\n"
     ]
    },
    {
     "name": "stdout",
     "output_type": "stream",
     "text": [
      "Scraped page 305 of 868\n"
     ]
    },
    {
     "name": "stdout",
     "output_type": "stream",
     "text": [
      "Scraped page 306 of 868\n"
     ]
    },
    {
     "name": "stdout",
     "output_type": "stream",
     "text": [
      "Scraped page 307 of 868\n"
     ]
    },
    {
     "name": "stdout",
     "output_type": "stream",
     "text": [
      "Scraped page 308 of 868\n"
     ]
    },
    {
     "name": "stdout",
     "output_type": "stream",
     "text": [
      "Scraped page 309 of 868\n"
     ]
    },
    {
     "name": "stdout",
     "output_type": "stream",
     "text": [
      "Scraped page 310 of 868\n"
     ]
    },
    {
     "name": "stdout",
     "output_type": "stream",
     "text": [
      "Scraped page 311 of 868\n"
     ]
    },
    {
     "name": "stdout",
     "output_type": "stream",
     "text": [
      "Scraped page 312 of 868\n"
     ]
    },
    {
     "name": "stdout",
     "output_type": "stream",
     "text": [
      "Scraped page 313 of 868\n"
     ]
    },
    {
     "name": "stdout",
     "output_type": "stream",
     "text": [
      "Scraped page 314 of 868\n"
     ]
    },
    {
     "name": "stdout",
     "output_type": "stream",
     "text": [
      "Scraped page 315 of 868\n"
     ]
    },
    {
     "name": "stdout",
     "output_type": "stream",
     "text": [
      "Scraped page 316 of 868\n"
     ]
    },
    {
     "name": "stdout",
     "output_type": "stream",
     "text": [
      "Scraped page 317 of 868\n"
     ]
    },
    {
     "name": "stdout",
     "output_type": "stream",
     "text": [
      "Scraped page 318 of 868\n"
     ]
    },
    {
     "name": "stdout",
     "output_type": "stream",
     "text": [
      "Scraped page 319 of 868\n"
     ]
    },
    {
     "name": "stdout",
     "output_type": "stream",
     "text": [
      "Scraped page 320 of 868\n"
     ]
    },
    {
     "name": "stdout",
     "output_type": "stream",
     "text": [
      "Scraped page 321 of 868\n"
     ]
    },
    {
     "name": "stdout",
     "output_type": "stream",
     "text": [
      "Scraped page 322 of 868\n"
     ]
    },
    {
     "name": "stdout",
     "output_type": "stream",
     "text": [
      "Scraped page 323 of 868\n"
     ]
    },
    {
     "name": "stdout",
     "output_type": "stream",
     "text": [
      "Scraped page 324 of 868\n"
     ]
    },
    {
     "name": "stdout",
     "output_type": "stream",
     "text": [
      "Scraped page 325 of 868\n"
     ]
    },
    {
     "name": "stdout",
     "output_type": "stream",
     "text": [
      "Scraped page 326 of 868\n"
     ]
    },
    {
     "name": "stdout",
     "output_type": "stream",
     "text": [
      "Scraped page 327 of 868\n"
     ]
    },
    {
     "name": "stdout",
     "output_type": "stream",
     "text": [
      "Scraped page 328 of 868\n"
     ]
    },
    {
     "name": "stdout",
     "output_type": "stream",
     "text": [
      "Scraped page 329 of 868\n"
     ]
    },
    {
     "name": "stdout",
     "output_type": "stream",
     "text": [
      "Scraped page 330 of 868\n"
     ]
    },
    {
     "name": "stdout",
     "output_type": "stream",
     "text": [
      "Scraped page 331 of 868\n"
     ]
    },
    {
     "name": "stdout",
     "output_type": "stream",
     "text": [
      "Scraped page 332 of 868\n"
     ]
    },
    {
     "name": "stdout",
     "output_type": "stream",
     "text": [
      "Scraped page 333 of 868\n"
     ]
    },
    {
     "name": "stdout",
     "output_type": "stream",
     "text": [
      "Scraped page 334 of 868\n"
     ]
    },
    {
     "name": "stdout",
     "output_type": "stream",
     "text": [
      "Scraped page 335 of 868\n"
     ]
    },
    {
     "name": "stdout",
     "output_type": "stream",
     "text": [
      "Scraped page 336 of 868\n"
     ]
    },
    {
     "name": "stdout",
     "output_type": "stream",
     "text": [
      "Scraped page 337 of 868\n"
     ]
    },
    {
     "name": "stdout",
     "output_type": "stream",
     "text": [
      "Scraped page 338 of 868\n"
     ]
    },
    {
     "name": "stdout",
     "output_type": "stream",
     "text": [
      "Scraped page 339 of 868\n"
     ]
    },
    {
     "name": "stdout",
     "output_type": "stream",
     "text": [
      "Scraped page 340 of 868\n"
     ]
    },
    {
     "name": "stdout",
     "output_type": "stream",
     "text": [
      "Scraped page 341 of 868\n"
     ]
    },
    {
     "name": "stdout",
     "output_type": "stream",
     "text": [
      "Scraped page 342 of 868\n"
     ]
    },
    {
     "name": "stdout",
     "output_type": "stream",
     "text": [
      "Scraped page 343 of 868\n"
     ]
    },
    {
     "name": "stdout",
     "output_type": "stream",
     "text": [
      "Scraped page 344 of 868\n"
     ]
    },
    {
     "name": "stdout",
     "output_type": "stream",
     "text": [
      "Scraped page 345 of 868\n"
     ]
    },
    {
     "name": "stdout",
     "output_type": "stream",
     "text": [
      "Scraped page 346 of 868\n"
     ]
    },
    {
     "name": "stdout",
     "output_type": "stream",
     "text": [
      "Scraped page 347 of 868\n"
     ]
    },
    {
     "name": "stdout",
     "output_type": "stream",
     "text": [
      "Scraped page 348 of 868\n"
     ]
    },
    {
     "name": "stdout",
     "output_type": "stream",
     "text": [
      "Scraped page 349 of 868\n"
     ]
    },
    {
     "name": "stdout",
     "output_type": "stream",
     "text": [
      "Scraped page 350 of 868\n"
     ]
    },
    {
     "name": "stdout",
     "output_type": "stream",
     "text": [
      "Scraped page 351 of 868\n"
     ]
    },
    {
     "name": "stdout",
     "output_type": "stream",
     "text": [
      "Scraped page 352 of 868\n"
     ]
    },
    {
     "name": "stdout",
     "output_type": "stream",
     "text": [
      "Scraped page 353 of 868\n"
     ]
    },
    {
     "name": "stdout",
     "output_type": "stream",
     "text": [
      "Scraped page 354 of 868\n"
     ]
    },
    {
     "name": "stdout",
     "output_type": "stream",
     "text": [
      "Scraped page 355 of 868\n"
     ]
    },
    {
     "name": "stdout",
     "output_type": "stream",
     "text": [
      "Scraped page 356 of 868\n"
     ]
    },
    {
     "name": "stdout",
     "output_type": "stream",
     "text": [
      "Scraped page 357 of 868\n"
     ]
    },
    {
     "name": "stdout",
     "output_type": "stream",
     "text": [
      "Scraped page 358 of 868\n"
     ]
    },
    {
     "name": "stdout",
     "output_type": "stream",
     "text": [
      "Scraped page 359 of 868\n"
     ]
    },
    {
     "name": "stdout",
     "output_type": "stream",
     "text": [
      "Scraped page 360 of 868\n"
     ]
    },
    {
     "name": "stdout",
     "output_type": "stream",
     "text": [
      "Scraped page 361 of 868\n"
     ]
    },
    {
     "name": "stdout",
     "output_type": "stream",
     "text": [
      "Scraped page 362 of 868\n"
     ]
    },
    {
     "name": "stdout",
     "output_type": "stream",
     "text": [
      "Scraped page 363 of 868\n"
     ]
    },
    {
     "name": "stdout",
     "output_type": "stream",
     "text": [
      "Scraped page 364 of 868\n"
     ]
    },
    {
     "name": "stdout",
     "output_type": "stream",
     "text": [
      "Scraped page 365 of 868\n"
     ]
    },
    {
     "name": "stdout",
     "output_type": "stream",
     "text": [
      "Scraped page 366 of 868\n"
     ]
    },
    {
     "name": "stdout",
     "output_type": "stream",
     "text": [
      "Scraped page 367 of 868\n"
     ]
    },
    {
     "name": "stdout",
     "output_type": "stream",
     "text": [
      "Scraped page 368 of 868\n"
     ]
    },
    {
     "name": "stdout",
     "output_type": "stream",
     "text": [
      "Scraped page 369 of 868\n"
     ]
    },
    {
     "name": "stdout",
     "output_type": "stream",
     "text": [
      "Scraped page 370 of 868\n"
     ]
    },
    {
     "name": "stdout",
     "output_type": "stream",
     "text": [
      "Scraped page 371 of 868\n"
     ]
    },
    {
     "name": "stdout",
     "output_type": "stream",
     "text": [
      "Scraped page 372 of 868\n"
     ]
    },
    {
     "name": "stdout",
     "output_type": "stream",
     "text": [
      "Scraped page 373 of 868\n"
     ]
    },
    {
     "name": "stdout",
     "output_type": "stream",
     "text": [
      "Scraped page 374 of 868\n"
     ]
    },
    {
     "name": "stdout",
     "output_type": "stream",
     "text": [
      "Scraped page 375 of 868\n"
     ]
    },
    {
     "name": "stdout",
     "output_type": "stream",
     "text": [
      "Scraped page 376 of 868\n"
     ]
    },
    {
     "name": "stdout",
     "output_type": "stream",
     "text": [
      "Scraped page 377 of 868\n"
     ]
    },
    {
     "name": "stdout",
     "output_type": "stream",
     "text": [
      "Scraped page 378 of 868\n"
     ]
    },
    {
     "name": "stdout",
     "output_type": "stream",
     "text": [
      "Scraped page 379 of 868\n"
     ]
    },
    {
     "name": "stdout",
     "output_type": "stream",
     "text": [
      "Scraped page 380 of 868\n"
     ]
    },
    {
     "name": "stdout",
     "output_type": "stream",
     "text": [
      "Scraped page 381 of 868\n"
     ]
    },
    {
     "name": "stdout",
     "output_type": "stream",
     "text": [
      "Scraped page 382 of 868\n"
     ]
    },
    {
     "name": "stdout",
     "output_type": "stream",
     "text": [
      "Scraped page 383 of 868\n"
     ]
    },
    {
     "name": "stdout",
     "output_type": "stream",
     "text": [
      "Scraped page 384 of 868\n"
     ]
    },
    {
     "name": "stdout",
     "output_type": "stream",
     "text": [
      "Scraped page 385 of 868\n"
     ]
    },
    {
     "name": "stdout",
     "output_type": "stream",
     "text": [
      "Scraped page 386 of 868\n"
     ]
    },
    {
     "name": "stdout",
     "output_type": "stream",
     "text": [
      "Scraped page 387 of 868\n"
     ]
    },
    {
     "name": "stdout",
     "output_type": "stream",
     "text": [
      "Scraped page 388 of 868\n"
     ]
    },
    {
     "name": "stdout",
     "output_type": "stream",
     "text": [
      "Scraped page 389 of 868\n"
     ]
    },
    {
     "name": "stdout",
     "output_type": "stream",
     "text": [
      "Scraped page 390 of 868\n"
     ]
    },
    {
     "name": "stdout",
     "output_type": "stream",
     "text": [
      "Scraped page 391 of 868\n"
     ]
    },
    {
     "name": "stdout",
     "output_type": "stream",
     "text": [
      "Scraped page 392 of 868\n"
     ]
    },
    {
     "name": "stdout",
     "output_type": "stream",
     "text": [
      "Scraped page 393 of 868\n"
     ]
    },
    {
     "name": "stdout",
     "output_type": "stream",
     "text": [
      "Scraped page 394 of 868\n"
     ]
    },
    {
     "name": "stdout",
     "output_type": "stream",
     "text": [
      "Scraped page 395 of 868\n"
     ]
    },
    {
     "name": "stdout",
     "output_type": "stream",
     "text": [
      "Scraped page 396 of 868\n"
     ]
    },
    {
     "name": "stdout",
     "output_type": "stream",
     "text": [
      "Scraped page 397 of 868\n"
     ]
    },
    {
     "name": "stdout",
     "output_type": "stream",
     "text": [
      "Scraped page 398 of 868\n"
     ]
    },
    {
     "name": "stdout",
     "output_type": "stream",
     "text": [
      "Scraped page 399 of 868\n"
     ]
    },
    {
     "name": "stdout",
     "output_type": "stream",
     "text": [
      "Scraped page 400 of 868\n"
     ]
    },
    {
     "name": "stdout",
     "output_type": "stream",
     "text": [
      "Scraped page 401 of 868\n"
     ]
    },
    {
     "name": "stdout",
     "output_type": "stream",
     "text": [
      "Scraped page 402 of 868\n"
     ]
    },
    {
     "name": "stdout",
     "output_type": "stream",
     "text": [
      "Scraped page 403 of 868\n"
     ]
    },
    {
     "name": "stdout",
     "output_type": "stream",
     "text": [
      "Scraped page 404 of 868\n"
     ]
    },
    {
     "name": "stdout",
     "output_type": "stream",
     "text": [
      "Scraped page 405 of 868\n"
     ]
    },
    {
     "name": "stdout",
     "output_type": "stream",
     "text": [
      "Scraped page 406 of 868\n"
     ]
    },
    {
     "name": "stdout",
     "output_type": "stream",
     "text": [
      "Scraped page 407 of 868\n"
     ]
    },
    {
     "name": "stdout",
     "output_type": "stream",
     "text": [
      "Scraped page 408 of 868\n"
     ]
    },
    {
     "name": "stdout",
     "output_type": "stream",
     "text": [
      "Scraped page 409 of 868\n"
     ]
    },
    {
     "name": "stdout",
     "output_type": "stream",
     "text": [
      "Scraped page 410 of 868\n"
     ]
    },
    {
     "name": "stdout",
     "output_type": "stream",
     "text": [
      "Scraped page 411 of 868\n"
     ]
    },
    {
     "name": "stdout",
     "output_type": "stream",
     "text": [
      "Scraped page 412 of 868\n"
     ]
    },
    {
     "name": "stdout",
     "output_type": "stream",
     "text": [
      "Scraped page 413 of 868\n"
     ]
    },
    {
     "name": "stdout",
     "output_type": "stream",
     "text": [
      "Scraped page 414 of 868\n"
     ]
    },
    {
     "name": "stdout",
     "output_type": "stream",
     "text": [
      "Scraped page 415 of 868\n"
     ]
    },
    {
     "name": "stdout",
     "output_type": "stream",
     "text": [
      "Scraped page 416 of 868\n"
     ]
    },
    {
     "name": "stdout",
     "output_type": "stream",
     "text": [
      "Scraped page 417 of 868\n"
     ]
    },
    {
     "name": "stdout",
     "output_type": "stream",
     "text": [
      "Scraped page 418 of 868\n"
     ]
    },
    {
     "name": "stdout",
     "output_type": "stream",
     "text": [
      "Scraped page 419 of 868\n"
     ]
    },
    {
     "name": "stdout",
     "output_type": "stream",
     "text": [
      "Scraped page 420 of 868\n"
     ]
    },
    {
     "name": "stdout",
     "output_type": "stream",
     "text": [
      "Scraped page 421 of 868\n"
     ]
    },
    {
     "name": "stdout",
     "output_type": "stream",
     "text": [
      "Scraped page 422 of 868\n"
     ]
    },
    {
     "name": "stdout",
     "output_type": "stream",
     "text": [
      "Scraped page 423 of 868\n"
     ]
    },
    {
     "name": "stdout",
     "output_type": "stream",
     "text": [
      "Scraped page 424 of 868\n"
     ]
    },
    {
     "name": "stdout",
     "output_type": "stream",
     "text": [
      "Scraped page 425 of 868\n"
     ]
    },
    {
     "name": "stdout",
     "output_type": "stream",
     "text": [
      "Scraped page 426 of 868\n"
     ]
    },
    {
     "name": "stdout",
     "output_type": "stream",
     "text": [
      "Scraped page 427 of 868\n"
     ]
    },
    {
     "name": "stdout",
     "output_type": "stream",
     "text": [
      "Scraped page 428 of 868\n"
     ]
    },
    {
     "name": "stdout",
     "output_type": "stream",
     "text": [
      "Scraped page 429 of 868\n"
     ]
    },
    {
     "name": "stdout",
     "output_type": "stream",
     "text": [
      "Scraped page 430 of 868\n"
     ]
    },
    {
     "name": "stdout",
     "output_type": "stream",
     "text": [
      "Scraped page 431 of 868\n"
     ]
    },
    {
     "name": "stdout",
     "output_type": "stream",
     "text": [
      "Scraped page 432 of 868\n"
     ]
    },
    {
     "name": "stdout",
     "output_type": "stream",
     "text": [
      "Scraped page 433 of 868\n"
     ]
    },
    {
     "name": "stdout",
     "output_type": "stream",
     "text": [
      "Scraped page 434 of 868\n"
     ]
    },
    {
     "name": "stdout",
     "output_type": "stream",
     "text": [
      "Scraped page 435 of 868\n"
     ]
    },
    {
     "name": "stdout",
     "output_type": "stream",
     "text": [
      "Scraped page 436 of 868\n"
     ]
    },
    {
     "name": "stdout",
     "output_type": "stream",
     "text": [
      "Scraped page 437 of 868\n"
     ]
    },
    {
     "name": "stdout",
     "output_type": "stream",
     "text": [
      "Scraped page 438 of 868\n"
     ]
    },
    {
     "name": "stdout",
     "output_type": "stream",
     "text": [
      "Scraped page 439 of 868\n"
     ]
    },
    {
     "name": "stdout",
     "output_type": "stream",
     "text": [
      "Scraped page 440 of 868\n"
     ]
    },
    {
     "name": "stdout",
     "output_type": "stream",
     "text": [
      "Scraped page 441 of 868\n"
     ]
    },
    {
     "name": "stdout",
     "output_type": "stream",
     "text": [
      "Scraped page 442 of 868\n"
     ]
    },
    {
     "name": "stdout",
     "output_type": "stream",
     "text": [
      "Scraped page 443 of 868\n"
     ]
    },
    {
     "name": "stdout",
     "output_type": "stream",
     "text": [
      "Scraped page 444 of 868\n"
     ]
    },
    {
     "name": "stdout",
     "output_type": "stream",
     "text": [
      "Scraped page 445 of 868\n"
     ]
    },
    {
     "name": "stdout",
     "output_type": "stream",
     "text": [
      "Scraped page 446 of 868\n"
     ]
    },
    {
     "name": "stdout",
     "output_type": "stream",
     "text": [
      "Scraped page 447 of 868\n"
     ]
    },
    {
     "name": "stdout",
     "output_type": "stream",
     "text": [
      "Scraped page 448 of 868\n"
     ]
    },
    {
     "name": "stdout",
     "output_type": "stream",
     "text": [
      "Scraped page 449 of 868\n"
     ]
    },
    {
     "name": "stdout",
     "output_type": "stream",
     "text": [
      "Scraped page 450 of 868\n"
     ]
    },
    {
     "name": "stdout",
     "output_type": "stream",
     "text": [
      "Scraped page 451 of 868\n"
     ]
    },
    {
     "name": "stdout",
     "output_type": "stream",
     "text": [
      "Scraped page 452 of 868\n"
     ]
    },
    {
     "name": "stdout",
     "output_type": "stream",
     "text": [
      "Scraped page 453 of 868\n"
     ]
    },
    {
     "name": "stdout",
     "output_type": "stream",
     "text": [
      "Scraped page 454 of 868\n"
     ]
    },
    {
     "name": "stdout",
     "output_type": "stream",
     "text": [
      "Scraped page 455 of 868\n"
     ]
    },
    {
     "name": "stdout",
     "output_type": "stream",
     "text": [
      "Scraped page 456 of 868\n"
     ]
    },
    {
     "name": "stdout",
     "output_type": "stream",
     "text": [
      "Scraped page 457 of 868\n"
     ]
    },
    {
     "name": "stdout",
     "output_type": "stream",
     "text": [
      "Scraped page 458 of 868\n"
     ]
    },
    {
     "name": "stdout",
     "output_type": "stream",
     "text": [
      "Scraped page 459 of 868\n"
     ]
    },
    {
     "name": "stdout",
     "output_type": "stream",
     "text": [
      "Scraped page 460 of 868\n"
     ]
    },
    {
     "name": "stdout",
     "output_type": "stream",
     "text": [
      "Scraped page 461 of 868\n"
     ]
    },
    {
     "name": "stdout",
     "output_type": "stream",
     "text": [
      "Scraped page 462 of 868\n"
     ]
    },
    {
     "name": "stdout",
     "output_type": "stream",
     "text": [
      "Scraped page 463 of 868\n"
     ]
    },
    {
     "name": "stdout",
     "output_type": "stream",
     "text": [
      "Scraped page 464 of 868\n"
     ]
    },
    {
     "name": "stdout",
     "output_type": "stream",
     "text": [
      "Scraped page 465 of 868\n"
     ]
    },
    {
     "name": "stdout",
     "output_type": "stream",
     "text": [
      "Scraped page 466 of 868\n"
     ]
    },
    {
     "name": "stdout",
     "output_type": "stream",
     "text": [
      "Scraped page 467 of 868\n"
     ]
    },
    {
     "name": "stdout",
     "output_type": "stream",
     "text": [
      "Scraped page 468 of 868\n"
     ]
    },
    {
     "name": "stdout",
     "output_type": "stream",
     "text": [
      "Scraped page 469 of 868\n"
     ]
    },
    {
     "name": "stdout",
     "output_type": "stream",
     "text": [
      "Scraped page 470 of 868\n"
     ]
    },
    {
     "name": "stdout",
     "output_type": "stream",
     "text": [
      "Scraped page 471 of 868\n"
     ]
    },
    {
     "name": "stdout",
     "output_type": "stream",
     "text": [
      "Scraped page 472 of 868\n"
     ]
    },
    {
     "name": "stdout",
     "output_type": "stream",
     "text": [
      "Scraped page 473 of 868\n"
     ]
    },
    {
     "name": "stdout",
     "output_type": "stream",
     "text": [
      "Scraped page 474 of 868\n"
     ]
    },
    {
     "name": "stdout",
     "output_type": "stream",
     "text": [
      "Scraped page 475 of 868\n"
     ]
    },
    {
     "name": "stdout",
     "output_type": "stream",
     "text": [
      "Scraped page 476 of 868\n"
     ]
    },
    {
     "name": "stdout",
     "output_type": "stream",
     "text": [
      "Scraped page 477 of 868\n"
     ]
    },
    {
     "name": "stdout",
     "output_type": "stream",
     "text": [
      "Scraped page 478 of 868\n"
     ]
    },
    {
     "name": "stdout",
     "output_type": "stream",
     "text": [
      "Scraped page 479 of 868\n"
     ]
    },
    {
     "name": "stdout",
     "output_type": "stream",
     "text": [
      "Scraped page 480 of 868\n"
     ]
    },
    {
     "name": "stdout",
     "output_type": "stream",
     "text": [
      "Scraped page 481 of 868\n"
     ]
    },
    {
     "name": "stdout",
     "output_type": "stream",
     "text": [
      "Scraped page 482 of 868\n"
     ]
    },
    {
     "name": "stdout",
     "output_type": "stream",
     "text": [
      "Scraped page 483 of 868\n"
     ]
    },
    {
     "name": "stdout",
     "output_type": "stream",
     "text": [
      "Scraped page 484 of 868\n"
     ]
    },
    {
     "name": "stdout",
     "output_type": "stream",
     "text": [
      "Scraped page 485 of 868\n"
     ]
    },
    {
     "name": "stdout",
     "output_type": "stream",
     "text": [
      "Scraped page 486 of 868\n"
     ]
    },
    {
     "name": "stdout",
     "output_type": "stream",
     "text": [
      "Scraped page 487 of 868\n"
     ]
    },
    {
     "name": "stdout",
     "output_type": "stream",
     "text": [
      "Scraped page 488 of 868\n"
     ]
    },
    {
     "name": "stdout",
     "output_type": "stream",
     "text": [
      "Scraped page 489 of 868\n"
     ]
    },
    {
     "name": "stdout",
     "output_type": "stream",
     "text": [
      "Scraped page 490 of 868\n"
     ]
    },
    {
     "name": "stdout",
     "output_type": "stream",
     "text": [
      "Scraped page 491 of 868\n"
     ]
    },
    {
     "name": "stdout",
     "output_type": "stream",
     "text": [
      "Scraped page 492 of 868\n"
     ]
    },
    {
     "name": "stdout",
     "output_type": "stream",
     "text": [
      "Scraped page 493 of 868\n"
     ]
    },
    {
     "name": "stdout",
     "output_type": "stream",
     "text": [
      "Scraped page 494 of 868\n"
     ]
    },
    {
     "name": "stdout",
     "output_type": "stream",
     "text": [
      "Scraped page 495 of 868\n"
     ]
    },
    {
     "name": "stdout",
     "output_type": "stream",
     "text": [
      "Scraped page 496 of 868\n"
     ]
    },
    {
     "name": "stdout",
     "output_type": "stream",
     "text": [
      "Scraped page 497 of 868\n"
     ]
    },
    {
     "name": "stdout",
     "output_type": "stream",
     "text": [
      "Scraped page 498 of 868\n"
     ]
    },
    {
     "name": "stdout",
     "output_type": "stream",
     "text": [
      "Scraped page 499 of 868\n"
     ]
    },
    {
     "name": "stdout",
     "output_type": "stream",
     "text": [
      "Scraped page 500 of 868\n"
     ]
    },
    {
     "name": "stdout",
     "output_type": "stream",
     "text": [
      "Scraped page 501 of 868\n"
     ]
    },
    {
     "name": "stdout",
     "output_type": "stream",
     "text": [
      "Scraped page 502 of 868\n"
     ]
    },
    {
     "name": "stdout",
     "output_type": "stream",
     "text": [
      "Scraped page 503 of 868\n"
     ]
    },
    {
     "name": "stdout",
     "output_type": "stream",
     "text": [
      "Scraped page 504 of 868\n"
     ]
    },
    {
     "name": "stdout",
     "output_type": "stream",
     "text": [
      "Scraped page 505 of 868\n"
     ]
    },
    {
     "name": "stdout",
     "output_type": "stream",
     "text": [
      "Scraped page 506 of 868\n"
     ]
    },
    {
     "name": "stdout",
     "output_type": "stream",
     "text": [
      "Scraped page 507 of 868\n"
     ]
    },
    {
     "name": "stdout",
     "output_type": "stream",
     "text": [
      "Scraped page 508 of 868\n"
     ]
    },
    {
     "name": "stdout",
     "output_type": "stream",
     "text": [
      "Scraped page 509 of 868\n"
     ]
    },
    {
     "name": "stdout",
     "output_type": "stream",
     "text": [
      "Scraped page 510 of 868\n"
     ]
    },
    {
     "name": "stdout",
     "output_type": "stream",
     "text": [
      "Scraped page 511 of 868\n"
     ]
    },
    {
     "name": "stdout",
     "output_type": "stream",
     "text": [
      "Scraped page 512 of 868\n"
     ]
    },
    {
     "name": "stdout",
     "output_type": "stream",
     "text": [
      "Scraped page 513 of 868\n"
     ]
    },
    {
     "name": "stdout",
     "output_type": "stream",
     "text": [
      "Scraped page 514 of 868\n"
     ]
    },
    {
     "name": "stdout",
     "output_type": "stream",
     "text": [
      "Scraped page 515 of 868\n"
     ]
    },
    {
     "name": "stdout",
     "output_type": "stream",
     "text": [
      "Scraped page 516 of 868\n"
     ]
    },
    {
     "name": "stdout",
     "output_type": "stream",
     "text": [
      "Scraped page 517 of 868\n"
     ]
    },
    {
     "name": "stdout",
     "output_type": "stream",
     "text": [
      "Scraped page 518 of 868\n"
     ]
    },
    {
     "name": "stdout",
     "output_type": "stream",
     "text": [
      "Scraped page 519 of 868\n"
     ]
    },
    {
     "name": "stdout",
     "output_type": "stream",
     "text": [
      "Scraped page 520 of 868\n"
     ]
    },
    {
     "name": "stdout",
     "output_type": "stream",
     "text": [
      "Scraped page 521 of 868\n"
     ]
    },
    {
     "name": "stdout",
     "output_type": "stream",
     "text": [
      "Scraped page 522 of 868\n"
     ]
    },
    {
     "name": "stdout",
     "output_type": "stream",
     "text": [
      "Scraped page 523 of 868\n"
     ]
    },
    {
     "name": "stdout",
     "output_type": "stream",
     "text": [
      "Scraped page 524 of 868\n"
     ]
    },
    {
     "name": "stdout",
     "output_type": "stream",
     "text": [
      "Scraped page 525 of 868\n"
     ]
    },
    {
     "name": "stdout",
     "output_type": "stream",
     "text": [
      "Scraped page 526 of 868\n"
     ]
    },
    {
     "name": "stdout",
     "output_type": "stream",
     "text": [
      "Scraped page 527 of 868\n"
     ]
    },
    {
     "name": "stdout",
     "output_type": "stream",
     "text": [
      "Scraped page 528 of 868\n"
     ]
    },
    {
     "name": "stdout",
     "output_type": "stream",
     "text": [
      "Scraped page 529 of 868\n"
     ]
    },
    {
     "name": "stdout",
     "output_type": "stream",
     "text": [
      "Scraped page 530 of 868\n"
     ]
    },
    {
     "name": "stdout",
     "output_type": "stream",
     "text": [
      "Scraped page 531 of 868\n"
     ]
    },
    {
     "name": "stdout",
     "output_type": "stream",
     "text": [
      "Scraped page 532 of 868\n"
     ]
    },
    {
     "name": "stdout",
     "output_type": "stream",
     "text": [
      "Scraped page 533 of 868\n"
     ]
    },
    {
     "name": "stdout",
     "output_type": "stream",
     "text": [
      "Scraped page 534 of 868\n"
     ]
    },
    {
     "name": "stdout",
     "output_type": "stream",
     "text": [
      "Scraped page 535 of 868\n"
     ]
    },
    {
     "name": "stdout",
     "output_type": "stream",
     "text": [
      "Scraped page 536 of 868\n"
     ]
    },
    {
     "name": "stdout",
     "output_type": "stream",
     "text": [
      "Scraped page 537 of 868\n"
     ]
    },
    {
     "name": "stdout",
     "output_type": "stream",
     "text": [
      "Scraped page 538 of 868\n"
     ]
    },
    {
     "name": "stdout",
     "output_type": "stream",
     "text": [
      "Scraped page 539 of 868\n"
     ]
    },
    {
     "name": "stdout",
     "output_type": "stream",
     "text": [
      "Scraped page 540 of 868\n"
     ]
    },
    {
     "name": "stdout",
     "output_type": "stream",
     "text": [
      "Scraped page 541 of 868\n"
     ]
    },
    {
     "name": "stdout",
     "output_type": "stream",
     "text": [
      "Scraped page 542 of 868\n"
     ]
    },
    {
     "name": "stdout",
     "output_type": "stream",
     "text": [
      "Scraped page 543 of 868\n"
     ]
    },
    {
     "name": "stdout",
     "output_type": "stream",
     "text": [
      "Scraped page 544 of 868\n"
     ]
    },
    {
     "name": "stdout",
     "output_type": "stream",
     "text": [
      "Scraped page 545 of 868\n"
     ]
    },
    {
     "name": "stdout",
     "output_type": "stream",
     "text": [
      "Scraped page 546 of 868\n"
     ]
    },
    {
     "name": "stdout",
     "output_type": "stream",
     "text": [
      "Scraped page 547 of 868\n"
     ]
    },
    {
     "name": "stdout",
     "output_type": "stream",
     "text": [
      "Scraped page 548 of 868\n"
     ]
    },
    {
     "name": "stdout",
     "output_type": "stream",
     "text": [
      "Scraped page 549 of 868\n"
     ]
    },
    {
     "name": "stdout",
     "output_type": "stream",
     "text": [
      "Scraped page 550 of 868\n"
     ]
    },
    {
     "name": "stdout",
     "output_type": "stream",
     "text": [
      "Scraped page 551 of 868\n"
     ]
    },
    {
     "name": "stdout",
     "output_type": "stream",
     "text": [
      "Scraped page 552 of 868\n"
     ]
    },
    {
     "name": "stdout",
     "output_type": "stream",
     "text": [
      "Scraped page 553 of 868\n"
     ]
    },
    {
     "name": "stdout",
     "output_type": "stream",
     "text": [
      "Scraped page 554 of 868\n"
     ]
    },
    {
     "name": "stdout",
     "output_type": "stream",
     "text": [
      "Scraped page 555 of 868\n"
     ]
    },
    {
     "name": "stdout",
     "output_type": "stream",
     "text": [
      "Scraped page 556 of 868\n"
     ]
    },
    {
     "name": "stdout",
     "output_type": "stream",
     "text": [
      "Scraped page 557 of 868\n"
     ]
    },
    {
     "name": "stdout",
     "output_type": "stream",
     "text": [
      "Scraped page 558 of 868\n"
     ]
    },
    {
     "name": "stdout",
     "output_type": "stream",
     "text": [
      "Scraped page 559 of 868\n"
     ]
    },
    {
     "name": "stdout",
     "output_type": "stream",
     "text": [
      "Scraped page 560 of 868\n"
     ]
    },
    {
     "name": "stdout",
     "output_type": "stream",
     "text": [
      "Scraped page 561 of 868\n"
     ]
    },
    {
     "name": "stdout",
     "output_type": "stream",
     "text": [
      "Scraped page 562 of 868\n"
     ]
    },
    {
     "name": "stdout",
     "output_type": "stream",
     "text": [
      "Scraped page 563 of 868\n"
     ]
    },
    {
     "name": "stdout",
     "output_type": "stream",
     "text": [
      "Scraped page 564 of 868\n"
     ]
    },
    {
     "name": "stdout",
     "output_type": "stream",
     "text": [
      "Scraped page 565 of 868\n"
     ]
    },
    {
     "name": "stdout",
     "output_type": "stream",
     "text": [
      "Scraped page 566 of 868\n"
     ]
    },
    {
     "name": "stdout",
     "output_type": "stream",
     "text": [
      "Scraped page 567 of 868\n"
     ]
    },
    {
     "name": "stdout",
     "output_type": "stream",
     "text": [
      "Scraped page 568 of 868\n"
     ]
    },
    {
     "name": "stdout",
     "output_type": "stream",
     "text": [
      "Scraped page 569 of 868\n"
     ]
    },
    {
     "name": "stdout",
     "output_type": "stream",
     "text": [
      "Scraped page 570 of 868\n"
     ]
    },
    {
     "name": "stdout",
     "output_type": "stream",
     "text": [
      "Scraped page 571 of 868\n"
     ]
    },
    {
     "name": "stdout",
     "output_type": "stream",
     "text": [
      "Scraped page 572 of 868\n"
     ]
    },
    {
     "name": "stdout",
     "output_type": "stream",
     "text": [
      "Scraped page 573 of 868\n"
     ]
    },
    {
     "name": "stdout",
     "output_type": "stream",
     "text": [
      "Scraped page 574 of 868\n"
     ]
    },
    {
     "name": "stdout",
     "output_type": "stream",
     "text": [
      "Scraped page 575 of 868\n"
     ]
    },
    {
     "name": "stdout",
     "output_type": "stream",
     "text": [
      "Scraped page 576 of 868\n"
     ]
    },
    {
     "name": "stdout",
     "output_type": "stream",
     "text": [
      "Scraped page 577 of 868\n"
     ]
    },
    {
     "name": "stdout",
     "output_type": "stream",
     "text": [
      "Scraped page 578 of 868\n"
     ]
    },
    {
     "name": "stdout",
     "output_type": "stream",
     "text": [
      "Scraped page 579 of 868\n"
     ]
    },
    {
     "name": "stdout",
     "output_type": "stream",
     "text": [
      "Scraped page 580 of 868\n"
     ]
    },
    {
     "name": "stdout",
     "output_type": "stream",
     "text": [
      "Scraped page 581 of 868\n"
     ]
    },
    {
     "name": "stdout",
     "output_type": "stream",
     "text": [
      "Scraped page 582 of 868\n"
     ]
    },
    {
     "name": "stdout",
     "output_type": "stream",
     "text": [
      "Scraped page 583 of 868\n"
     ]
    },
    {
     "name": "stdout",
     "output_type": "stream",
     "text": [
      "Scraped page 584 of 868\n"
     ]
    },
    {
     "name": "stdout",
     "output_type": "stream",
     "text": [
      "Scraped page 585 of 868\n"
     ]
    },
    {
     "name": "stdout",
     "output_type": "stream",
     "text": [
      "Scraped page 586 of 868\n"
     ]
    },
    {
     "name": "stdout",
     "output_type": "stream",
     "text": [
      "Scraped page 587 of 868\n"
     ]
    },
    {
     "name": "stdout",
     "output_type": "stream",
     "text": [
      "Scraped page 588 of 868\n"
     ]
    },
    {
     "name": "stdout",
     "output_type": "stream",
     "text": [
      "Scraped page 589 of 868\n"
     ]
    },
    {
     "name": "stdout",
     "output_type": "stream",
     "text": [
      "Scraped page 590 of 868\n"
     ]
    },
    {
     "name": "stdout",
     "output_type": "stream",
     "text": [
      "Scraped page 591 of 868\n"
     ]
    },
    {
     "name": "stdout",
     "output_type": "stream",
     "text": [
      "Scraped page 592 of 868\n"
     ]
    },
    {
     "name": "stdout",
     "output_type": "stream",
     "text": [
      "Scraped page 593 of 868\n"
     ]
    },
    {
     "name": "stdout",
     "output_type": "stream",
     "text": [
      "Scraped page 594 of 868\n"
     ]
    },
    {
     "name": "stdout",
     "output_type": "stream",
     "text": [
      "Scraped page 595 of 868\n"
     ]
    },
    {
     "name": "stdout",
     "output_type": "stream",
     "text": [
      "Scraped page 596 of 868\n"
     ]
    },
    {
     "name": "stdout",
     "output_type": "stream",
     "text": [
      "Scraped page 597 of 868\n"
     ]
    },
    {
     "name": "stdout",
     "output_type": "stream",
     "text": [
      "Scraped page 598 of 868\n"
     ]
    },
    {
     "name": "stdout",
     "output_type": "stream",
     "text": [
      "Scraped page 599 of 868\n"
     ]
    },
    {
     "name": "stdout",
     "output_type": "stream",
     "text": [
      "Scraped page 600 of 868\n"
     ]
    },
    {
     "name": "stdout",
     "output_type": "stream",
     "text": [
      "Scraped page 601 of 868\n"
     ]
    },
    {
     "name": "stdout",
     "output_type": "stream",
     "text": [
      "Scraped page 602 of 868\n"
     ]
    },
    {
     "name": "stdout",
     "output_type": "stream",
     "text": [
      "Scraped page 603 of 868\n"
     ]
    },
    {
     "name": "stdout",
     "output_type": "stream",
     "text": [
      "Scraped page 604 of 868\n"
     ]
    },
    {
     "name": "stdout",
     "output_type": "stream",
     "text": [
      "Scraped page 605 of 868\n"
     ]
    },
    {
     "name": "stdout",
     "output_type": "stream",
     "text": [
      "Scraped page 606 of 868\n"
     ]
    },
    {
     "name": "stdout",
     "output_type": "stream",
     "text": [
      "Scraped page 607 of 868\n"
     ]
    },
    {
     "name": "stdout",
     "output_type": "stream",
     "text": [
      "Scraped page 608 of 868\n"
     ]
    },
    {
     "name": "stdout",
     "output_type": "stream",
     "text": [
      "Scraped page 609 of 868\n"
     ]
    },
    {
     "name": "stdout",
     "output_type": "stream",
     "text": [
      "Scraped page 610 of 868\n"
     ]
    },
    {
     "name": "stdout",
     "output_type": "stream",
     "text": [
      "Scraped page 611 of 868\n"
     ]
    },
    {
     "name": "stdout",
     "output_type": "stream",
     "text": [
      "Scraped page 612 of 868\n"
     ]
    },
    {
     "name": "stdout",
     "output_type": "stream",
     "text": [
      "Scraped page 613 of 868\n"
     ]
    },
    {
     "name": "stdout",
     "output_type": "stream",
     "text": [
      "Scraped page 614 of 868\n"
     ]
    },
    {
     "name": "stdout",
     "output_type": "stream",
     "text": [
      "Scraped page 615 of 868\n"
     ]
    },
    {
     "name": "stdout",
     "output_type": "stream",
     "text": [
      "Scraped page 616 of 868\n"
     ]
    },
    {
     "name": "stdout",
     "output_type": "stream",
     "text": [
      "Scraped page 617 of 868\n"
     ]
    },
    {
     "name": "stdout",
     "output_type": "stream",
     "text": [
      "Scraped page 618 of 868\n"
     ]
    },
    {
     "name": "stdout",
     "output_type": "stream",
     "text": [
      "Scraped page 619 of 868\n"
     ]
    },
    {
     "name": "stdout",
     "output_type": "stream",
     "text": [
      "Scraped page 620 of 868\n"
     ]
    },
    {
     "name": "stdout",
     "output_type": "stream",
     "text": [
      "Scraped page 621 of 868\n"
     ]
    },
    {
     "name": "stdout",
     "output_type": "stream",
     "text": [
      "Scraped page 622 of 868\n"
     ]
    },
    {
     "name": "stdout",
     "output_type": "stream",
     "text": [
      "Scraped page 623 of 868\n"
     ]
    },
    {
     "name": "stdout",
     "output_type": "stream",
     "text": [
      "Scraped page 624 of 868\n"
     ]
    },
    {
     "name": "stdout",
     "output_type": "stream",
     "text": [
      "Scraped page 625 of 868\n"
     ]
    },
    {
     "name": "stdout",
     "output_type": "stream",
     "text": [
      "Scraped page 626 of 868\n"
     ]
    },
    {
     "name": "stdout",
     "output_type": "stream",
     "text": [
      "Scraped page 627 of 868\n"
     ]
    },
    {
     "name": "stdout",
     "output_type": "stream",
     "text": [
      "Scraped page 628 of 868\n"
     ]
    },
    {
     "name": "stdout",
     "output_type": "stream",
     "text": [
      "Scraped page 629 of 868\n"
     ]
    },
    {
     "name": "stdout",
     "output_type": "stream",
     "text": [
      "Scraped page 630 of 868\n"
     ]
    },
    {
     "name": "stdout",
     "output_type": "stream",
     "text": [
      "Scraped page 631 of 868\n"
     ]
    },
    {
     "name": "stdout",
     "output_type": "stream",
     "text": [
      "Scraped page 632 of 868\n"
     ]
    },
    {
     "name": "stdout",
     "output_type": "stream",
     "text": [
      "Scraped page 633 of 868\n"
     ]
    },
    {
     "name": "stdout",
     "output_type": "stream",
     "text": [
      "Scraped page 634 of 868\n"
     ]
    },
    {
     "name": "stdout",
     "output_type": "stream",
     "text": [
      "Scraped page 635 of 868\n"
     ]
    },
    {
     "name": "stdout",
     "output_type": "stream",
     "text": [
      "Scraped page 636 of 868\n"
     ]
    },
    {
     "name": "stdout",
     "output_type": "stream",
     "text": [
      "Scraped page 637 of 868\n"
     ]
    },
    {
     "name": "stdout",
     "output_type": "stream",
     "text": [
      "Scraped page 638 of 868\n"
     ]
    },
    {
     "name": "stdout",
     "output_type": "stream",
     "text": [
      "Scraped page 639 of 868\n"
     ]
    },
    {
     "name": "stdout",
     "output_type": "stream",
     "text": [
      "Scraped page 640 of 868\n"
     ]
    },
    {
     "name": "stdout",
     "output_type": "stream",
     "text": [
      "Scraped page 641 of 868\n"
     ]
    },
    {
     "name": "stdout",
     "output_type": "stream",
     "text": [
      "Scraped page 642 of 868\n"
     ]
    },
    {
     "name": "stdout",
     "output_type": "stream",
     "text": [
      "Scraped page 643 of 868\n"
     ]
    },
    {
     "name": "stdout",
     "output_type": "stream",
     "text": [
      "Scraped page 644 of 868\n"
     ]
    },
    {
     "name": "stdout",
     "output_type": "stream",
     "text": [
      "Scraped page 645 of 868\n"
     ]
    },
    {
     "name": "stdout",
     "output_type": "stream",
     "text": [
      "Scraped page 646 of 868\n"
     ]
    },
    {
     "name": "stdout",
     "output_type": "stream",
     "text": [
      "Scraped page 647 of 868\n"
     ]
    },
    {
     "name": "stdout",
     "output_type": "stream",
     "text": [
      "Scraped page 648 of 868\n"
     ]
    },
    {
     "name": "stdout",
     "output_type": "stream",
     "text": [
      "Scraped page 649 of 868\n"
     ]
    },
    {
     "name": "stdout",
     "output_type": "stream",
     "text": [
      "Scraped page 650 of 868\n"
     ]
    },
    {
     "name": "stdout",
     "output_type": "stream",
     "text": [
      "Scraped page 651 of 868\n"
     ]
    },
    {
     "name": "stdout",
     "output_type": "stream",
     "text": [
      "Scraped page 652 of 868\n"
     ]
    },
    {
     "name": "stdout",
     "output_type": "stream",
     "text": [
      "Scraped page 653 of 868\n"
     ]
    },
    {
     "name": "stdout",
     "output_type": "stream",
     "text": [
      "Scraped page 654 of 868\n"
     ]
    },
    {
     "name": "stdout",
     "output_type": "stream",
     "text": [
      "Scraped page 655 of 868\n"
     ]
    },
    {
     "name": "stdout",
     "output_type": "stream",
     "text": [
      "Scraped page 656 of 868\n"
     ]
    },
    {
     "name": "stdout",
     "output_type": "stream",
     "text": [
      "Scraped page 657 of 868\n"
     ]
    },
    {
     "name": "stdout",
     "output_type": "stream",
     "text": [
      "Scraped page 658 of 868\n"
     ]
    },
    {
     "name": "stdout",
     "output_type": "stream",
     "text": [
      "Scraped page 659 of 868\n"
     ]
    },
    {
     "name": "stdout",
     "output_type": "stream",
     "text": [
      "Scraped page 660 of 868\n"
     ]
    },
    {
     "name": "stdout",
     "output_type": "stream",
     "text": [
      "Scraped page 661 of 868\n"
     ]
    },
    {
     "name": "stdout",
     "output_type": "stream",
     "text": [
      "Scraped page 662 of 868\n"
     ]
    },
    {
     "name": "stdout",
     "output_type": "stream",
     "text": [
      "Scraped page 663 of 868\n"
     ]
    },
    {
     "name": "stdout",
     "output_type": "stream",
     "text": [
      "Scraped page 664 of 868\n"
     ]
    },
    {
     "name": "stdout",
     "output_type": "stream",
     "text": [
      "Scraped page 665 of 868\n"
     ]
    },
    {
     "name": "stdout",
     "output_type": "stream",
     "text": [
      "Scraped page 666 of 868\n"
     ]
    },
    {
     "name": "stdout",
     "output_type": "stream",
     "text": [
      "Scraped page 667 of 868\n"
     ]
    },
    {
     "name": "stdout",
     "output_type": "stream",
     "text": [
      "Scraped page 668 of 868\n"
     ]
    },
    {
     "name": "stdout",
     "output_type": "stream",
     "text": [
      "Scraped page 669 of 868\n"
     ]
    },
    {
     "name": "stdout",
     "output_type": "stream",
     "text": [
      "Scraped page 670 of 868\n"
     ]
    },
    {
     "name": "stdout",
     "output_type": "stream",
     "text": [
      "Scraped page 671 of 868\n"
     ]
    },
    {
     "name": "stdout",
     "output_type": "stream",
     "text": [
      "Scraped page 672 of 868\n"
     ]
    },
    {
     "name": "stdout",
     "output_type": "stream",
     "text": [
      "Scraped page 673 of 868\n"
     ]
    },
    {
     "name": "stdout",
     "output_type": "stream",
     "text": [
      "Scraped page 674 of 868\n"
     ]
    },
    {
     "name": "stdout",
     "output_type": "stream",
     "text": [
      "Scraped page 675 of 868\n"
     ]
    },
    {
     "name": "stdout",
     "output_type": "stream",
     "text": [
      "Scraped page 676 of 868\n"
     ]
    },
    {
     "name": "stdout",
     "output_type": "stream",
     "text": [
      "Scraped page 677 of 868\n"
     ]
    },
    {
     "name": "stdout",
     "output_type": "stream",
     "text": [
      "Scraped page 678 of 868\n"
     ]
    },
    {
     "name": "stdout",
     "output_type": "stream",
     "text": [
      "Scraped page 679 of 868\n"
     ]
    },
    {
     "name": "stdout",
     "output_type": "stream",
     "text": [
      "Scraped page 680 of 868\n"
     ]
    },
    {
     "name": "stdout",
     "output_type": "stream",
     "text": [
      "Scraped page 681 of 868\n"
     ]
    },
    {
     "name": "stdout",
     "output_type": "stream",
     "text": [
      "Scraped page 682 of 868\n"
     ]
    },
    {
     "name": "stdout",
     "output_type": "stream",
     "text": [
      "Scraped page 683 of 868\n"
     ]
    },
    {
     "name": "stdout",
     "output_type": "stream",
     "text": [
      "Scraped page 684 of 868\n"
     ]
    },
    {
     "name": "stdout",
     "output_type": "stream",
     "text": [
      "Scraped page 685 of 868\n"
     ]
    },
    {
     "name": "stdout",
     "output_type": "stream",
     "text": [
      "Scraped page 686 of 868\n"
     ]
    },
    {
     "name": "stdout",
     "output_type": "stream",
     "text": [
      "Scraped page 687 of 868\n"
     ]
    },
    {
     "name": "stdout",
     "output_type": "stream",
     "text": [
      "Scraped page 688 of 868\n"
     ]
    },
    {
     "name": "stdout",
     "output_type": "stream",
     "text": [
      "Scraped page 689 of 868\n"
     ]
    },
    {
     "name": "stdout",
     "output_type": "stream",
     "text": [
      "Scraped page 690 of 868\n"
     ]
    },
    {
     "name": "stdout",
     "output_type": "stream",
     "text": [
      "Scraped page 691 of 868\n"
     ]
    },
    {
     "name": "stdout",
     "output_type": "stream",
     "text": [
      "Scraped page 692 of 868\n"
     ]
    },
    {
     "name": "stdout",
     "output_type": "stream",
     "text": [
      "Scraped page 693 of 868\n"
     ]
    },
    {
     "name": "stdout",
     "output_type": "stream",
     "text": [
      "Scraped page 694 of 868\n"
     ]
    },
    {
     "name": "stdout",
     "output_type": "stream",
     "text": [
      "Scraped page 695 of 868\n"
     ]
    },
    {
     "name": "stdout",
     "output_type": "stream",
     "text": [
      "Scraped page 696 of 868\n"
     ]
    },
    {
     "name": "stdout",
     "output_type": "stream",
     "text": [
      "Scraped page 697 of 868\n"
     ]
    },
    {
     "name": "stdout",
     "output_type": "stream",
     "text": [
      "Scraped page 698 of 868\n"
     ]
    },
    {
     "name": "stdout",
     "output_type": "stream",
     "text": [
      "Scraped page 699 of 868\n"
     ]
    },
    {
     "name": "stdout",
     "output_type": "stream",
     "text": [
      "Scraped page 700 of 868\n"
     ]
    },
    {
     "name": "stdout",
     "output_type": "stream",
     "text": [
      "Scraped page 701 of 868\n"
     ]
    },
    {
     "name": "stdout",
     "output_type": "stream",
     "text": [
      "Scraped page 702 of 868\n"
     ]
    },
    {
     "name": "stdout",
     "output_type": "stream",
     "text": [
      "Scraped page 703 of 868\n"
     ]
    },
    {
     "name": "stdout",
     "output_type": "stream",
     "text": [
      "Scraped page 704 of 868\n"
     ]
    },
    {
     "name": "stdout",
     "output_type": "stream",
     "text": [
      "Scraped page 705 of 868\n"
     ]
    },
    {
     "name": "stdout",
     "output_type": "stream",
     "text": [
      "Scraped page 706 of 868\n"
     ]
    },
    {
     "name": "stdout",
     "output_type": "stream",
     "text": [
      "Scraped page 707 of 868\n"
     ]
    },
    {
     "name": "stdout",
     "output_type": "stream",
     "text": [
      "Scraped page 708 of 868\n"
     ]
    },
    {
     "name": "stdout",
     "output_type": "stream",
     "text": [
      "Scraped page 709 of 868\n"
     ]
    },
    {
     "name": "stdout",
     "output_type": "stream",
     "text": [
      "Scraped page 710 of 868\n"
     ]
    },
    {
     "name": "stdout",
     "output_type": "stream",
     "text": [
      "Scraped page 711 of 868\n"
     ]
    },
    {
     "name": "stdout",
     "output_type": "stream",
     "text": [
      "Scraped page 712 of 868\n"
     ]
    },
    {
     "name": "stdout",
     "output_type": "stream",
     "text": [
      "Scraped page 713 of 868\n"
     ]
    },
    {
     "name": "stdout",
     "output_type": "stream",
     "text": [
      "Scraped page 714 of 868\n"
     ]
    },
    {
     "name": "stdout",
     "output_type": "stream",
     "text": [
      "Scraped page 715 of 868\n"
     ]
    },
    {
     "name": "stdout",
     "output_type": "stream",
     "text": [
      "Scraped page 716 of 868\n"
     ]
    },
    {
     "name": "stdout",
     "output_type": "stream",
     "text": [
      "Scraped page 717 of 868\n"
     ]
    },
    {
     "name": "stdout",
     "output_type": "stream",
     "text": [
      "Scraped page 718 of 868\n"
     ]
    },
    {
     "name": "stdout",
     "output_type": "stream",
     "text": [
      "Scraped page 719 of 868\n"
     ]
    },
    {
     "name": "stdout",
     "output_type": "stream",
     "text": [
      "Scraped page 720 of 868\n"
     ]
    },
    {
     "name": "stdout",
     "output_type": "stream",
     "text": [
      "Scraped page 721 of 868\n"
     ]
    },
    {
     "name": "stdout",
     "output_type": "stream",
     "text": [
      "Scraped page 722 of 868\n"
     ]
    },
    {
     "name": "stdout",
     "output_type": "stream",
     "text": [
      "Scraped page 723 of 868\n"
     ]
    },
    {
     "name": "stdout",
     "output_type": "stream",
     "text": [
      "Scraped page 724 of 868\n"
     ]
    },
    {
     "name": "stdout",
     "output_type": "stream",
     "text": [
      "Scraped page 725 of 868\n"
     ]
    },
    {
     "name": "stdout",
     "output_type": "stream",
     "text": [
      "Scraped page 726 of 868\n"
     ]
    },
    {
     "name": "stdout",
     "output_type": "stream",
     "text": [
      "Scraped page 727 of 868\n"
     ]
    },
    {
     "name": "stdout",
     "output_type": "stream",
     "text": [
      "Scraped page 728 of 868\n"
     ]
    },
    {
     "name": "stdout",
     "output_type": "stream",
     "text": [
      "Scraped page 729 of 868\n"
     ]
    },
    {
     "name": "stdout",
     "output_type": "stream",
     "text": [
      "Scraped page 730 of 868\n"
     ]
    },
    {
     "name": "stdout",
     "output_type": "stream",
     "text": [
      "Scraped page 731 of 868\n"
     ]
    },
    {
     "name": "stdout",
     "output_type": "stream",
     "text": [
      "Scraped page 732 of 868\n"
     ]
    },
    {
     "name": "stdout",
     "output_type": "stream",
     "text": [
      "Scraped page 733 of 868\n"
     ]
    },
    {
     "name": "stdout",
     "output_type": "stream",
     "text": [
      "Scraped page 734 of 868\n"
     ]
    },
    {
     "name": "stdout",
     "output_type": "stream",
     "text": [
      "Scraped page 735 of 868\n"
     ]
    },
    {
     "name": "stdout",
     "output_type": "stream",
     "text": [
      "Scraped page 736 of 868\n"
     ]
    },
    {
     "name": "stdout",
     "output_type": "stream",
     "text": [
      "Scraped page 737 of 868\n"
     ]
    },
    {
     "name": "stdout",
     "output_type": "stream",
     "text": [
      "Scraped page 738 of 868\n"
     ]
    },
    {
     "name": "stdout",
     "output_type": "stream",
     "text": [
      "Scraped page 739 of 868\n"
     ]
    },
    {
     "name": "stdout",
     "output_type": "stream",
     "text": [
      "Scraped page 740 of 868\n"
     ]
    },
    {
     "name": "stdout",
     "output_type": "stream",
     "text": [
      "Scraped page 741 of 868\n"
     ]
    },
    {
     "name": "stdout",
     "output_type": "stream",
     "text": [
      "Scraped page 742 of 868\n"
     ]
    },
    {
     "name": "stdout",
     "output_type": "stream",
     "text": [
      "Scraped page 743 of 868\n"
     ]
    },
    {
     "name": "stdout",
     "output_type": "stream",
     "text": [
      "Scraped page 744 of 868\n"
     ]
    },
    {
     "name": "stdout",
     "output_type": "stream",
     "text": [
      "Scraped page 745 of 868\n"
     ]
    },
    {
     "name": "stdout",
     "output_type": "stream",
     "text": [
      "Scraped page 746 of 868\n"
     ]
    },
    {
     "name": "stdout",
     "output_type": "stream",
     "text": [
      "Scraped page 747 of 868\n"
     ]
    },
    {
     "name": "stdout",
     "output_type": "stream",
     "text": [
      "Scraped page 748 of 868\n"
     ]
    },
    {
     "name": "stdout",
     "output_type": "stream",
     "text": [
      "Scraped page 749 of 868\n"
     ]
    },
    {
     "name": "stdout",
     "output_type": "stream",
     "text": [
      "Scraped page 750 of 868\n"
     ]
    },
    {
     "name": "stdout",
     "output_type": "stream",
     "text": [
      "Scraped page 751 of 868\n"
     ]
    },
    {
     "name": "stdout",
     "output_type": "stream",
     "text": [
      "Scraped page 752 of 868\n"
     ]
    },
    {
     "name": "stdout",
     "output_type": "stream",
     "text": [
      "Scraped page 753 of 868\n"
     ]
    },
    {
     "name": "stdout",
     "output_type": "stream",
     "text": [
      "Scraped page 754 of 868\n"
     ]
    },
    {
     "name": "stdout",
     "output_type": "stream",
     "text": [
      "Scraped page 755 of 868\n"
     ]
    },
    {
     "name": "stdout",
     "output_type": "stream",
     "text": [
      "Scraped page 756 of 868\n"
     ]
    },
    {
     "name": "stdout",
     "output_type": "stream",
     "text": [
      "Scraped page 757 of 868\n"
     ]
    },
    {
     "name": "stdout",
     "output_type": "stream",
     "text": [
      "Scraped page 758 of 868\n"
     ]
    },
    {
     "name": "stdout",
     "output_type": "stream",
     "text": [
      "Scraped page 759 of 868\n"
     ]
    },
    {
     "name": "stdout",
     "output_type": "stream",
     "text": [
      "Scraped page 760 of 868\n"
     ]
    },
    {
     "name": "stdout",
     "output_type": "stream",
     "text": [
      "Scraped page 761 of 868\n"
     ]
    },
    {
     "name": "stdout",
     "output_type": "stream",
     "text": [
      "Scraped page 762 of 868\n"
     ]
    },
    {
     "name": "stdout",
     "output_type": "stream",
     "text": [
      "Scraped page 763 of 868\n"
     ]
    },
    {
     "name": "stdout",
     "output_type": "stream",
     "text": [
      "Scraped page 764 of 868\n"
     ]
    },
    {
     "name": "stdout",
     "output_type": "stream",
     "text": [
      "Scraped page 765 of 868\n"
     ]
    },
    {
     "name": "stdout",
     "output_type": "stream",
     "text": [
      "Scraped page 766 of 868\n"
     ]
    },
    {
     "name": "stdout",
     "output_type": "stream",
     "text": [
      "Scraped page 767 of 868\n"
     ]
    },
    {
     "name": "stdout",
     "output_type": "stream",
     "text": [
      "Scraped page 768 of 868\n"
     ]
    },
    {
     "name": "stdout",
     "output_type": "stream",
     "text": [
      "Scraped page 769 of 868\n"
     ]
    },
    {
     "name": "stdout",
     "output_type": "stream",
     "text": [
      "Scraped page 770 of 868\n"
     ]
    },
    {
     "name": "stdout",
     "output_type": "stream",
     "text": [
      "Scraped page 771 of 868\n"
     ]
    },
    {
     "name": "stdout",
     "output_type": "stream",
     "text": [
      "Scraped page 772 of 868\n"
     ]
    },
    {
     "name": "stdout",
     "output_type": "stream",
     "text": [
      "Scraped page 773 of 868\n"
     ]
    },
    {
     "name": "stdout",
     "output_type": "stream",
     "text": [
      "Scraped page 774 of 868\n"
     ]
    },
    {
     "name": "stdout",
     "output_type": "stream",
     "text": [
      "Scraped page 775 of 868\n"
     ]
    },
    {
     "name": "stdout",
     "output_type": "stream",
     "text": [
      "Scraped page 776 of 868\n"
     ]
    },
    {
     "name": "stdout",
     "output_type": "stream",
     "text": [
      "Scraped page 777 of 868\n"
     ]
    },
    {
     "name": "stdout",
     "output_type": "stream",
     "text": [
      "Scraped page 778 of 868\n"
     ]
    },
    {
     "name": "stdout",
     "output_type": "stream",
     "text": [
      "Scraped page 779 of 868\n"
     ]
    },
    {
     "name": "stdout",
     "output_type": "stream",
     "text": [
      "Scraped page 780 of 868\n"
     ]
    },
    {
     "name": "stdout",
     "output_type": "stream",
     "text": [
      "Scraped page 781 of 868\n"
     ]
    },
    {
     "name": "stdout",
     "output_type": "stream",
     "text": [
      "Scraped page 782 of 868\n"
     ]
    },
    {
     "name": "stdout",
     "output_type": "stream",
     "text": [
      "Scraped page 783 of 868\n"
     ]
    },
    {
     "name": "stdout",
     "output_type": "stream",
     "text": [
      "Scraped page 784 of 868\n"
     ]
    },
    {
     "name": "stdout",
     "output_type": "stream",
     "text": [
      "Scraped page 785 of 868\n"
     ]
    },
    {
     "name": "stdout",
     "output_type": "stream",
     "text": [
      "Scraped page 786 of 868\n"
     ]
    },
    {
     "name": "stdout",
     "output_type": "stream",
     "text": [
      "Scraped page 787 of 868\n"
     ]
    },
    {
     "name": "stdout",
     "output_type": "stream",
     "text": [
      "Scraped page 788 of 868\n"
     ]
    },
    {
     "name": "stdout",
     "output_type": "stream",
     "text": [
      "Scraped page 789 of 868\n"
     ]
    },
    {
     "name": "stdout",
     "output_type": "stream",
     "text": [
      "Scraped page 790 of 868\n"
     ]
    },
    {
     "name": "stdout",
     "output_type": "stream",
     "text": [
      "Scraped page 791 of 868\n"
     ]
    },
    {
     "name": "stdout",
     "output_type": "stream",
     "text": [
      "Scraped page 792 of 868\n"
     ]
    },
    {
     "name": "stdout",
     "output_type": "stream",
     "text": [
      "Scraped page 793 of 868\n"
     ]
    },
    {
     "name": "stdout",
     "output_type": "stream",
     "text": [
      "Scraped page 794 of 868\n"
     ]
    },
    {
     "name": "stdout",
     "output_type": "stream",
     "text": [
      "Scraped page 795 of 868\n"
     ]
    },
    {
     "name": "stdout",
     "output_type": "stream",
     "text": [
      "Scraped page 796 of 868\n"
     ]
    },
    {
     "name": "stdout",
     "output_type": "stream",
     "text": [
      "Scraped page 797 of 868\n"
     ]
    },
    {
     "name": "stdout",
     "output_type": "stream",
     "text": [
      "Scraped page 798 of 868\n"
     ]
    },
    {
     "name": "stdout",
     "output_type": "stream",
     "text": [
      "Scraped page 799 of 868\n"
     ]
    },
    {
     "name": "stdout",
     "output_type": "stream",
     "text": [
      "Scraped page 800 of 868\n"
     ]
    },
    {
     "name": "stdout",
     "output_type": "stream",
     "text": [
      "Scraped page 801 of 868\n"
     ]
    },
    {
     "name": "stdout",
     "output_type": "stream",
     "text": [
      "Scraped page 802 of 868\n"
     ]
    },
    {
     "name": "stdout",
     "output_type": "stream",
     "text": [
      "Scraped page 803 of 868\n"
     ]
    },
    {
     "name": "stdout",
     "output_type": "stream",
     "text": [
      "Scraped page 804 of 868\n"
     ]
    },
    {
     "name": "stdout",
     "output_type": "stream",
     "text": [
      "Scraped page 805 of 868\n"
     ]
    },
    {
     "name": "stdout",
     "output_type": "stream",
     "text": [
      "Scraped page 806 of 868\n"
     ]
    },
    {
     "name": "stdout",
     "output_type": "stream",
     "text": [
      "Scraped page 807 of 868\n"
     ]
    },
    {
     "name": "stdout",
     "output_type": "stream",
     "text": [
      "Scraped page 808 of 868\n"
     ]
    },
    {
     "name": "stdout",
     "output_type": "stream",
     "text": [
      "Scraped page 809 of 868\n"
     ]
    },
    {
     "name": "stdout",
     "output_type": "stream",
     "text": [
      "Scraped page 810 of 868\n"
     ]
    },
    {
     "name": "stdout",
     "output_type": "stream",
     "text": [
      "Scraped page 811 of 868\n"
     ]
    },
    {
     "name": "stdout",
     "output_type": "stream",
     "text": [
      "Scraped page 812 of 868\n"
     ]
    },
    {
     "name": "stdout",
     "output_type": "stream",
     "text": [
      "Scraped page 813 of 868\n"
     ]
    },
    {
     "name": "stdout",
     "output_type": "stream",
     "text": [
      "Scraped page 814 of 868\n"
     ]
    },
    {
     "name": "stdout",
     "output_type": "stream",
     "text": [
      "Scraped page 815 of 868\n"
     ]
    },
    {
     "name": "stdout",
     "output_type": "stream",
     "text": [
      "Scraped page 816 of 868\n"
     ]
    },
    {
     "name": "stdout",
     "output_type": "stream",
     "text": [
      "Scraped page 817 of 868\n"
     ]
    },
    {
     "name": "stdout",
     "output_type": "stream",
     "text": [
      "Scraped page 818 of 868\n"
     ]
    },
    {
     "name": "stdout",
     "output_type": "stream",
     "text": [
      "Scraped page 819 of 868\n"
     ]
    },
    {
     "name": "stdout",
     "output_type": "stream",
     "text": [
      "Scraped page 820 of 868\n"
     ]
    },
    {
     "name": "stdout",
     "output_type": "stream",
     "text": [
      "Scraped page 821 of 868\n"
     ]
    },
    {
     "name": "stdout",
     "output_type": "stream",
     "text": [
      "Scraped page 822 of 868\n"
     ]
    },
    {
     "name": "stdout",
     "output_type": "stream",
     "text": [
      "Scraped page 823 of 868\n"
     ]
    },
    {
     "name": "stdout",
     "output_type": "stream",
     "text": [
      "Scraped page 824 of 868\n"
     ]
    },
    {
     "name": "stdout",
     "output_type": "stream",
     "text": [
      "Scraped page 825 of 868\n"
     ]
    },
    {
     "name": "stdout",
     "output_type": "stream",
     "text": [
      "Scraped page 826 of 868\n"
     ]
    },
    {
     "name": "stdout",
     "output_type": "stream",
     "text": [
      "Scraped page 827 of 868\n"
     ]
    },
    {
     "name": "stdout",
     "output_type": "stream",
     "text": [
      "Scraped page 828 of 868\n"
     ]
    },
    {
     "name": "stdout",
     "output_type": "stream",
     "text": [
      "Scraped page 829 of 868\n"
     ]
    },
    {
     "name": "stdout",
     "output_type": "stream",
     "text": [
      "Scraped page 830 of 868\n"
     ]
    },
    {
     "name": "stdout",
     "output_type": "stream",
     "text": [
      "Scraped page 831 of 868\n"
     ]
    },
    {
     "name": "stdout",
     "output_type": "stream",
     "text": [
      "Scraped page 832 of 868\n"
     ]
    },
    {
     "name": "stdout",
     "output_type": "stream",
     "text": [
      "Scraped page 833 of 868\n"
     ]
    },
    {
     "name": "stdout",
     "output_type": "stream",
     "text": [
      "Scraped page 834 of 868\n"
     ]
    },
    {
     "name": "stdout",
     "output_type": "stream",
     "text": [
      "Scraped page 835 of 868\n"
     ]
    },
    {
     "name": "stdout",
     "output_type": "stream",
     "text": [
      "Scraped page 836 of 868\n"
     ]
    },
    {
     "name": "stdout",
     "output_type": "stream",
     "text": [
      "Scraped page 837 of 868\n"
     ]
    },
    {
     "name": "stdout",
     "output_type": "stream",
     "text": [
      "Scraped page 838 of 868\n"
     ]
    },
    {
     "name": "stdout",
     "output_type": "stream",
     "text": [
      "Scraped page 839 of 868\n"
     ]
    },
    {
     "name": "stdout",
     "output_type": "stream",
     "text": [
      "Scraped page 840 of 868\n"
     ]
    },
    {
     "name": "stdout",
     "output_type": "stream",
     "text": [
      "Scraped page 841 of 868\n"
     ]
    },
    {
     "name": "stdout",
     "output_type": "stream",
     "text": [
      "Scraped page 842 of 868\n"
     ]
    },
    {
     "name": "stdout",
     "output_type": "stream",
     "text": [
      "Scraped page 843 of 868\n"
     ]
    },
    {
     "name": "stdout",
     "output_type": "stream",
     "text": [
      "Scraped page 844 of 868\n"
     ]
    },
    {
     "name": "stdout",
     "output_type": "stream",
     "text": [
      "Scraped page 845 of 868\n"
     ]
    },
    {
     "name": "stdout",
     "output_type": "stream",
     "text": [
      "Scraped page 846 of 868\n"
     ]
    },
    {
     "name": "stdout",
     "output_type": "stream",
     "text": [
      "Scraped page 847 of 868\n"
     ]
    },
    {
     "name": "stdout",
     "output_type": "stream",
     "text": [
      "Scraped page 848 of 868\n"
     ]
    },
    {
     "name": "stdout",
     "output_type": "stream",
     "text": [
      "Scraped page 849 of 868\n"
     ]
    },
    {
     "name": "stdout",
     "output_type": "stream",
     "text": [
      "Scraped page 850 of 868\n"
     ]
    },
    {
     "name": "stdout",
     "output_type": "stream",
     "text": [
      "Scraped page 851 of 868\n"
     ]
    },
    {
     "name": "stdout",
     "output_type": "stream",
     "text": [
      "Scraped page 852 of 868\n"
     ]
    },
    {
     "name": "stdout",
     "output_type": "stream",
     "text": [
      "Scraped page 853 of 868\n"
     ]
    },
    {
     "name": "stdout",
     "output_type": "stream",
     "text": [
      "Scraped page 854 of 868\n"
     ]
    },
    {
     "name": "stdout",
     "output_type": "stream",
     "text": [
      "Scraped page 855 of 868\n"
     ]
    },
    {
     "name": "stdout",
     "output_type": "stream",
     "text": [
      "Scraped page 856 of 868\n"
     ]
    },
    {
     "name": "stdout",
     "output_type": "stream",
     "text": [
      "Scraped page 857 of 868\n"
     ]
    },
    {
     "name": "stdout",
     "output_type": "stream",
     "text": [
      "Scraped page 858 of 868\n"
     ]
    },
    {
     "name": "stdout",
     "output_type": "stream",
     "text": [
      "Scraped page 859 of 868\n"
     ]
    },
    {
     "name": "stdout",
     "output_type": "stream",
     "text": [
      "Scraped page 860 of 868\n"
     ]
    },
    {
     "name": "stdout",
     "output_type": "stream",
     "text": [
      "Scraped page 861 of 868\n"
     ]
    },
    {
     "name": "stdout",
     "output_type": "stream",
     "text": [
      "Scraped page 862 of 868\n"
     ]
    },
    {
     "name": "stdout",
     "output_type": "stream",
     "text": [
      "Scraped page 863 of 868\n"
     ]
    },
    {
     "name": "stdout",
     "output_type": "stream",
     "text": [
      "Scraped page 864 of 868\n"
     ]
    },
    {
     "name": "stdout",
     "output_type": "stream",
     "text": [
      "Scraped page 865 of 868\n"
     ]
    },
    {
     "name": "stdout",
     "output_type": "stream",
     "text": [
      "Scraped page 866 of 868\n"
     ]
    },
    {
     "name": "stdout",
     "output_type": "stream",
     "text": [
      "Scraped page 867 of 868\n"
     ]
    },
    {
     "name": "stdout",
     "output_type": "stream",
     "text": [
      "Scraped page 868 of 868\n",
      "           date                               header rating  \\\n",
      "0    2024-09-15                \"Service was so good\"     10   \n",
      "1    2024-09-12  “a highly disappointing experience”      4   \n",
      "2    2024-08-29               “the legroom was huge”      9   \n",
      "3    2024-08-19           \"getting worse by the day\"      3   \n",
      "4    2024-08-13    \"never fly Air New Zealand again\"      1   \n",
      "..          ...                                  ...    ...   \n",
      "948  2013-05-08      Air New Zealand customer review      9   \n",
      "949  2013-05-08      Air New Zealand customer review      3   \n",
      "950  2013-05-06      Air New Zealand customer review      5   \n",
      "951  2013-05-01      Air New Zealand customer review      5   \n",
      "952  2013-05-01      Air New Zealand customer review      5   \n",
      "\n",
      "                                               content Type Of Traveller  \\\n",
      "0    Not Verified |  Such a lovely experience! Serv...          Business   \n",
      "1    Not Verified | I recently had a highly disappo...      Solo Leisure   \n",
      "2    Not Verified | I was honestly quite surprised ...    Family Leisure   \n",
      "3    Not Verified |  Air New Zealand domestic servi...          Business   \n",
      "4    ✅ Trip Verified |   Air New Zealand bumped us ...    Family Leisure   \n",
      "..                                                 ...               ...   \n",
      "948  Flew Premium Economy from LAX to AKL on a 777-...               NaN   \n",
      "949  Leg room on Internal flights is getting smalle...               NaN   \n",
      "950  Adelaide to Auckland April 28 2013. Usual incr...               NaN   \n",
      "951  B747-400 Premium Economy SFO-AKL B767 Works AK...               NaN   \n",
      "952  I have been flying with Air New Zealand since ...               NaN   \n",
      "\n",
      "           Seat Type                             Route     Date Flown  \\\n",
      "0      Economy Class                Melbourne to Tokyo    August 2024   \n",
      "1      Economy Class  Raratonga to Auckland via Taipei    August 2024   \n",
      "2      Economy Class            Auckland to Queenstown  December 2023   \n",
      "3      Economy Class                Auckland to Napier    August 2024   \n",
      "4      Economy Class               Napier to Auckland       June 2024   \n",
      "..               ...                               ...            ...   \n",
      "948  Premium Economy                               NaN            NaN   \n",
      "949    Economy Class                               NaN            NaN   \n",
      "950    Economy Class                               NaN            NaN   \n",
      "951  Premium Economy                               NaN            NaN   \n",
      "952  Premium Economy                               NaN            NaN   \n",
      "\n",
      "    Seat Comfort Cabin Staff Service Food & Beverages Inflight Entertainment  \\\n",
      "0              5                   5                5                      5   \n",
      "1              3                   4                3                      3   \n",
      "2              5                   5                5                    NaN   \n",
      "3              4                   5              NaN                    NaN   \n",
      "4              3                   4              NaN                    NaN   \n",
      "..           ...                 ...              ...                    ...   \n",
      "948            4                   5                5                      5   \n",
      "949            1                   4                3                    N/A   \n",
      "950            3                   3                4                      1   \n",
      "951            3                   3                4                      3   \n",
      "952            4                   3                4                      2   \n",
      "\n",
      "    Ground Service Wifi & Connectivity Value For Money Recommended Aircraft  \n",
      "0                5                   5               5         yes      NaN  \n",
      "1                1                   4               1          no      NaN  \n",
      "2                5                   4               5         yes     A320  \n",
      "3                5                 NaN               1          no      NaN  \n",
      "4                1                 NaN               1          no   ATR-72  \n",
      "..             ...                 ...             ...         ...      ...  \n",
      "948            NaN                 NaN               5         yes      NaN  \n",
      "949            NaN                 NaN               3          no      NaN  \n",
      "950            NaN                 NaN               3          no      NaN  \n",
      "951            NaN                 NaN               2          no      NaN  \n",
      "952            NaN                 NaN               2          no      NaN  \n",
      "\n",
      "[839 rows x 17 columns]\n"
     ]
    }
   ],
   "source": [
    "# Define the URL for Air New Zealand reviews\n",
    "airline_url = \"https://www.airlinequality.com/airline-reviews/air-new-zealand/\"\n",
    "\n",
    "# Scrape all reviews across pages\n",
    "reviews_df = get_all_reviews(airline_url)\n",
    "\n",
    "# Display the DataFrame\n",
    "print(reviews_df)"
   ]
  },
  {
   "cell_type": "code",
   "execution_count": 6,
   "metadata": {
    "execution": {
     "iopub.execute_input": "2024-10-15T11:42:05.681516Z",
     "iopub.status.busy": "2024-10-15T11:42:05.681372Z",
     "iopub.status.idle": "2024-10-15T11:42:05.701550Z",
     "shell.execute_reply": "2024-10-15T11:42:05.701301Z"
    }
   },
   "outputs": [
    {
     "data": {
      "text/html": [
       "<div>\n",
       "<style scoped>\n",
       "    .dataframe tbody tr th:only-of-type {\n",
       "        vertical-align: middle;\n",
       "    }\n",
       "\n",
       "    .dataframe tbody tr th {\n",
       "        vertical-align: top;\n",
       "    }\n",
       "\n",
       "    .dataframe thead th {\n",
       "        text-align: right;\n",
       "    }\n",
       "</style>\n",
       "<table border=\"1\" class=\"dataframe\">\n",
       "  <thead>\n",
       "    <tr style=\"text-align: right;\">\n",
       "      <th></th>\n",
       "      <th>date</th>\n",
       "      <th>header</th>\n",
       "      <th>rating</th>\n",
       "      <th>content</th>\n",
       "      <th>Type Of Traveller</th>\n",
       "      <th>Seat Type</th>\n",
       "      <th>Route</th>\n",
       "      <th>Date Flown</th>\n",
       "      <th>Seat Comfort</th>\n",
       "      <th>Cabin Staff Service</th>\n",
       "      <th>Food &amp; Beverages</th>\n",
       "      <th>Inflight Entertainment</th>\n",
       "      <th>Ground Service</th>\n",
       "      <th>Wifi &amp; Connectivity</th>\n",
       "      <th>Value For Money</th>\n",
       "      <th>Recommended</th>\n",
       "      <th>Aircraft</th>\n",
       "    </tr>\n",
       "  </thead>\n",
       "  <tbody>\n",
       "    <tr>\n",
       "      <th>0</th>\n",
       "      <td>2024-09-15</td>\n",
       "      <td>\"Service was so good\"</td>\n",
       "      <td>10</td>\n",
       "      <td>Not Verified |  Such a lovely experience! Serv...</td>\n",
       "      <td>Business</td>\n",
       "      <td>Economy Class</td>\n",
       "      <td>Melbourne to Tokyo</td>\n",
       "      <td>August 2024</td>\n",
       "      <td>5</td>\n",
       "      <td>5</td>\n",
       "      <td>5</td>\n",
       "      <td>5</td>\n",
       "      <td>5</td>\n",
       "      <td>5</td>\n",
       "      <td>5</td>\n",
       "      <td>yes</td>\n",
       "      <td>NaN</td>\n",
       "    </tr>\n",
       "    <tr>\n",
       "      <th>1</th>\n",
       "      <td>2024-09-12</td>\n",
       "      <td>“a highly disappointing experience”</td>\n",
       "      <td>4</td>\n",
       "      <td>Not Verified | I recently had a highly disappo...</td>\n",
       "      <td>Solo Leisure</td>\n",
       "      <td>Economy Class</td>\n",
       "      <td>Raratonga to Auckland via Taipei</td>\n",
       "      <td>August 2024</td>\n",
       "      <td>3</td>\n",
       "      <td>4</td>\n",
       "      <td>3</td>\n",
       "      <td>3</td>\n",
       "      <td>1</td>\n",
       "      <td>4</td>\n",
       "      <td>1</td>\n",
       "      <td>no</td>\n",
       "      <td>NaN</td>\n",
       "    </tr>\n",
       "    <tr>\n",
       "      <th>2</th>\n",
       "      <td>2024-08-29</td>\n",
       "      <td>“the legroom was huge”</td>\n",
       "      <td>9</td>\n",
       "      <td>Not Verified | I was honestly quite surprised ...</td>\n",
       "      <td>Family Leisure</td>\n",
       "      <td>Economy Class</td>\n",
       "      <td>Auckland to Queenstown</td>\n",
       "      <td>December 2023</td>\n",
       "      <td>5</td>\n",
       "      <td>5</td>\n",
       "      <td>5</td>\n",
       "      <td>NaN</td>\n",
       "      <td>5</td>\n",
       "      <td>4</td>\n",
       "      <td>5</td>\n",
       "      <td>yes</td>\n",
       "      <td>A320</td>\n",
       "    </tr>\n",
       "    <tr>\n",
       "      <th>3</th>\n",
       "      <td>2024-08-19</td>\n",
       "      <td>\"getting worse by the day\"</td>\n",
       "      <td>3</td>\n",
       "      <td>Not Verified |  Air New Zealand domestic servi...</td>\n",
       "      <td>Business</td>\n",
       "      <td>Economy Class</td>\n",
       "      <td>Auckland to Napier</td>\n",
       "      <td>August 2024</td>\n",
       "      <td>4</td>\n",
       "      <td>5</td>\n",
       "      <td>NaN</td>\n",
       "      <td>NaN</td>\n",
       "      <td>5</td>\n",
       "      <td>NaN</td>\n",
       "      <td>1</td>\n",
       "      <td>no</td>\n",
       "      <td>NaN</td>\n",
       "    </tr>\n",
       "    <tr>\n",
       "      <th>4</th>\n",
       "      <td>2024-08-13</td>\n",
       "      <td>\"never fly Air New Zealand again\"</td>\n",
       "      <td>1</td>\n",
       "      <td>✅ Trip Verified |   Air New Zealand bumped us ...</td>\n",
       "      <td>Family Leisure</td>\n",
       "      <td>Economy Class</td>\n",
       "      <td>Napier to Auckland</td>\n",
       "      <td>June 2024</td>\n",
       "      <td>3</td>\n",
       "      <td>4</td>\n",
       "      <td>NaN</td>\n",
       "      <td>NaN</td>\n",
       "      <td>1</td>\n",
       "      <td>NaN</td>\n",
       "      <td>1</td>\n",
       "      <td>no</td>\n",
       "      <td>ATR-72</td>\n",
       "    </tr>\n",
       "    <tr>\n",
       "      <th>...</th>\n",
       "      <td>...</td>\n",
       "      <td>...</td>\n",
       "      <td>...</td>\n",
       "      <td>...</td>\n",
       "      <td>...</td>\n",
       "      <td>...</td>\n",
       "      <td>...</td>\n",
       "      <td>...</td>\n",
       "      <td>...</td>\n",
       "      <td>...</td>\n",
       "      <td>...</td>\n",
       "      <td>...</td>\n",
       "      <td>...</td>\n",
       "      <td>...</td>\n",
       "      <td>...</td>\n",
       "      <td>...</td>\n",
       "      <td>...</td>\n",
       "    </tr>\n",
       "    <tr>\n",
       "      <th>948</th>\n",
       "      <td>2013-05-08</td>\n",
       "      <td>Air New Zealand customer review</td>\n",
       "      <td>9</td>\n",
       "      <td>Flew Premium Economy from LAX to AKL on a 777-...</td>\n",
       "      <td>NaN</td>\n",
       "      <td>Premium Economy</td>\n",
       "      <td>NaN</td>\n",
       "      <td>NaN</td>\n",
       "      <td>4</td>\n",
       "      <td>5</td>\n",
       "      <td>5</td>\n",
       "      <td>5</td>\n",
       "      <td>NaN</td>\n",
       "      <td>NaN</td>\n",
       "      <td>5</td>\n",
       "      <td>yes</td>\n",
       "      <td>NaN</td>\n",
       "    </tr>\n",
       "    <tr>\n",
       "      <th>949</th>\n",
       "      <td>2013-05-08</td>\n",
       "      <td>Air New Zealand customer review</td>\n",
       "      <td>3</td>\n",
       "      <td>Leg room on Internal flights is getting smalle...</td>\n",
       "      <td>NaN</td>\n",
       "      <td>Economy Class</td>\n",
       "      <td>NaN</td>\n",
       "      <td>NaN</td>\n",
       "      <td>1</td>\n",
       "      <td>4</td>\n",
       "      <td>3</td>\n",
       "      <td>N/A</td>\n",
       "      <td>NaN</td>\n",
       "      <td>NaN</td>\n",
       "      <td>3</td>\n",
       "      <td>no</td>\n",
       "      <td>NaN</td>\n",
       "    </tr>\n",
       "    <tr>\n",
       "      <th>950</th>\n",
       "      <td>2013-05-06</td>\n",
       "      <td>Air New Zealand customer review</td>\n",
       "      <td>5</td>\n",
       "      <td>Adelaide to Auckland April 28 2013. Usual incr...</td>\n",
       "      <td>NaN</td>\n",
       "      <td>Economy Class</td>\n",
       "      <td>NaN</td>\n",
       "      <td>NaN</td>\n",
       "      <td>3</td>\n",
       "      <td>3</td>\n",
       "      <td>4</td>\n",
       "      <td>1</td>\n",
       "      <td>NaN</td>\n",
       "      <td>NaN</td>\n",
       "      <td>3</td>\n",
       "      <td>no</td>\n",
       "      <td>NaN</td>\n",
       "    </tr>\n",
       "    <tr>\n",
       "      <th>951</th>\n",
       "      <td>2013-05-01</td>\n",
       "      <td>Air New Zealand customer review</td>\n",
       "      <td>5</td>\n",
       "      <td>B747-400 Premium Economy SFO-AKL B767 Works AK...</td>\n",
       "      <td>NaN</td>\n",
       "      <td>Premium Economy</td>\n",
       "      <td>NaN</td>\n",
       "      <td>NaN</td>\n",
       "      <td>3</td>\n",
       "      <td>3</td>\n",
       "      <td>4</td>\n",
       "      <td>3</td>\n",
       "      <td>NaN</td>\n",
       "      <td>NaN</td>\n",
       "      <td>2</td>\n",
       "      <td>no</td>\n",
       "      <td>NaN</td>\n",
       "    </tr>\n",
       "    <tr>\n",
       "      <th>952</th>\n",
       "      <td>2013-05-01</td>\n",
       "      <td>Air New Zealand customer review</td>\n",
       "      <td>5</td>\n",
       "      <td>I have been flying with Air New Zealand since ...</td>\n",
       "      <td>NaN</td>\n",
       "      <td>Premium Economy</td>\n",
       "      <td>NaN</td>\n",
       "      <td>NaN</td>\n",
       "      <td>4</td>\n",
       "      <td>3</td>\n",
       "      <td>4</td>\n",
       "      <td>2</td>\n",
       "      <td>NaN</td>\n",
       "      <td>NaN</td>\n",
       "      <td>2</td>\n",
       "      <td>no</td>\n",
       "      <td>NaN</td>\n",
       "    </tr>\n",
       "  </tbody>\n",
       "</table>\n",
       "<p>839 rows × 17 columns</p>\n",
       "</div>"
      ],
      "text/plain": [
       "           date                               header rating  \\\n",
       "0    2024-09-15                \"Service was so good\"     10   \n",
       "1    2024-09-12  “a highly disappointing experience”      4   \n",
       "2    2024-08-29               “the legroom was huge”      9   \n",
       "3    2024-08-19           \"getting worse by the day\"      3   \n",
       "4    2024-08-13    \"never fly Air New Zealand again\"      1   \n",
       "..          ...                                  ...    ...   \n",
       "948  2013-05-08      Air New Zealand customer review      9   \n",
       "949  2013-05-08      Air New Zealand customer review      3   \n",
       "950  2013-05-06      Air New Zealand customer review      5   \n",
       "951  2013-05-01      Air New Zealand customer review      5   \n",
       "952  2013-05-01      Air New Zealand customer review      5   \n",
       "\n",
       "                                               content Type Of Traveller  \\\n",
       "0    Not Verified |  Such a lovely experience! Serv...          Business   \n",
       "1    Not Verified | I recently had a highly disappo...      Solo Leisure   \n",
       "2    Not Verified | I was honestly quite surprised ...    Family Leisure   \n",
       "3    Not Verified |  Air New Zealand domestic servi...          Business   \n",
       "4    ✅ Trip Verified |   Air New Zealand bumped us ...    Family Leisure   \n",
       "..                                                 ...               ...   \n",
       "948  Flew Premium Economy from LAX to AKL on a 777-...               NaN   \n",
       "949  Leg room on Internal flights is getting smalle...               NaN   \n",
       "950  Adelaide to Auckland April 28 2013. Usual incr...               NaN   \n",
       "951  B747-400 Premium Economy SFO-AKL B767 Works AK...               NaN   \n",
       "952  I have been flying with Air New Zealand since ...               NaN   \n",
       "\n",
       "           Seat Type                             Route     Date Flown  \\\n",
       "0      Economy Class                Melbourne to Tokyo    August 2024   \n",
       "1      Economy Class  Raratonga to Auckland via Taipei    August 2024   \n",
       "2      Economy Class            Auckland to Queenstown  December 2023   \n",
       "3      Economy Class                Auckland to Napier    August 2024   \n",
       "4      Economy Class               Napier to Auckland       June 2024   \n",
       "..               ...                               ...            ...   \n",
       "948  Premium Economy                               NaN            NaN   \n",
       "949    Economy Class                               NaN            NaN   \n",
       "950    Economy Class                               NaN            NaN   \n",
       "951  Premium Economy                               NaN            NaN   \n",
       "952  Premium Economy                               NaN            NaN   \n",
       "\n",
       "    Seat Comfort Cabin Staff Service Food & Beverages Inflight Entertainment  \\\n",
       "0              5                   5                5                      5   \n",
       "1              3                   4                3                      3   \n",
       "2              5                   5                5                    NaN   \n",
       "3              4                   5              NaN                    NaN   \n",
       "4              3                   4              NaN                    NaN   \n",
       "..           ...                 ...              ...                    ...   \n",
       "948            4                   5                5                      5   \n",
       "949            1                   4                3                    N/A   \n",
       "950            3                   3                4                      1   \n",
       "951            3                   3                4                      3   \n",
       "952            4                   3                4                      2   \n",
       "\n",
       "    Ground Service Wifi & Connectivity Value For Money Recommended Aircraft  \n",
       "0                5                   5               5         yes      NaN  \n",
       "1                1                   4               1          no      NaN  \n",
       "2                5                   4               5         yes     A320  \n",
       "3                5                 NaN               1          no      NaN  \n",
       "4                1                 NaN               1          no   ATR-72  \n",
       "..             ...                 ...             ...         ...      ...  \n",
       "948            NaN                 NaN               5         yes      NaN  \n",
       "949            NaN                 NaN               3          no      NaN  \n",
       "950            NaN                 NaN               3          no      NaN  \n",
       "951            NaN                 NaN               2          no      NaN  \n",
       "952            NaN                 NaN               2          no      NaN  \n",
       "\n",
       "[839 rows x 17 columns]"
      ]
     },
     "execution_count": 6,
     "metadata": {},
     "output_type": "execute_result"
    }
   ],
   "source": [
    "# Save the scraped reviews to a CSV file\n",
    "reviews_df.to_csv(\"../dataset/air_new_zealand_reviews.csv\", index=False)\n",
    "reviews_df"
   ]
  },
  {
   "cell_type": "code",
   "execution_count": 7,
   "metadata": {
    "execution": {
     "iopub.execute_input": "2024-10-15T11:42:05.702697Z",
     "iopub.status.busy": "2024-10-15T11:42:05.702605Z",
     "iopub.status.idle": "2024-10-15T11:42:05.720048Z",
     "shell.execute_reply": "2024-10-15T11:42:05.719841Z"
    }
   },
   "outputs": [
    {
     "data": {
      "text/html": [
       "<div>\n",
       "<style scoped>\n",
       "    .dataframe tbody tr th:only-of-type {\n",
       "        vertical-align: middle;\n",
       "    }\n",
       "\n",
       "    .dataframe tbody tr th {\n",
       "        vertical-align: top;\n",
       "    }\n",
       "\n",
       "    .dataframe thead th {\n",
       "        text-align: right;\n",
       "    }\n",
       "</style>\n",
       "<table border=\"1\" class=\"dataframe\">\n",
       "  <thead>\n",
       "    <tr style=\"text-align: right;\">\n",
       "      <th></th>\n",
       "      <th>date</th>\n",
       "      <th>header</th>\n",
       "      <th>rating</th>\n",
       "      <th>content</th>\n",
       "      <th>Type Of Traveller</th>\n",
       "      <th>Seat Type</th>\n",
       "      <th>Route</th>\n",
       "      <th>Date Flown</th>\n",
       "      <th>Seat Comfort</th>\n",
       "      <th>Cabin Staff Service</th>\n",
       "      <th>Food &amp; Beverages</th>\n",
       "      <th>Inflight Entertainment</th>\n",
       "      <th>Ground Service</th>\n",
       "      <th>Wifi &amp; Connectivity</th>\n",
       "      <th>Value For Money</th>\n",
       "      <th>Recommended</th>\n",
       "      <th>Aircraft</th>\n",
       "    </tr>\n",
       "  </thead>\n",
       "  <tbody>\n",
       "    <tr>\n",
       "      <th>0</th>\n",
       "      <td>2024-09-15</td>\n",
       "      <td>\"Service was so good\"</td>\n",
       "      <td>10</td>\n",
       "      <td>Not Verified |  Such a lovely experience! Serv...</td>\n",
       "      <td>Business</td>\n",
       "      <td>Economy Class</td>\n",
       "      <td>Melbourne to Tokyo</td>\n",
       "      <td>August 2024</td>\n",
       "      <td>5.0</td>\n",
       "      <td>5.0</td>\n",
       "      <td>5.0</td>\n",
       "      <td>5.0</td>\n",
       "      <td>5.0</td>\n",
       "      <td>5.0</td>\n",
       "      <td>5.0</td>\n",
       "      <td>yes</td>\n",
       "      <td>NaN</td>\n",
       "    </tr>\n",
       "    <tr>\n",
       "      <th>1</th>\n",
       "      <td>2024-09-12</td>\n",
       "      <td>“a highly disappointing experience”</td>\n",
       "      <td>4</td>\n",
       "      <td>Not Verified | I recently had a highly disappo...</td>\n",
       "      <td>Solo Leisure</td>\n",
       "      <td>Economy Class</td>\n",
       "      <td>Raratonga to Auckland via Taipei</td>\n",
       "      <td>August 2024</td>\n",
       "      <td>3.0</td>\n",
       "      <td>4.0</td>\n",
       "      <td>3.0</td>\n",
       "      <td>3.0</td>\n",
       "      <td>1.0</td>\n",
       "      <td>4.0</td>\n",
       "      <td>1.0</td>\n",
       "      <td>no</td>\n",
       "      <td>NaN</td>\n",
       "    </tr>\n",
       "    <tr>\n",
       "      <th>2</th>\n",
       "      <td>2024-08-29</td>\n",
       "      <td>“the legroom was huge”</td>\n",
       "      <td>9</td>\n",
       "      <td>Not Verified | I was honestly quite surprised ...</td>\n",
       "      <td>Family Leisure</td>\n",
       "      <td>Economy Class</td>\n",
       "      <td>Auckland to Queenstown</td>\n",
       "      <td>December 2023</td>\n",
       "      <td>5.0</td>\n",
       "      <td>5.0</td>\n",
       "      <td>5.0</td>\n",
       "      <td>NaN</td>\n",
       "      <td>5.0</td>\n",
       "      <td>4.0</td>\n",
       "      <td>5.0</td>\n",
       "      <td>yes</td>\n",
       "      <td>A320</td>\n",
       "    </tr>\n",
       "    <tr>\n",
       "      <th>3</th>\n",
       "      <td>2024-08-19</td>\n",
       "      <td>\"getting worse by the day\"</td>\n",
       "      <td>3</td>\n",
       "      <td>Not Verified |  Air New Zealand domestic servi...</td>\n",
       "      <td>Business</td>\n",
       "      <td>Economy Class</td>\n",
       "      <td>Auckland to Napier</td>\n",
       "      <td>August 2024</td>\n",
       "      <td>4.0</td>\n",
       "      <td>5.0</td>\n",
       "      <td>NaN</td>\n",
       "      <td>NaN</td>\n",
       "      <td>5.0</td>\n",
       "      <td>NaN</td>\n",
       "      <td>1.0</td>\n",
       "      <td>no</td>\n",
       "      <td>NaN</td>\n",
       "    </tr>\n",
       "    <tr>\n",
       "      <th>4</th>\n",
       "      <td>2024-08-13</td>\n",
       "      <td>\"never fly Air New Zealand again\"</td>\n",
       "      <td>1</td>\n",
       "      <td>✅ Trip Verified |   Air New Zealand bumped us ...</td>\n",
       "      <td>Family Leisure</td>\n",
       "      <td>Economy Class</td>\n",
       "      <td>Napier to Auckland</td>\n",
       "      <td>June 2024</td>\n",
       "      <td>3.0</td>\n",
       "      <td>4.0</td>\n",
       "      <td>NaN</td>\n",
       "      <td>NaN</td>\n",
       "      <td>1.0</td>\n",
       "      <td>NaN</td>\n",
       "      <td>1.0</td>\n",
       "      <td>no</td>\n",
       "      <td>ATR-72</td>\n",
       "    </tr>\n",
       "    <tr>\n",
       "      <th>...</th>\n",
       "      <td>...</td>\n",
       "      <td>...</td>\n",
       "      <td>...</td>\n",
       "      <td>...</td>\n",
       "      <td>...</td>\n",
       "      <td>...</td>\n",
       "      <td>...</td>\n",
       "      <td>...</td>\n",
       "      <td>...</td>\n",
       "      <td>...</td>\n",
       "      <td>...</td>\n",
       "      <td>...</td>\n",
       "      <td>...</td>\n",
       "      <td>...</td>\n",
       "      <td>...</td>\n",
       "      <td>...</td>\n",
       "      <td>...</td>\n",
       "    </tr>\n",
       "    <tr>\n",
       "      <th>834</th>\n",
       "      <td>2013-05-08</td>\n",
       "      <td>Air New Zealand customer review</td>\n",
       "      <td>9</td>\n",
       "      <td>Flew Premium Economy from LAX to AKL on a 777-...</td>\n",
       "      <td>NaN</td>\n",
       "      <td>Premium Economy</td>\n",
       "      <td>NaN</td>\n",
       "      <td>NaN</td>\n",
       "      <td>4.0</td>\n",
       "      <td>5.0</td>\n",
       "      <td>5.0</td>\n",
       "      <td>5.0</td>\n",
       "      <td>NaN</td>\n",
       "      <td>NaN</td>\n",
       "      <td>5.0</td>\n",
       "      <td>yes</td>\n",
       "      <td>NaN</td>\n",
       "    </tr>\n",
       "    <tr>\n",
       "      <th>835</th>\n",
       "      <td>2013-05-08</td>\n",
       "      <td>Air New Zealand customer review</td>\n",
       "      <td>3</td>\n",
       "      <td>Leg room on Internal flights is getting smalle...</td>\n",
       "      <td>NaN</td>\n",
       "      <td>Economy Class</td>\n",
       "      <td>NaN</td>\n",
       "      <td>NaN</td>\n",
       "      <td>1.0</td>\n",
       "      <td>4.0</td>\n",
       "      <td>3.0</td>\n",
       "      <td>NaN</td>\n",
       "      <td>NaN</td>\n",
       "      <td>NaN</td>\n",
       "      <td>3.0</td>\n",
       "      <td>no</td>\n",
       "      <td>NaN</td>\n",
       "    </tr>\n",
       "    <tr>\n",
       "      <th>836</th>\n",
       "      <td>2013-05-06</td>\n",
       "      <td>Air New Zealand customer review</td>\n",
       "      <td>5</td>\n",
       "      <td>Adelaide to Auckland April 28 2013. Usual incr...</td>\n",
       "      <td>NaN</td>\n",
       "      <td>Economy Class</td>\n",
       "      <td>NaN</td>\n",
       "      <td>NaN</td>\n",
       "      <td>3.0</td>\n",
       "      <td>3.0</td>\n",
       "      <td>4.0</td>\n",
       "      <td>1.0</td>\n",
       "      <td>NaN</td>\n",
       "      <td>NaN</td>\n",
       "      <td>3.0</td>\n",
       "      <td>no</td>\n",
       "      <td>NaN</td>\n",
       "    </tr>\n",
       "    <tr>\n",
       "      <th>837</th>\n",
       "      <td>2013-05-01</td>\n",
       "      <td>Air New Zealand customer review</td>\n",
       "      <td>5</td>\n",
       "      <td>B747-400 Premium Economy SFO-AKL B767 Works AK...</td>\n",
       "      <td>NaN</td>\n",
       "      <td>Premium Economy</td>\n",
       "      <td>NaN</td>\n",
       "      <td>NaN</td>\n",
       "      <td>3.0</td>\n",
       "      <td>3.0</td>\n",
       "      <td>4.0</td>\n",
       "      <td>3.0</td>\n",
       "      <td>NaN</td>\n",
       "      <td>NaN</td>\n",
       "      <td>2.0</td>\n",
       "      <td>no</td>\n",
       "      <td>NaN</td>\n",
       "    </tr>\n",
       "    <tr>\n",
       "      <th>838</th>\n",
       "      <td>2013-05-01</td>\n",
       "      <td>Air New Zealand customer review</td>\n",
       "      <td>5</td>\n",
       "      <td>I have been flying with Air New Zealand since ...</td>\n",
       "      <td>NaN</td>\n",
       "      <td>Premium Economy</td>\n",
       "      <td>NaN</td>\n",
       "      <td>NaN</td>\n",
       "      <td>4.0</td>\n",
       "      <td>3.0</td>\n",
       "      <td>4.0</td>\n",
       "      <td>2.0</td>\n",
       "      <td>NaN</td>\n",
       "      <td>NaN</td>\n",
       "      <td>2.0</td>\n",
       "      <td>no</td>\n",
       "      <td>NaN</td>\n",
       "    </tr>\n",
       "  </tbody>\n",
       "</table>\n",
       "<p>839 rows × 17 columns</p>\n",
       "</div>"
      ],
      "text/plain": [
       "           date                               header  rating  \\\n",
       "0    2024-09-15                \"Service was so good\"      10   \n",
       "1    2024-09-12  “a highly disappointing experience”       4   \n",
       "2    2024-08-29               “the legroom was huge”       9   \n",
       "3    2024-08-19           \"getting worse by the day\"       3   \n",
       "4    2024-08-13    \"never fly Air New Zealand again\"       1   \n",
       "..          ...                                  ...     ...   \n",
       "834  2013-05-08      Air New Zealand customer review       9   \n",
       "835  2013-05-08      Air New Zealand customer review       3   \n",
       "836  2013-05-06      Air New Zealand customer review       5   \n",
       "837  2013-05-01      Air New Zealand customer review       5   \n",
       "838  2013-05-01      Air New Zealand customer review       5   \n",
       "\n",
       "                                               content Type Of Traveller  \\\n",
       "0    Not Verified |  Such a lovely experience! Serv...          Business   \n",
       "1    Not Verified | I recently had a highly disappo...      Solo Leisure   \n",
       "2    Not Verified | I was honestly quite surprised ...    Family Leisure   \n",
       "3    Not Verified |  Air New Zealand domestic servi...          Business   \n",
       "4    ✅ Trip Verified |   Air New Zealand bumped us ...    Family Leisure   \n",
       "..                                                 ...               ...   \n",
       "834  Flew Premium Economy from LAX to AKL on a 777-...               NaN   \n",
       "835  Leg room on Internal flights is getting smalle...               NaN   \n",
       "836  Adelaide to Auckland April 28 2013. Usual incr...               NaN   \n",
       "837  B747-400 Premium Economy SFO-AKL B767 Works AK...               NaN   \n",
       "838  I have been flying with Air New Zealand since ...               NaN   \n",
       "\n",
       "           Seat Type                             Route     Date Flown  \\\n",
       "0      Economy Class                Melbourne to Tokyo    August 2024   \n",
       "1      Economy Class  Raratonga to Auckland via Taipei    August 2024   \n",
       "2      Economy Class            Auckland to Queenstown  December 2023   \n",
       "3      Economy Class                Auckland to Napier    August 2024   \n",
       "4      Economy Class               Napier to Auckland       June 2024   \n",
       "..               ...                               ...            ...   \n",
       "834  Premium Economy                               NaN            NaN   \n",
       "835    Economy Class                               NaN            NaN   \n",
       "836    Economy Class                               NaN            NaN   \n",
       "837  Premium Economy                               NaN            NaN   \n",
       "838  Premium Economy                               NaN            NaN   \n",
       "\n",
       "     Seat Comfort  Cabin Staff Service  Food & Beverages  \\\n",
       "0             5.0                  5.0               5.0   \n",
       "1             3.0                  4.0               3.0   \n",
       "2             5.0                  5.0               5.0   \n",
       "3             4.0                  5.0               NaN   \n",
       "4             3.0                  4.0               NaN   \n",
       "..            ...                  ...               ...   \n",
       "834           4.0                  5.0               5.0   \n",
       "835           1.0                  4.0               3.0   \n",
       "836           3.0                  3.0               4.0   \n",
       "837           3.0                  3.0               4.0   \n",
       "838           4.0                  3.0               4.0   \n",
       "\n",
       "     Inflight Entertainment  Ground Service  Wifi & Connectivity  \\\n",
       "0                       5.0             5.0                  5.0   \n",
       "1                       3.0             1.0                  4.0   \n",
       "2                       NaN             5.0                  4.0   \n",
       "3                       NaN             5.0                  NaN   \n",
       "4                       NaN             1.0                  NaN   \n",
       "..                      ...             ...                  ...   \n",
       "834                     5.0             NaN                  NaN   \n",
       "835                     NaN             NaN                  NaN   \n",
       "836                     1.0             NaN                  NaN   \n",
       "837                     3.0             NaN                  NaN   \n",
       "838                     2.0             NaN                  NaN   \n",
       "\n",
       "     Value For Money Recommended Aircraft  \n",
       "0                5.0         yes      NaN  \n",
       "1                1.0          no      NaN  \n",
       "2                5.0         yes     A320  \n",
       "3                1.0          no      NaN  \n",
       "4                1.0          no   ATR-72  \n",
       "..               ...         ...      ...  \n",
       "834              5.0         yes      NaN  \n",
       "835              3.0          no      NaN  \n",
       "836              3.0          no      NaN  \n",
       "837              2.0          no      NaN  \n",
       "838              2.0          no      NaN  \n",
       "\n",
       "[839 rows x 17 columns]"
      ]
     },
     "execution_count": 7,
     "metadata": {},
     "output_type": "execute_result"
    }
   ],
   "source": [
    "# Load the scraped CSV file\n",
    "airnz_reviews = \"../dataset/air_new_zealand_reviews.csv\"\n",
    "reviews_df = pd.read_csv(airnz_reviews)\n",
    "\n",
    "reviews_df"
   ]
  },
  {
   "cell_type": "code",
   "execution_count": 8,
   "metadata": {
    "execution": {
     "iopub.execute_input": "2024-10-15T11:42:05.721074Z",
     "iopub.status.busy": "2024-10-15T11:42:05.720996Z",
     "iopub.status.idle": "2024-10-15T11:42:05.728207Z",
     "shell.execute_reply": "2024-10-15T11:42:05.728014Z"
    }
   },
   "outputs": [
    {
     "data": {
      "text/html": [
       "<div>\n",
       "<style scoped>\n",
       "    .dataframe tbody tr th:only-of-type {\n",
       "        vertical-align: middle;\n",
       "    }\n",
       "\n",
       "    .dataframe tbody tr th {\n",
       "        vertical-align: top;\n",
       "    }\n",
       "\n",
       "    .dataframe thead th {\n",
       "        text-align: right;\n",
       "    }\n",
       "</style>\n",
       "<table border=\"1\" class=\"dataframe\">\n",
       "  <thead>\n",
       "    <tr style=\"text-align: right;\">\n",
       "      <th></th>\n",
       "      <th>date</th>\n",
       "      <th>header</th>\n",
       "      <th>rating</th>\n",
       "      <th>content</th>\n",
       "      <th>type_of_traveller</th>\n",
       "      <th>seat_type</th>\n",
       "      <th>route</th>\n",
       "      <th>date_flown</th>\n",
       "      <th>seat_comfort</th>\n",
       "      <th>cabin_staff_service</th>\n",
       "      <th>food_&amp;_beverages</th>\n",
       "      <th>inflight_entertainment</th>\n",
       "      <th>ground_service</th>\n",
       "      <th>wifi_&amp;_connectivity</th>\n",
       "      <th>value_for_money</th>\n",
       "      <th>recommended</th>\n",
       "      <th>aircraft</th>\n",
       "    </tr>\n",
       "  </thead>\n",
       "  <tbody>\n",
       "    <tr>\n",
       "      <th>0</th>\n",
       "      <td>2024-09-15</td>\n",
       "      <td>\"Service was so good\"</td>\n",
       "      <td>10</td>\n",
       "      <td>Not Verified |  Such a lovely experience! Serv...</td>\n",
       "      <td>Business</td>\n",
       "      <td>Economy Class</td>\n",
       "      <td>Melbourne to Tokyo</td>\n",
       "      <td>August 2024</td>\n",
       "      <td>5.0</td>\n",
       "      <td>5.0</td>\n",
       "      <td>5.0</td>\n",
       "      <td>5.0</td>\n",
       "      <td>5.0</td>\n",
       "      <td>5.0</td>\n",
       "      <td>5.0</td>\n",
       "      <td>yes</td>\n",
       "      <td>NaN</td>\n",
       "    </tr>\n",
       "    <tr>\n",
       "      <th>1</th>\n",
       "      <td>2024-09-12</td>\n",
       "      <td>“a highly disappointing experience”</td>\n",
       "      <td>4</td>\n",
       "      <td>Not Verified | I recently had a highly disappo...</td>\n",
       "      <td>Solo Leisure</td>\n",
       "      <td>Economy Class</td>\n",
       "      <td>Raratonga to Auckland via Taipei</td>\n",
       "      <td>August 2024</td>\n",
       "      <td>3.0</td>\n",
       "      <td>4.0</td>\n",
       "      <td>3.0</td>\n",
       "      <td>3.0</td>\n",
       "      <td>1.0</td>\n",
       "      <td>4.0</td>\n",
       "      <td>1.0</td>\n",
       "      <td>no</td>\n",
       "      <td>NaN</td>\n",
       "    </tr>\n",
       "    <tr>\n",
       "      <th>2</th>\n",
       "      <td>2024-08-29</td>\n",
       "      <td>“the legroom was huge”</td>\n",
       "      <td>9</td>\n",
       "      <td>Not Verified | I was honestly quite surprised ...</td>\n",
       "      <td>Family Leisure</td>\n",
       "      <td>Economy Class</td>\n",
       "      <td>Auckland to Queenstown</td>\n",
       "      <td>December 2023</td>\n",
       "      <td>5.0</td>\n",
       "      <td>5.0</td>\n",
       "      <td>5.0</td>\n",
       "      <td>NaN</td>\n",
       "      <td>5.0</td>\n",
       "      <td>4.0</td>\n",
       "      <td>5.0</td>\n",
       "      <td>yes</td>\n",
       "      <td>A320</td>\n",
       "    </tr>\n",
       "    <tr>\n",
       "      <th>3</th>\n",
       "      <td>2024-08-19</td>\n",
       "      <td>\"getting worse by the day\"</td>\n",
       "      <td>3</td>\n",
       "      <td>Not Verified |  Air New Zealand domestic servi...</td>\n",
       "      <td>Business</td>\n",
       "      <td>Economy Class</td>\n",
       "      <td>Auckland to Napier</td>\n",
       "      <td>August 2024</td>\n",
       "      <td>4.0</td>\n",
       "      <td>5.0</td>\n",
       "      <td>NaN</td>\n",
       "      <td>NaN</td>\n",
       "      <td>5.0</td>\n",
       "      <td>NaN</td>\n",
       "      <td>1.0</td>\n",
       "      <td>no</td>\n",
       "      <td>NaN</td>\n",
       "    </tr>\n",
       "    <tr>\n",
       "      <th>4</th>\n",
       "      <td>2024-08-13</td>\n",
       "      <td>\"never fly Air New Zealand again\"</td>\n",
       "      <td>1</td>\n",
       "      <td>✅ Trip Verified |   Air New Zealand bumped us ...</td>\n",
       "      <td>Family Leisure</td>\n",
       "      <td>Economy Class</td>\n",
       "      <td>Napier to Auckland</td>\n",
       "      <td>June 2024</td>\n",
       "      <td>3.0</td>\n",
       "      <td>4.0</td>\n",
       "      <td>NaN</td>\n",
       "      <td>NaN</td>\n",
       "      <td>1.0</td>\n",
       "      <td>NaN</td>\n",
       "      <td>1.0</td>\n",
       "      <td>no</td>\n",
       "      <td>ATR-72</td>\n",
       "    </tr>\n",
       "    <tr>\n",
       "      <th>...</th>\n",
       "      <td>...</td>\n",
       "      <td>...</td>\n",
       "      <td>...</td>\n",
       "      <td>...</td>\n",
       "      <td>...</td>\n",
       "      <td>...</td>\n",
       "      <td>...</td>\n",
       "      <td>...</td>\n",
       "      <td>...</td>\n",
       "      <td>...</td>\n",
       "      <td>...</td>\n",
       "      <td>...</td>\n",
       "      <td>...</td>\n",
       "      <td>...</td>\n",
       "      <td>...</td>\n",
       "      <td>...</td>\n",
       "      <td>...</td>\n",
       "    </tr>\n",
       "    <tr>\n",
       "      <th>834</th>\n",
       "      <td>2013-05-08</td>\n",
       "      <td>Air New Zealand customer review</td>\n",
       "      <td>9</td>\n",
       "      <td>Flew Premium Economy from LAX to AKL on a 777-...</td>\n",
       "      <td>NaN</td>\n",
       "      <td>Premium Economy</td>\n",
       "      <td>NaN</td>\n",
       "      <td>NaN</td>\n",
       "      <td>4.0</td>\n",
       "      <td>5.0</td>\n",
       "      <td>5.0</td>\n",
       "      <td>5.0</td>\n",
       "      <td>NaN</td>\n",
       "      <td>NaN</td>\n",
       "      <td>5.0</td>\n",
       "      <td>yes</td>\n",
       "      <td>NaN</td>\n",
       "    </tr>\n",
       "    <tr>\n",
       "      <th>835</th>\n",
       "      <td>2013-05-08</td>\n",
       "      <td>Air New Zealand customer review</td>\n",
       "      <td>3</td>\n",
       "      <td>Leg room on Internal flights is getting smalle...</td>\n",
       "      <td>NaN</td>\n",
       "      <td>Economy Class</td>\n",
       "      <td>NaN</td>\n",
       "      <td>NaN</td>\n",
       "      <td>1.0</td>\n",
       "      <td>4.0</td>\n",
       "      <td>3.0</td>\n",
       "      <td>NaN</td>\n",
       "      <td>NaN</td>\n",
       "      <td>NaN</td>\n",
       "      <td>3.0</td>\n",
       "      <td>no</td>\n",
       "      <td>NaN</td>\n",
       "    </tr>\n",
       "    <tr>\n",
       "      <th>836</th>\n",
       "      <td>2013-05-06</td>\n",
       "      <td>Air New Zealand customer review</td>\n",
       "      <td>5</td>\n",
       "      <td>Adelaide to Auckland April 28 2013. Usual incr...</td>\n",
       "      <td>NaN</td>\n",
       "      <td>Economy Class</td>\n",
       "      <td>NaN</td>\n",
       "      <td>NaN</td>\n",
       "      <td>3.0</td>\n",
       "      <td>3.0</td>\n",
       "      <td>4.0</td>\n",
       "      <td>1.0</td>\n",
       "      <td>NaN</td>\n",
       "      <td>NaN</td>\n",
       "      <td>3.0</td>\n",
       "      <td>no</td>\n",
       "      <td>NaN</td>\n",
       "    </tr>\n",
       "    <tr>\n",
       "      <th>837</th>\n",
       "      <td>2013-05-01</td>\n",
       "      <td>Air New Zealand customer review</td>\n",
       "      <td>5</td>\n",
       "      <td>B747-400 Premium Economy SFO-AKL B767 Works AK...</td>\n",
       "      <td>NaN</td>\n",
       "      <td>Premium Economy</td>\n",
       "      <td>NaN</td>\n",
       "      <td>NaN</td>\n",
       "      <td>3.0</td>\n",
       "      <td>3.0</td>\n",
       "      <td>4.0</td>\n",
       "      <td>3.0</td>\n",
       "      <td>NaN</td>\n",
       "      <td>NaN</td>\n",
       "      <td>2.0</td>\n",
       "      <td>no</td>\n",
       "      <td>NaN</td>\n",
       "    </tr>\n",
       "    <tr>\n",
       "      <th>838</th>\n",
       "      <td>2013-05-01</td>\n",
       "      <td>Air New Zealand customer review</td>\n",
       "      <td>5</td>\n",
       "      <td>I have been flying with Air New Zealand since ...</td>\n",
       "      <td>NaN</td>\n",
       "      <td>Premium Economy</td>\n",
       "      <td>NaN</td>\n",
       "      <td>NaN</td>\n",
       "      <td>4.0</td>\n",
       "      <td>3.0</td>\n",
       "      <td>4.0</td>\n",
       "      <td>2.0</td>\n",
       "      <td>NaN</td>\n",
       "      <td>NaN</td>\n",
       "      <td>2.0</td>\n",
       "      <td>no</td>\n",
       "      <td>NaN</td>\n",
       "    </tr>\n",
       "  </tbody>\n",
       "</table>\n",
       "<p>839 rows × 17 columns</p>\n",
       "</div>"
      ],
      "text/plain": [
       "           date                               header  rating  \\\n",
       "0    2024-09-15                \"Service was so good\"      10   \n",
       "1    2024-09-12  “a highly disappointing experience”       4   \n",
       "2    2024-08-29               “the legroom was huge”       9   \n",
       "3    2024-08-19           \"getting worse by the day\"       3   \n",
       "4    2024-08-13    \"never fly Air New Zealand again\"       1   \n",
       "..          ...                                  ...     ...   \n",
       "834  2013-05-08      Air New Zealand customer review       9   \n",
       "835  2013-05-08      Air New Zealand customer review       3   \n",
       "836  2013-05-06      Air New Zealand customer review       5   \n",
       "837  2013-05-01      Air New Zealand customer review       5   \n",
       "838  2013-05-01      Air New Zealand customer review       5   \n",
       "\n",
       "                                               content type_of_traveller  \\\n",
       "0    Not Verified |  Such a lovely experience! Serv...          Business   \n",
       "1    Not Verified | I recently had a highly disappo...      Solo Leisure   \n",
       "2    Not Verified | I was honestly quite surprised ...    Family Leisure   \n",
       "3    Not Verified |  Air New Zealand domestic servi...          Business   \n",
       "4    ✅ Trip Verified |   Air New Zealand bumped us ...    Family Leisure   \n",
       "..                                                 ...               ...   \n",
       "834  Flew Premium Economy from LAX to AKL on a 777-...               NaN   \n",
       "835  Leg room on Internal flights is getting smalle...               NaN   \n",
       "836  Adelaide to Auckland April 28 2013. Usual incr...               NaN   \n",
       "837  B747-400 Premium Economy SFO-AKL B767 Works AK...               NaN   \n",
       "838  I have been flying with Air New Zealand since ...               NaN   \n",
       "\n",
       "           seat_type                             route     date_flown  \\\n",
       "0      Economy Class                Melbourne to Tokyo    August 2024   \n",
       "1      Economy Class  Raratonga to Auckland via Taipei    August 2024   \n",
       "2      Economy Class            Auckland to Queenstown  December 2023   \n",
       "3      Economy Class                Auckland to Napier    August 2024   \n",
       "4      Economy Class               Napier to Auckland       June 2024   \n",
       "..               ...                               ...            ...   \n",
       "834  Premium Economy                               NaN            NaN   \n",
       "835    Economy Class                               NaN            NaN   \n",
       "836    Economy Class                               NaN            NaN   \n",
       "837  Premium Economy                               NaN            NaN   \n",
       "838  Premium Economy                               NaN            NaN   \n",
       "\n",
       "     seat_comfort  cabin_staff_service  food_&_beverages  \\\n",
       "0             5.0                  5.0               5.0   \n",
       "1             3.0                  4.0               3.0   \n",
       "2             5.0                  5.0               5.0   \n",
       "3             4.0                  5.0               NaN   \n",
       "4             3.0                  4.0               NaN   \n",
       "..            ...                  ...               ...   \n",
       "834           4.0                  5.0               5.0   \n",
       "835           1.0                  4.0               3.0   \n",
       "836           3.0                  3.0               4.0   \n",
       "837           3.0                  3.0               4.0   \n",
       "838           4.0                  3.0               4.0   \n",
       "\n",
       "     inflight_entertainment  ground_service  wifi_&_connectivity  \\\n",
       "0                       5.0             5.0                  5.0   \n",
       "1                       3.0             1.0                  4.0   \n",
       "2                       NaN             5.0                  4.0   \n",
       "3                       NaN             5.0                  NaN   \n",
       "4                       NaN             1.0                  NaN   \n",
       "..                      ...             ...                  ...   \n",
       "834                     5.0             NaN                  NaN   \n",
       "835                     NaN             NaN                  NaN   \n",
       "836                     1.0             NaN                  NaN   \n",
       "837                     3.0             NaN                  NaN   \n",
       "838                     2.0             NaN                  NaN   \n",
       "\n",
       "     value_for_money recommended aircraft  \n",
       "0                5.0         yes      NaN  \n",
       "1                1.0          no      NaN  \n",
       "2                5.0         yes     A320  \n",
       "3                1.0          no      NaN  \n",
       "4                1.0          no   ATR-72  \n",
       "..               ...         ...      ...  \n",
       "834              5.0         yes      NaN  \n",
       "835              3.0          no      NaN  \n",
       "836              3.0          no      NaN  \n",
       "837              2.0          no      NaN  \n",
       "838              2.0          no      NaN  \n",
       "\n",
       "[839 rows x 17 columns]"
      ]
     },
     "execution_count": 8,
     "metadata": {},
     "output_type": "execute_result"
    }
   ],
   "source": [
    "# Format headers: convert to lowercase and replace spaces with underscores\n",
    "new_columns = {}\n",
    "\n",
    "for col in reviews_df.columns:\n",
    "    # Convert the column name to lowercase\n",
    "    clean_col = col.lower()\n",
    "    \n",
    "    # Replace any spaces with underscores\n",
    "    clean_col = re.sub(r\"\\s+\", '_', clean_col)\n",
    "    \n",
    "    # Add the cleaned column name to the new_columns dictionary\n",
    "    new_columns[col] = clean_col\n",
    "\n",
    "# Use the dictionary to rename the columns in the dataframe\n",
    "reviews_df = reviews_df.rename(columns=new_columns)\n",
    "\n",
    "reviews_df"
   ]
  },
  {
   "cell_type": "code",
   "execution_count": 9,
   "metadata": {
    "execution": {
     "iopub.execute_input": "2024-10-15T11:42:05.729181Z",
     "iopub.status.busy": "2024-10-15T11:42:05.729101Z",
     "iopub.status.idle": "2024-10-15T11:42:05.736679Z",
     "shell.execute_reply": "2024-10-15T11:42:05.736466Z"
    }
   },
   "outputs": [
    {
     "data": {
      "text/html": [
       "<div>\n",
       "<style scoped>\n",
       "    .dataframe tbody tr th:only-of-type {\n",
       "        vertical-align: middle;\n",
       "    }\n",
       "\n",
       "    .dataframe tbody tr th {\n",
       "        vertical-align: top;\n",
       "    }\n",
       "\n",
       "    .dataframe thead th {\n",
       "        text-align: right;\n",
       "    }\n",
       "</style>\n",
       "<table border=\"1\" class=\"dataframe\">\n",
       "  <thead>\n",
       "    <tr style=\"text-align: right;\">\n",
       "      <th></th>\n",
       "      <th>date</th>\n",
       "      <th>header</th>\n",
       "      <th>rating</th>\n",
       "      <th>content</th>\n",
       "      <th>type_of_traveller</th>\n",
       "      <th>seat_type</th>\n",
       "      <th>route</th>\n",
       "      <th>date_flown</th>\n",
       "      <th>seat_comfort</th>\n",
       "      <th>cabin_staff_service</th>\n",
       "      <th>food_&amp;_beverages</th>\n",
       "      <th>inflight_entertainment</th>\n",
       "      <th>ground_service</th>\n",
       "      <th>wifi_&amp;_connectivity</th>\n",
       "      <th>value_for_money</th>\n",
       "      <th>recommended</th>\n",
       "      <th>aircraft</th>\n",
       "    </tr>\n",
       "  </thead>\n",
       "  <tbody>\n",
       "    <tr>\n",
       "      <th>0</th>\n",
       "      <td>2024-09-15</td>\n",
       "      <td>\"Service was so good\"</td>\n",
       "      <td>10</td>\n",
       "      <td>Not Verified |  Such a lovely experience! Serv...</td>\n",
       "      <td>Business</td>\n",
       "      <td>Economy Class</td>\n",
       "      <td>Melbourne to Tokyo</td>\n",
       "      <td>August 2024</td>\n",
       "      <td>5.0</td>\n",
       "      <td>5.0</td>\n",
       "      <td>5.0</td>\n",
       "      <td>5.0</td>\n",
       "      <td>5.0</td>\n",
       "      <td>5.0</td>\n",
       "      <td>5.0</td>\n",
       "      <td>yes</td>\n",
       "      <td>NaN</td>\n",
       "    </tr>\n",
       "    <tr>\n",
       "      <th>1</th>\n",
       "      <td>2024-09-12</td>\n",
       "      <td>“a highly disappointing experience”</td>\n",
       "      <td>4</td>\n",
       "      <td>Not Verified | I recently had a highly disappo...</td>\n",
       "      <td>Solo Leisure</td>\n",
       "      <td>Economy Class</td>\n",
       "      <td>Raratonga to Auckland via Taipei</td>\n",
       "      <td>August 2024</td>\n",
       "      <td>3.0</td>\n",
       "      <td>4.0</td>\n",
       "      <td>3.0</td>\n",
       "      <td>3.0</td>\n",
       "      <td>1.0</td>\n",
       "      <td>4.0</td>\n",
       "      <td>1.0</td>\n",
       "      <td>no</td>\n",
       "      <td>NaN</td>\n",
       "    </tr>\n",
       "    <tr>\n",
       "      <th>2</th>\n",
       "      <td>2024-08-29</td>\n",
       "      <td>“the legroom was huge”</td>\n",
       "      <td>9</td>\n",
       "      <td>Not Verified | I was honestly quite surprised ...</td>\n",
       "      <td>Family Leisure</td>\n",
       "      <td>Economy Class</td>\n",
       "      <td>Auckland to Queenstown</td>\n",
       "      <td>December 2023</td>\n",
       "      <td>5.0</td>\n",
       "      <td>5.0</td>\n",
       "      <td>5.0</td>\n",
       "      <td>NaN</td>\n",
       "      <td>5.0</td>\n",
       "      <td>4.0</td>\n",
       "      <td>5.0</td>\n",
       "      <td>yes</td>\n",
       "      <td>A320</td>\n",
       "    </tr>\n",
       "    <tr>\n",
       "      <th>3</th>\n",
       "      <td>2024-08-19</td>\n",
       "      <td>\"getting worse by the day\"</td>\n",
       "      <td>3</td>\n",
       "      <td>Not Verified |  Air New Zealand domestic servi...</td>\n",
       "      <td>Business</td>\n",
       "      <td>Economy Class</td>\n",
       "      <td>Auckland to Napier</td>\n",
       "      <td>August 2024</td>\n",
       "      <td>4.0</td>\n",
       "      <td>5.0</td>\n",
       "      <td>NaN</td>\n",
       "      <td>NaN</td>\n",
       "      <td>5.0</td>\n",
       "      <td>NaN</td>\n",
       "      <td>1.0</td>\n",
       "      <td>no</td>\n",
       "      <td>NaN</td>\n",
       "    </tr>\n",
       "    <tr>\n",
       "      <th>4</th>\n",
       "      <td>2024-08-13</td>\n",
       "      <td>\"never fly Air New Zealand again\"</td>\n",
       "      <td>1</td>\n",
       "      <td>✅ Trip Verified |   Air New Zealand bumped us ...</td>\n",
       "      <td>Family Leisure</td>\n",
       "      <td>Economy Class</td>\n",
       "      <td>Napier to Auckland</td>\n",
       "      <td>June 2024</td>\n",
       "      <td>3.0</td>\n",
       "      <td>4.0</td>\n",
       "      <td>NaN</td>\n",
       "      <td>NaN</td>\n",
       "      <td>1.0</td>\n",
       "      <td>NaN</td>\n",
       "      <td>1.0</td>\n",
       "      <td>no</td>\n",
       "      <td>ATR-72</td>\n",
       "    </tr>\n",
       "    <tr>\n",
       "      <th>...</th>\n",
       "      <td>...</td>\n",
       "      <td>...</td>\n",
       "      <td>...</td>\n",
       "      <td>...</td>\n",
       "      <td>...</td>\n",
       "      <td>...</td>\n",
       "      <td>...</td>\n",
       "      <td>...</td>\n",
       "      <td>...</td>\n",
       "      <td>...</td>\n",
       "      <td>...</td>\n",
       "      <td>...</td>\n",
       "      <td>...</td>\n",
       "      <td>...</td>\n",
       "      <td>...</td>\n",
       "      <td>...</td>\n",
       "      <td>...</td>\n",
       "    </tr>\n",
       "    <tr>\n",
       "      <th>831</th>\n",
       "      <td>2013-05-12</td>\n",
       "      <td>Air New Zealand customer review</td>\n",
       "      <td>3</td>\n",
       "      <td>I have flown with Air New Zealand for several ...</td>\n",
       "      <td>NaN</td>\n",
       "      <td>Economy Class</td>\n",
       "      <td>NaN</td>\n",
       "      <td>NaN</td>\n",
       "      <td>3.0</td>\n",
       "      <td>2.0</td>\n",
       "      <td>3.0</td>\n",
       "      <td>4.0</td>\n",
       "      <td>NaN</td>\n",
       "      <td>NaN</td>\n",
       "      <td>2.0</td>\n",
       "      <td>no</td>\n",
       "      <td>NaN</td>\n",
       "    </tr>\n",
       "    <tr>\n",
       "      <th>832</th>\n",
       "      <td>2013-05-10</td>\n",
       "      <td>Air New Zealand customer review</td>\n",
       "      <td>10</td>\n",
       "      <td>Flew Wellington-San Francisco (via Auckland). ...</td>\n",
       "      <td>NaN</td>\n",
       "      <td>Premium Economy</td>\n",
       "      <td>NaN</td>\n",
       "      <td>NaN</td>\n",
       "      <td>5.0</td>\n",
       "      <td>5.0</td>\n",
       "      <td>5.0</td>\n",
       "      <td>5.0</td>\n",
       "      <td>NaN</td>\n",
       "      <td>NaN</td>\n",
       "      <td>4.0</td>\n",
       "      <td>yes</td>\n",
       "      <td>NaN</td>\n",
       "    </tr>\n",
       "    <tr>\n",
       "      <th>834</th>\n",
       "      <td>2013-05-08</td>\n",
       "      <td>Air New Zealand customer review</td>\n",
       "      <td>9</td>\n",
       "      <td>Flew Premium Economy from LAX to AKL on a 777-...</td>\n",
       "      <td>NaN</td>\n",
       "      <td>Premium Economy</td>\n",
       "      <td>NaN</td>\n",
       "      <td>NaN</td>\n",
       "      <td>4.0</td>\n",
       "      <td>5.0</td>\n",
       "      <td>5.0</td>\n",
       "      <td>5.0</td>\n",
       "      <td>NaN</td>\n",
       "      <td>NaN</td>\n",
       "      <td>5.0</td>\n",
       "      <td>yes</td>\n",
       "      <td>NaN</td>\n",
       "    </tr>\n",
       "    <tr>\n",
       "      <th>836</th>\n",
       "      <td>2013-05-06</td>\n",
       "      <td>Air New Zealand customer review</td>\n",
       "      <td>5</td>\n",
       "      <td>Adelaide to Auckland April 28 2013. Usual incr...</td>\n",
       "      <td>NaN</td>\n",
       "      <td>Economy Class</td>\n",
       "      <td>NaN</td>\n",
       "      <td>NaN</td>\n",
       "      <td>3.0</td>\n",
       "      <td>3.0</td>\n",
       "      <td>4.0</td>\n",
       "      <td>1.0</td>\n",
       "      <td>NaN</td>\n",
       "      <td>NaN</td>\n",
       "      <td>3.0</td>\n",
       "      <td>no</td>\n",
       "      <td>NaN</td>\n",
       "    </tr>\n",
       "    <tr>\n",
       "      <th>837</th>\n",
       "      <td>2013-05-01</td>\n",
       "      <td>Air New Zealand customer review</td>\n",
       "      <td>5</td>\n",
       "      <td>B747-400 Premium Economy SFO-AKL B767 Works AK...</td>\n",
       "      <td>NaN</td>\n",
       "      <td>Premium Economy</td>\n",
       "      <td>NaN</td>\n",
       "      <td>NaN</td>\n",
       "      <td>3.0</td>\n",
       "      <td>3.0</td>\n",
       "      <td>4.0</td>\n",
       "      <td>3.0</td>\n",
       "      <td>NaN</td>\n",
       "      <td>NaN</td>\n",
       "      <td>2.0</td>\n",
       "      <td>no</td>\n",
       "      <td>NaN</td>\n",
       "    </tr>\n",
       "  </tbody>\n",
       "</table>\n",
       "<p>751 rows × 17 columns</p>\n",
       "</div>"
      ],
      "text/plain": [
       "           date                               header  rating  \\\n",
       "0    2024-09-15                \"Service was so good\"      10   \n",
       "1    2024-09-12  “a highly disappointing experience”       4   \n",
       "2    2024-08-29               “the legroom was huge”       9   \n",
       "3    2024-08-19           \"getting worse by the day\"       3   \n",
       "4    2024-08-13    \"never fly Air New Zealand again\"       1   \n",
       "..          ...                                  ...     ...   \n",
       "831  2013-05-12      Air New Zealand customer review       3   \n",
       "832  2013-05-10      Air New Zealand customer review      10   \n",
       "834  2013-05-08      Air New Zealand customer review       9   \n",
       "836  2013-05-06      Air New Zealand customer review       5   \n",
       "837  2013-05-01      Air New Zealand customer review       5   \n",
       "\n",
       "                                               content type_of_traveller  \\\n",
       "0    Not Verified |  Such a lovely experience! Serv...          Business   \n",
       "1    Not Verified | I recently had a highly disappo...      Solo Leisure   \n",
       "2    Not Verified | I was honestly quite surprised ...    Family Leisure   \n",
       "3    Not Verified |  Air New Zealand domestic servi...          Business   \n",
       "4    ✅ Trip Verified |   Air New Zealand bumped us ...    Family Leisure   \n",
       "..                                                 ...               ...   \n",
       "831  I have flown with Air New Zealand for several ...               NaN   \n",
       "832  Flew Wellington-San Francisco (via Auckland). ...               NaN   \n",
       "834  Flew Premium Economy from LAX to AKL on a 777-...               NaN   \n",
       "836  Adelaide to Auckland April 28 2013. Usual incr...               NaN   \n",
       "837  B747-400 Premium Economy SFO-AKL B767 Works AK...               NaN   \n",
       "\n",
       "           seat_type                             route     date_flown  \\\n",
       "0      Economy Class                Melbourne to Tokyo    August 2024   \n",
       "1      Economy Class  Raratonga to Auckland via Taipei    August 2024   \n",
       "2      Economy Class            Auckland to Queenstown  December 2023   \n",
       "3      Economy Class                Auckland to Napier    August 2024   \n",
       "4      Economy Class               Napier to Auckland       June 2024   \n",
       "..               ...                               ...            ...   \n",
       "831    Economy Class                               NaN            NaN   \n",
       "832  Premium Economy                               NaN            NaN   \n",
       "834  Premium Economy                               NaN            NaN   \n",
       "836    Economy Class                               NaN            NaN   \n",
       "837  Premium Economy                               NaN            NaN   \n",
       "\n",
       "     seat_comfort  cabin_staff_service  food_&_beverages  \\\n",
       "0             5.0                  5.0               5.0   \n",
       "1             3.0                  4.0               3.0   \n",
       "2             5.0                  5.0               5.0   \n",
       "3             4.0                  5.0               NaN   \n",
       "4             3.0                  4.0               NaN   \n",
       "..            ...                  ...               ...   \n",
       "831           3.0                  2.0               3.0   \n",
       "832           5.0                  5.0               5.0   \n",
       "834           4.0                  5.0               5.0   \n",
       "836           3.0                  3.0               4.0   \n",
       "837           3.0                  3.0               4.0   \n",
       "\n",
       "     inflight_entertainment  ground_service  wifi_&_connectivity  \\\n",
       "0                       5.0             5.0                  5.0   \n",
       "1                       3.0             1.0                  4.0   \n",
       "2                       NaN             5.0                  4.0   \n",
       "3                       NaN             5.0                  NaN   \n",
       "4                       NaN             1.0                  NaN   \n",
       "..                      ...             ...                  ...   \n",
       "831                     4.0             NaN                  NaN   \n",
       "832                     5.0             NaN                  NaN   \n",
       "834                     5.0             NaN                  NaN   \n",
       "836                     1.0             NaN                  NaN   \n",
       "837                     3.0             NaN                  NaN   \n",
       "\n",
       "     value_for_money recommended aircraft  \n",
       "0                5.0         yes      NaN  \n",
       "1                1.0          no      NaN  \n",
       "2                5.0         yes     A320  \n",
       "3                1.0          no      NaN  \n",
       "4                1.0          no   ATR-72  \n",
       "..               ...         ...      ...  \n",
       "831              2.0          no      NaN  \n",
       "832              4.0         yes      NaN  \n",
       "834              5.0         yes      NaN  \n",
       "836              3.0          no      NaN  \n",
       "837              2.0          no      NaN  \n",
       "\n",
       "[751 rows x 17 columns]"
      ]
     },
     "execution_count": 9,
     "metadata": {},
     "output_type": "execute_result"
    }
   ],
   "source": [
    "# Check for duplicates using 'header' or 'date'\n",
    "# Remove duplicates based on 'header' and 'date' to ensure uniqueness\n",
    "reviews_df = reviews_df.drop_duplicates(subset=['header', 'date'])\n",
    "\n",
    "reviews_df"
   ]
  },
  {
   "cell_type": "code",
   "execution_count": 10,
   "metadata": {
    "execution": {
     "iopub.execute_input": "2024-10-15T11:42:05.737645Z",
     "iopub.status.busy": "2024-10-15T11:42:05.737569Z",
     "iopub.status.idle": "2024-10-15T11:42:05.739405Z",
     "shell.execute_reply": "2024-10-15T11:42:05.739215Z"
    }
   },
   "outputs": [],
   "source": [
    "# Function to safely split the 'content' column into 'verified_status' and 'review_content'\n",
    "def split_content(row):\n",
    "    # Check if '|' is in the content to avoid IndexError\n",
    "    if '|' in row['content']:\n",
    "        parts = row['content'].split('|')\n",
    "        # Check if 'Trip Verified' is present in the first part of the split\n",
    "        if 'Trip Verified' in parts[0]:\n",
    "            return 'Verified', parts[1].strip()  # Verified status and review content\n",
    "        else:\n",
    "            return 'Not Verified', parts[1].strip()  # Not Verified status and review content\n",
    "    else:\n",
    "        # If no '|' is found, assume the entire content is the review content, without verification status\n",
    "        return 'Unknown', row['content'].strip()"
   ]
  },
  {
   "cell_type": "code",
   "execution_count": 11,
   "metadata": {
    "execution": {
     "iopub.execute_input": "2024-10-15T11:42:05.740345Z",
     "iopub.status.busy": "2024-10-15T11:42:05.740269Z",
     "iopub.status.idle": "2024-10-15T11:42:05.751015Z",
     "shell.execute_reply": "2024-10-15T11:42:05.750795Z"
    }
   },
   "outputs": [
    {
     "name": "stderr",
     "output_type": "stream",
     "text": [
      "/var/folders/zc/zmsjc2n90lg57tm5x4g9t1rw0000gn/T/ipykernel_5791/1576019961.py:2: SettingWithCopyWarning: \n",
      "A value is trying to be set on a copy of a slice from a DataFrame.\n",
      "Try using .loc[row_indexer,col_indexer] = value instead\n",
      "\n",
      "See the caveats in the documentation: https://pandas.pydata.org/pandas-docs/stable/user_guide/indexing.html#returning-a-view-versus-a-copy\n",
      "  reviews_df[['verified_status', 'review_content']] = reviews_df.apply(lambda row: split_content(row), axis=1, result_type='expand')\n",
      "/var/folders/zc/zmsjc2n90lg57tm5x4g9t1rw0000gn/T/ipykernel_5791/1576019961.py:2: SettingWithCopyWarning: \n",
      "A value is trying to be set on a copy of a slice from a DataFrame.\n",
      "Try using .loc[row_indexer,col_indexer] = value instead\n",
      "\n",
      "See the caveats in the documentation: https://pandas.pydata.org/pandas-docs/stable/user_guide/indexing.html#returning-a-view-versus-a-copy\n",
      "  reviews_df[['verified_status', 'review_content']] = reviews_df.apply(lambda row: split_content(row), axis=1, result_type='expand')\n"
     ]
    }
   ],
   "source": [
    "# Apply the function to split 'content' into two new columns\n",
    "reviews_df[['verified_status', 'review_content']] = reviews_df.apply(lambda row: split_content(row), axis=1, result_type='expand')"
   ]
  },
  {
   "cell_type": "code",
   "execution_count": 12,
   "metadata": {
    "execution": {
     "iopub.execute_input": "2024-10-15T11:42:05.752104Z",
     "iopub.status.busy": "2024-10-15T11:42:05.752036Z",
     "iopub.status.idle": "2024-10-15T11:42:05.753789Z",
     "shell.execute_reply": "2024-10-15T11:42:05.753550Z"
    }
   },
   "outputs": [],
   "source": [
    "# Drop the original 'content' column if no longer needed\n",
    "reviews_df = reviews_df.drop(columns=['content'])"
   ]
  },
  {
   "cell_type": "code",
   "execution_count": 13,
   "metadata": {
    "execution": {
     "iopub.execute_input": "2024-10-15T11:42:05.754879Z",
     "iopub.status.busy": "2024-10-15T11:42:05.754812Z",
     "iopub.status.idle": "2024-10-15T11:42:05.759839Z",
     "shell.execute_reply": "2024-10-15T11:42:05.759612Z"
    }
   },
   "outputs": [
    {
     "data": {
      "text/html": [
       "<div>\n",
       "<style scoped>\n",
       "    .dataframe tbody tr th:only-of-type {\n",
       "        vertical-align: middle;\n",
       "    }\n",
       "\n",
       "    .dataframe tbody tr th {\n",
       "        vertical-align: top;\n",
       "    }\n",
       "\n",
       "    .dataframe thead th {\n",
       "        text-align: right;\n",
       "    }\n",
       "</style>\n",
       "<table border=\"1\" class=\"dataframe\">\n",
       "  <thead>\n",
       "    <tr style=\"text-align: right;\">\n",
       "      <th></th>\n",
       "      <th>date</th>\n",
       "      <th>header</th>\n",
       "      <th>rating</th>\n",
       "      <th>type_of_traveller</th>\n",
       "      <th>seat_type</th>\n",
       "      <th>route</th>\n",
       "      <th>date_flown</th>\n",
       "      <th>seat_comfort</th>\n",
       "      <th>cabin_staff_service</th>\n",
       "      <th>food_&amp;_beverages</th>\n",
       "      <th>inflight_entertainment</th>\n",
       "      <th>ground_service</th>\n",
       "      <th>wifi_&amp;_connectivity</th>\n",
       "      <th>value_for_money</th>\n",
       "      <th>recommended</th>\n",
       "      <th>aircraft</th>\n",
       "      <th>verified_status</th>\n",
       "      <th>review_content</th>\n",
       "    </tr>\n",
       "  </thead>\n",
       "  <tbody>\n",
       "    <tr>\n",
       "      <th>0</th>\n",
       "      <td>2024-09-15</td>\n",
       "      <td>\"Service was so good\"</td>\n",
       "      <td>10</td>\n",
       "      <td>Business</td>\n",
       "      <td>Economy Class</td>\n",
       "      <td>Melbourne to Tokyo</td>\n",
       "      <td>August 2024</td>\n",
       "      <td>5.0</td>\n",
       "      <td>5.0</td>\n",
       "      <td>5.0</td>\n",
       "      <td>5.0</td>\n",
       "      <td>5.0</td>\n",
       "      <td>5.0</td>\n",
       "      <td>5.0</td>\n",
       "      <td>yes</td>\n",
       "      <td>NaN</td>\n",
       "      <td>Not Verified</td>\n",
       "      <td>Such a lovely experience! Service was so good ...</td>\n",
       "    </tr>\n",
       "    <tr>\n",
       "      <th>1</th>\n",
       "      <td>2024-09-12</td>\n",
       "      <td>“a highly disappointing experience”</td>\n",
       "      <td>4</td>\n",
       "      <td>Solo Leisure</td>\n",
       "      <td>Economy Class</td>\n",
       "      <td>Raratonga to Auckland via Taipei</td>\n",
       "      <td>August 2024</td>\n",
       "      <td>3.0</td>\n",
       "      <td>4.0</td>\n",
       "      <td>3.0</td>\n",
       "      <td>3.0</td>\n",
       "      <td>1.0</td>\n",
       "      <td>4.0</td>\n",
       "      <td>1.0</td>\n",
       "      <td>no</td>\n",
       "      <td>NaN</td>\n",
       "      <td>Not Verified</td>\n",
       "      <td>I recently had a highly disappointing experien...</td>\n",
       "    </tr>\n",
       "    <tr>\n",
       "      <th>2</th>\n",
       "      <td>2024-08-29</td>\n",
       "      <td>“the legroom was huge”</td>\n",
       "      <td>9</td>\n",
       "      <td>Family Leisure</td>\n",
       "      <td>Economy Class</td>\n",
       "      <td>Auckland to Queenstown</td>\n",
       "      <td>December 2023</td>\n",
       "      <td>5.0</td>\n",
       "      <td>5.0</td>\n",
       "      <td>5.0</td>\n",
       "      <td>NaN</td>\n",
       "      <td>5.0</td>\n",
       "      <td>4.0</td>\n",
       "      <td>5.0</td>\n",
       "      <td>yes</td>\n",
       "      <td>A320</td>\n",
       "      <td>Not Verified</td>\n",
       "      <td>I was honestly quite surprised about Air New Z...</td>\n",
       "    </tr>\n",
       "    <tr>\n",
       "      <th>3</th>\n",
       "      <td>2024-08-19</td>\n",
       "      <td>\"getting worse by the day\"</td>\n",
       "      <td>3</td>\n",
       "      <td>Business</td>\n",
       "      <td>Economy Class</td>\n",
       "      <td>Auckland to Napier</td>\n",
       "      <td>August 2024</td>\n",
       "      <td>4.0</td>\n",
       "      <td>5.0</td>\n",
       "      <td>NaN</td>\n",
       "      <td>NaN</td>\n",
       "      <td>5.0</td>\n",
       "      <td>NaN</td>\n",
       "      <td>1.0</td>\n",
       "      <td>no</td>\n",
       "      <td>NaN</td>\n",
       "      <td>Not Verified</td>\n",
       "      <td>Air New Zealand domestic service is getting wo...</td>\n",
       "    </tr>\n",
       "    <tr>\n",
       "      <th>4</th>\n",
       "      <td>2024-08-13</td>\n",
       "      <td>\"never fly Air New Zealand again\"</td>\n",
       "      <td>1</td>\n",
       "      <td>Family Leisure</td>\n",
       "      <td>Economy Class</td>\n",
       "      <td>Napier to Auckland</td>\n",
       "      <td>June 2024</td>\n",
       "      <td>3.0</td>\n",
       "      <td>4.0</td>\n",
       "      <td>NaN</td>\n",
       "      <td>NaN</td>\n",
       "      <td>1.0</td>\n",
       "      <td>NaN</td>\n",
       "      <td>1.0</td>\n",
       "      <td>no</td>\n",
       "      <td>ATR-72</td>\n",
       "      <td>Verified</td>\n",
       "      <td>Air New Zealand bumped us off our flight on th...</td>\n",
       "    </tr>\n",
       "  </tbody>\n",
       "</table>\n",
       "</div>"
      ],
      "text/plain": [
       "         date                               header  rating type_of_traveller  \\\n",
       "0  2024-09-15                \"Service was so good\"      10          Business   \n",
       "1  2024-09-12  “a highly disappointing experience”       4      Solo Leisure   \n",
       "2  2024-08-29               “the legroom was huge”       9    Family Leisure   \n",
       "3  2024-08-19           \"getting worse by the day\"       3          Business   \n",
       "4  2024-08-13    \"never fly Air New Zealand again\"       1    Family Leisure   \n",
       "\n",
       "       seat_type                             route     date_flown  \\\n",
       "0  Economy Class                Melbourne to Tokyo    August 2024   \n",
       "1  Economy Class  Raratonga to Auckland via Taipei    August 2024   \n",
       "2  Economy Class            Auckland to Queenstown  December 2023   \n",
       "3  Economy Class                Auckland to Napier    August 2024   \n",
       "4  Economy Class               Napier to Auckland       June 2024   \n",
       "\n",
       "   seat_comfort  cabin_staff_service  food_&_beverages  \\\n",
       "0           5.0                  5.0               5.0   \n",
       "1           3.0                  4.0               3.0   \n",
       "2           5.0                  5.0               5.0   \n",
       "3           4.0                  5.0               NaN   \n",
       "4           3.0                  4.0               NaN   \n",
       "\n",
       "   inflight_entertainment  ground_service  wifi_&_connectivity  \\\n",
       "0                     5.0             5.0                  5.0   \n",
       "1                     3.0             1.0                  4.0   \n",
       "2                     NaN             5.0                  4.0   \n",
       "3                     NaN             5.0                  NaN   \n",
       "4                     NaN             1.0                  NaN   \n",
       "\n",
       "   value_for_money recommended aircraft verified_status  \\\n",
       "0              5.0         yes      NaN    Not Verified   \n",
       "1              1.0          no      NaN    Not Verified   \n",
       "2              5.0         yes     A320    Not Verified   \n",
       "3              1.0          no      NaN    Not Verified   \n",
       "4              1.0          no   ATR-72        Verified   \n",
       "\n",
       "                                      review_content  \n",
       "0  Such a lovely experience! Service was so good ...  \n",
       "1  I recently had a highly disappointing experien...  \n",
       "2  I was honestly quite surprised about Air New Z...  \n",
       "3  Air New Zealand domestic service is getting wo...  \n",
       "4  Air New Zealand bumped us off our flight on th...  "
      ]
     },
     "execution_count": 13,
     "metadata": {},
     "output_type": "execute_result"
    }
   ],
   "source": [
    "reviews_df.head()"
   ]
  },
  {
   "cell_type": "code",
   "execution_count": 14,
   "metadata": {
    "execution": {
     "iopub.execute_input": "2024-10-15T11:42:05.760774Z",
     "iopub.status.busy": "2024-10-15T11:42:05.760706Z",
     "iopub.status.idle": "2024-10-15T11:42:05.766567Z",
     "shell.execute_reply": "2024-10-15T11:42:05.766377Z"
    }
   },
   "outputs": [
    {
     "data": {
      "text/html": [
       "<div>\n",
       "<style scoped>\n",
       "    .dataframe tbody tr th:only-of-type {\n",
       "        vertical-align: middle;\n",
       "    }\n",
       "\n",
       "    .dataframe tbody tr th {\n",
       "        vertical-align: top;\n",
       "    }\n",
       "\n",
       "    .dataframe thead th {\n",
       "        text-align: right;\n",
       "    }\n",
       "</style>\n",
       "<table border=\"1\" class=\"dataframe\">\n",
       "  <thead>\n",
       "    <tr style=\"text-align: right;\">\n",
       "      <th></th>\n",
       "      <th>date</th>\n",
       "      <th>header</th>\n",
       "      <th>rating</th>\n",
       "      <th>type_of_traveller</th>\n",
       "      <th>seat_type</th>\n",
       "      <th>route</th>\n",
       "      <th>date_flown</th>\n",
       "      <th>seat_comfort</th>\n",
       "      <th>cabin_staff_service</th>\n",
       "      <th>food_&amp;_beverages</th>\n",
       "      <th>inflight_entertainment</th>\n",
       "      <th>ground_service</th>\n",
       "      <th>wifi_&amp;_connectivity</th>\n",
       "      <th>value_for_money</th>\n",
       "      <th>recommended</th>\n",
       "      <th>aircraft</th>\n",
       "      <th>verified_status</th>\n",
       "      <th>review_content</th>\n",
       "    </tr>\n",
       "  </thead>\n",
       "  <tbody>\n",
       "    <tr>\n",
       "      <th>0</th>\n",
       "      <td>2024-09-15</td>\n",
       "      <td>\"Service was so good\"</td>\n",
       "      <td>10</td>\n",
       "      <td>Business</td>\n",
       "      <td>Economy Class</td>\n",
       "      <td>Melbourne to Tokyo</td>\n",
       "      <td>August 2024</td>\n",
       "      <td>5.0</td>\n",
       "      <td>5.0</td>\n",
       "      <td>5.0</td>\n",
       "      <td>5.0</td>\n",
       "      <td>5.0</td>\n",
       "      <td>5.0</td>\n",
       "      <td>5.0</td>\n",
       "      <td>yes</td>\n",
       "      <td>NaN</td>\n",
       "      <td>False</td>\n",
       "      <td>Such a lovely experience! Service was so good ...</td>\n",
       "    </tr>\n",
       "    <tr>\n",
       "      <th>1</th>\n",
       "      <td>2024-09-12</td>\n",
       "      <td>“a highly disappointing experience”</td>\n",
       "      <td>4</td>\n",
       "      <td>Solo Leisure</td>\n",
       "      <td>Economy Class</td>\n",
       "      <td>Raratonga to Auckland via Taipei</td>\n",
       "      <td>August 2024</td>\n",
       "      <td>3.0</td>\n",
       "      <td>4.0</td>\n",
       "      <td>3.0</td>\n",
       "      <td>3.0</td>\n",
       "      <td>1.0</td>\n",
       "      <td>4.0</td>\n",
       "      <td>1.0</td>\n",
       "      <td>no</td>\n",
       "      <td>NaN</td>\n",
       "      <td>False</td>\n",
       "      <td>I recently had a highly disappointing experien...</td>\n",
       "    </tr>\n",
       "    <tr>\n",
       "      <th>2</th>\n",
       "      <td>2024-08-29</td>\n",
       "      <td>“the legroom was huge”</td>\n",
       "      <td>9</td>\n",
       "      <td>Family Leisure</td>\n",
       "      <td>Economy Class</td>\n",
       "      <td>Auckland to Queenstown</td>\n",
       "      <td>December 2023</td>\n",
       "      <td>5.0</td>\n",
       "      <td>5.0</td>\n",
       "      <td>5.0</td>\n",
       "      <td>NaN</td>\n",
       "      <td>5.0</td>\n",
       "      <td>4.0</td>\n",
       "      <td>5.0</td>\n",
       "      <td>yes</td>\n",
       "      <td>A320</td>\n",
       "      <td>False</td>\n",
       "      <td>I was honestly quite surprised about Air New Z...</td>\n",
       "    </tr>\n",
       "    <tr>\n",
       "      <th>3</th>\n",
       "      <td>2024-08-19</td>\n",
       "      <td>\"getting worse by the day\"</td>\n",
       "      <td>3</td>\n",
       "      <td>Business</td>\n",
       "      <td>Economy Class</td>\n",
       "      <td>Auckland to Napier</td>\n",
       "      <td>August 2024</td>\n",
       "      <td>4.0</td>\n",
       "      <td>5.0</td>\n",
       "      <td>NaN</td>\n",
       "      <td>NaN</td>\n",
       "      <td>5.0</td>\n",
       "      <td>NaN</td>\n",
       "      <td>1.0</td>\n",
       "      <td>no</td>\n",
       "      <td>NaN</td>\n",
       "      <td>False</td>\n",
       "      <td>Air New Zealand domestic service is getting wo...</td>\n",
       "    </tr>\n",
       "    <tr>\n",
       "      <th>4</th>\n",
       "      <td>2024-08-13</td>\n",
       "      <td>\"never fly Air New Zealand again\"</td>\n",
       "      <td>1</td>\n",
       "      <td>Family Leisure</td>\n",
       "      <td>Economy Class</td>\n",
       "      <td>Napier to Auckland</td>\n",
       "      <td>June 2024</td>\n",
       "      <td>3.0</td>\n",
       "      <td>4.0</td>\n",
       "      <td>NaN</td>\n",
       "      <td>NaN</td>\n",
       "      <td>1.0</td>\n",
       "      <td>NaN</td>\n",
       "      <td>1.0</td>\n",
       "      <td>no</td>\n",
       "      <td>ATR-72</td>\n",
       "      <td>True</td>\n",
       "      <td>Air New Zealand bumped us off our flight on th...</td>\n",
       "    </tr>\n",
       "  </tbody>\n",
       "</table>\n",
       "</div>"
      ],
      "text/plain": [
       "         date                               header  rating type_of_traveller  \\\n",
       "0  2024-09-15                \"Service was so good\"      10          Business   \n",
       "1  2024-09-12  “a highly disappointing experience”       4      Solo Leisure   \n",
       "2  2024-08-29               “the legroom was huge”       9    Family Leisure   \n",
       "3  2024-08-19           \"getting worse by the day\"       3          Business   \n",
       "4  2024-08-13    \"never fly Air New Zealand again\"       1    Family Leisure   \n",
       "\n",
       "       seat_type                             route     date_flown  \\\n",
       "0  Economy Class                Melbourne to Tokyo    August 2024   \n",
       "1  Economy Class  Raratonga to Auckland via Taipei    August 2024   \n",
       "2  Economy Class            Auckland to Queenstown  December 2023   \n",
       "3  Economy Class                Auckland to Napier    August 2024   \n",
       "4  Economy Class               Napier to Auckland       June 2024   \n",
       "\n",
       "   seat_comfort  cabin_staff_service  food_&_beverages  \\\n",
       "0           5.0                  5.0               5.0   \n",
       "1           3.0                  4.0               3.0   \n",
       "2           5.0                  5.0               5.0   \n",
       "3           4.0                  5.0               NaN   \n",
       "4           3.0                  4.0               NaN   \n",
       "\n",
       "   inflight_entertainment  ground_service  wifi_&_connectivity  \\\n",
       "0                     5.0             5.0                  5.0   \n",
       "1                     3.0             1.0                  4.0   \n",
       "2                     NaN             5.0                  4.0   \n",
       "3                     NaN             5.0                  NaN   \n",
       "4                     NaN             1.0                  NaN   \n",
       "\n",
       "   value_for_money recommended aircraft  verified_status  \\\n",
       "0              5.0         yes      NaN            False   \n",
       "1              1.0          no      NaN            False   \n",
       "2              5.0         yes     A320            False   \n",
       "3              1.0          no      NaN            False   \n",
       "4              1.0          no   ATR-72             True   \n",
       "\n",
       "                                      review_content  \n",
       "0  Such a lovely experience! Service was so good ...  \n",
       "1  I recently had a highly disappointing experien...  \n",
       "2  I was honestly quite surprised about Air New Z...  \n",
       "3  Air New Zealand domestic service is getting wo...  \n",
       "4  Air New Zealand bumped us off our flight on th...  "
      ]
     },
     "execution_count": 14,
     "metadata": {},
     "output_type": "execute_result"
    }
   ],
   "source": [
    "# Convert 'verified_status' column to boolean based on whether it contains \"verified\"\n",
    "reviews_df[\"verified_status\"] = reviews_df[\"verified_status\"].str.lower() == \"verified\"\n",
    "\n",
    "reviews_df.head()"
   ]
  },
  {
   "cell_type": "code",
   "execution_count": 15,
   "metadata": {
    "execution": {
     "iopub.execute_input": "2024-10-15T11:42:05.767545Z",
     "iopub.status.busy": "2024-10-15T11:42:05.767468Z",
     "iopub.status.idle": "2024-10-15T11:42:05.772803Z",
     "shell.execute_reply": "2024-10-15T11:42:05.772564Z"
    }
   },
   "outputs": [
    {
     "data": {
      "text/html": [
       "<div>\n",
       "<style scoped>\n",
       "    .dataframe tbody tr th:only-of-type {\n",
       "        vertical-align: middle;\n",
       "    }\n",
       "\n",
       "    .dataframe tbody tr th {\n",
       "        vertical-align: top;\n",
       "    }\n",
       "\n",
       "    .dataframe thead th {\n",
       "        text-align: right;\n",
       "    }\n",
       "</style>\n",
       "<table border=\"1\" class=\"dataframe\">\n",
       "  <thead>\n",
       "    <tr style=\"text-align: right;\">\n",
       "      <th></th>\n",
       "      <th>date</th>\n",
       "      <th>header</th>\n",
       "      <th>rating</th>\n",
       "      <th>type_of_traveller</th>\n",
       "      <th>seat_type</th>\n",
       "      <th>route</th>\n",
       "      <th>date_flown</th>\n",
       "      <th>seat_comfort</th>\n",
       "      <th>cabin_staff_service</th>\n",
       "      <th>food_&amp;_beverages</th>\n",
       "      <th>inflight_entertainment</th>\n",
       "      <th>ground_service</th>\n",
       "      <th>wifi_&amp;_connectivity</th>\n",
       "      <th>value_for_money</th>\n",
       "      <th>recommended</th>\n",
       "      <th>aircraft</th>\n",
       "      <th>verified_status</th>\n",
       "      <th>review_content</th>\n",
       "    </tr>\n",
       "  </thead>\n",
       "  <tbody>\n",
       "    <tr>\n",
       "      <th>0</th>\n",
       "      <td>2024-09-15</td>\n",
       "      <td>\"Service was so good\"</td>\n",
       "      <td>10</td>\n",
       "      <td>Business</td>\n",
       "      <td>Economy Class</td>\n",
       "      <td>Melbourne to Tokyo</td>\n",
       "      <td>August 2024</td>\n",
       "      <td>5.0</td>\n",
       "      <td>5.0</td>\n",
       "      <td>5.0</td>\n",
       "      <td>5.0</td>\n",
       "      <td>5.0</td>\n",
       "      <td>5.0</td>\n",
       "      <td>5.0</td>\n",
       "      <td>True</td>\n",
       "      <td>NaN</td>\n",
       "      <td>False</td>\n",
       "      <td>Such a lovely experience! Service was so good ...</td>\n",
       "    </tr>\n",
       "    <tr>\n",
       "      <th>1</th>\n",
       "      <td>2024-09-12</td>\n",
       "      <td>“a highly disappointing experience”</td>\n",
       "      <td>4</td>\n",
       "      <td>Solo Leisure</td>\n",
       "      <td>Economy Class</td>\n",
       "      <td>Raratonga to Auckland via Taipei</td>\n",
       "      <td>August 2024</td>\n",
       "      <td>3.0</td>\n",
       "      <td>4.0</td>\n",
       "      <td>3.0</td>\n",
       "      <td>3.0</td>\n",
       "      <td>1.0</td>\n",
       "      <td>4.0</td>\n",
       "      <td>1.0</td>\n",
       "      <td>False</td>\n",
       "      <td>NaN</td>\n",
       "      <td>False</td>\n",
       "      <td>I recently had a highly disappointing experien...</td>\n",
       "    </tr>\n",
       "    <tr>\n",
       "      <th>2</th>\n",
       "      <td>2024-08-29</td>\n",
       "      <td>“the legroom was huge”</td>\n",
       "      <td>9</td>\n",
       "      <td>Family Leisure</td>\n",
       "      <td>Economy Class</td>\n",
       "      <td>Auckland to Queenstown</td>\n",
       "      <td>December 2023</td>\n",
       "      <td>5.0</td>\n",
       "      <td>5.0</td>\n",
       "      <td>5.0</td>\n",
       "      <td>NaN</td>\n",
       "      <td>5.0</td>\n",
       "      <td>4.0</td>\n",
       "      <td>5.0</td>\n",
       "      <td>True</td>\n",
       "      <td>A320</td>\n",
       "      <td>False</td>\n",
       "      <td>I was honestly quite surprised about Air New Z...</td>\n",
       "    </tr>\n",
       "    <tr>\n",
       "      <th>3</th>\n",
       "      <td>2024-08-19</td>\n",
       "      <td>\"getting worse by the day\"</td>\n",
       "      <td>3</td>\n",
       "      <td>Business</td>\n",
       "      <td>Economy Class</td>\n",
       "      <td>Auckland to Napier</td>\n",
       "      <td>August 2024</td>\n",
       "      <td>4.0</td>\n",
       "      <td>5.0</td>\n",
       "      <td>NaN</td>\n",
       "      <td>NaN</td>\n",
       "      <td>5.0</td>\n",
       "      <td>NaN</td>\n",
       "      <td>1.0</td>\n",
       "      <td>False</td>\n",
       "      <td>NaN</td>\n",
       "      <td>False</td>\n",
       "      <td>Air New Zealand domestic service is getting wo...</td>\n",
       "    </tr>\n",
       "    <tr>\n",
       "      <th>4</th>\n",
       "      <td>2024-08-13</td>\n",
       "      <td>\"never fly Air New Zealand again\"</td>\n",
       "      <td>1</td>\n",
       "      <td>Family Leisure</td>\n",
       "      <td>Economy Class</td>\n",
       "      <td>Napier to Auckland</td>\n",
       "      <td>June 2024</td>\n",
       "      <td>3.0</td>\n",
       "      <td>4.0</td>\n",
       "      <td>NaN</td>\n",
       "      <td>NaN</td>\n",
       "      <td>1.0</td>\n",
       "      <td>NaN</td>\n",
       "      <td>1.0</td>\n",
       "      <td>False</td>\n",
       "      <td>ATR-72</td>\n",
       "      <td>True</td>\n",
       "      <td>Air New Zealand bumped us off our flight on th...</td>\n",
       "    </tr>\n",
       "  </tbody>\n",
       "</table>\n",
       "</div>"
      ],
      "text/plain": [
       "         date                               header  rating type_of_traveller  \\\n",
       "0  2024-09-15                \"Service was so good\"      10          Business   \n",
       "1  2024-09-12  “a highly disappointing experience”       4      Solo Leisure   \n",
       "2  2024-08-29               “the legroom was huge”       9    Family Leisure   \n",
       "3  2024-08-19           \"getting worse by the day\"       3          Business   \n",
       "4  2024-08-13    \"never fly Air New Zealand again\"       1    Family Leisure   \n",
       "\n",
       "       seat_type                             route     date_flown  \\\n",
       "0  Economy Class                Melbourne to Tokyo    August 2024   \n",
       "1  Economy Class  Raratonga to Auckland via Taipei    August 2024   \n",
       "2  Economy Class            Auckland to Queenstown  December 2023   \n",
       "3  Economy Class                Auckland to Napier    August 2024   \n",
       "4  Economy Class               Napier to Auckland       June 2024   \n",
       "\n",
       "   seat_comfort  cabin_staff_service  food_&_beverages  \\\n",
       "0           5.0                  5.0               5.0   \n",
       "1           3.0                  4.0               3.0   \n",
       "2           5.0                  5.0               5.0   \n",
       "3           4.0                  5.0               NaN   \n",
       "4           3.0                  4.0               NaN   \n",
       "\n",
       "   inflight_entertainment  ground_service  wifi_&_connectivity  \\\n",
       "0                     5.0             5.0                  5.0   \n",
       "1                     3.0             1.0                  4.0   \n",
       "2                     NaN             5.0                  4.0   \n",
       "3                     NaN             5.0                  NaN   \n",
       "4                     NaN             1.0                  NaN   \n",
       "\n",
       "   value_for_money  recommended aircraft  verified_status  \\\n",
       "0              5.0         True      NaN            False   \n",
       "1              1.0        False      NaN            False   \n",
       "2              5.0         True     A320            False   \n",
       "3              1.0        False      NaN            False   \n",
       "4              1.0        False   ATR-72             True   \n",
       "\n",
       "                                      review_content  \n",
       "0  Such a lovely experience! Service was so good ...  \n",
       "1  I recently had a highly disappointing experien...  \n",
       "2  I was honestly quite surprised about Air New Z...  \n",
       "3  Air New Zealand domestic service is getting wo...  \n",
       "4  Air New Zealand bumped us off our flight on th...  "
      ]
     },
     "execution_count": 15,
     "metadata": {},
     "output_type": "execute_result"
    }
   ],
   "source": [
    "# Convert 'recommended' column to boolean based on whether it contains \"yes\"\n",
    "reviews_df[\"recommended\"] = reviews_df[\"recommended\"].str.lower() == \"yes\"\n",
    "\n",
    "reviews_df.head()"
   ]
  },
  {
   "cell_type": "code",
   "execution_count": 16,
   "metadata": {
    "execution": {
     "iopub.execute_input": "2024-10-15T11:42:05.773830Z",
     "iopub.status.busy": "2024-10-15T11:42:05.773759Z",
     "iopub.status.idle": "2024-10-15T11:42:05.779090Z",
     "shell.execute_reply": "2024-10-15T11:42:05.778856Z"
    }
   },
   "outputs": [
    {
     "data": {
      "text/html": [
       "<div>\n",
       "<style scoped>\n",
       "    .dataframe tbody tr th:only-of-type {\n",
       "        vertical-align: middle;\n",
       "    }\n",
       "\n",
       "    .dataframe tbody tr th {\n",
       "        vertical-align: top;\n",
       "    }\n",
       "\n",
       "    .dataframe thead th {\n",
       "        text-align: right;\n",
       "    }\n",
       "</style>\n",
       "<table border=\"1\" class=\"dataframe\">\n",
       "  <thead>\n",
       "    <tr style=\"text-align: right;\">\n",
       "      <th></th>\n",
       "      <th>date</th>\n",
       "      <th>header</th>\n",
       "      <th>rating</th>\n",
       "      <th>type_of_traveller</th>\n",
       "      <th>seat_type</th>\n",
       "      <th>route</th>\n",
       "      <th>date_flown</th>\n",
       "      <th>seat_comfort</th>\n",
       "      <th>cabin_staff_service</th>\n",
       "      <th>food_&amp;_beverages</th>\n",
       "      <th>inflight_entertainment</th>\n",
       "      <th>ground_service</th>\n",
       "      <th>wifi_&amp;_connectivity</th>\n",
       "      <th>value_for_money</th>\n",
       "      <th>recommended</th>\n",
       "      <th>aircraft</th>\n",
       "      <th>verified_status</th>\n",
       "      <th>review_content</th>\n",
       "    </tr>\n",
       "  </thead>\n",
       "  <tbody>\n",
       "    <tr>\n",
       "      <th>0</th>\n",
       "      <td>2024-09-15</td>\n",
       "      <td>Service was so good</td>\n",
       "      <td>10</td>\n",
       "      <td>Business</td>\n",
       "      <td>Economy Class</td>\n",
       "      <td>Melbourne to Tokyo</td>\n",
       "      <td>August 2024</td>\n",
       "      <td>5.0</td>\n",
       "      <td>5.0</td>\n",
       "      <td>5.0</td>\n",
       "      <td>5.0</td>\n",
       "      <td>5.0</td>\n",
       "      <td>5.0</td>\n",
       "      <td>5.0</td>\n",
       "      <td>True</td>\n",
       "      <td>NaN</td>\n",
       "      <td>False</td>\n",
       "      <td>Such a lovely experience! Service was so good ...</td>\n",
       "    </tr>\n",
       "    <tr>\n",
       "      <th>1</th>\n",
       "      <td>2024-09-12</td>\n",
       "      <td>a highly disappointing experience</td>\n",
       "      <td>4</td>\n",
       "      <td>Solo Leisure</td>\n",
       "      <td>Economy Class</td>\n",
       "      <td>Raratonga to Auckland via Taipei</td>\n",
       "      <td>August 2024</td>\n",
       "      <td>3.0</td>\n",
       "      <td>4.0</td>\n",
       "      <td>3.0</td>\n",
       "      <td>3.0</td>\n",
       "      <td>1.0</td>\n",
       "      <td>4.0</td>\n",
       "      <td>1.0</td>\n",
       "      <td>False</td>\n",
       "      <td>NaN</td>\n",
       "      <td>False</td>\n",
       "      <td>I recently had a highly disappointing experien...</td>\n",
       "    </tr>\n",
       "    <tr>\n",
       "      <th>2</th>\n",
       "      <td>2024-08-29</td>\n",
       "      <td>the legroom was huge</td>\n",
       "      <td>9</td>\n",
       "      <td>Family Leisure</td>\n",
       "      <td>Economy Class</td>\n",
       "      <td>Auckland to Queenstown</td>\n",
       "      <td>December 2023</td>\n",
       "      <td>5.0</td>\n",
       "      <td>5.0</td>\n",
       "      <td>5.0</td>\n",
       "      <td>NaN</td>\n",
       "      <td>5.0</td>\n",
       "      <td>4.0</td>\n",
       "      <td>5.0</td>\n",
       "      <td>True</td>\n",
       "      <td>A320</td>\n",
       "      <td>False</td>\n",
       "      <td>I was honestly quite surprised about Air New Z...</td>\n",
       "    </tr>\n",
       "    <tr>\n",
       "      <th>3</th>\n",
       "      <td>2024-08-19</td>\n",
       "      <td>getting worse by the day</td>\n",
       "      <td>3</td>\n",
       "      <td>Business</td>\n",
       "      <td>Economy Class</td>\n",
       "      <td>Auckland to Napier</td>\n",
       "      <td>August 2024</td>\n",
       "      <td>4.0</td>\n",
       "      <td>5.0</td>\n",
       "      <td>NaN</td>\n",
       "      <td>NaN</td>\n",
       "      <td>5.0</td>\n",
       "      <td>NaN</td>\n",
       "      <td>1.0</td>\n",
       "      <td>False</td>\n",
       "      <td>NaN</td>\n",
       "      <td>False</td>\n",
       "      <td>Air New Zealand domestic service is getting wo...</td>\n",
       "    </tr>\n",
       "    <tr>\n",
       "      <th>4</th>\n",
       "      <td>2024-08-13</td>\n",
       "      <td>never fly Air New Zealand again</td>\n",
       "      <td>1</td>\n",
       "      <td>Family Leisure</td>\n",
       "      <td>Economy Class</td>\n",
       "      <td>Napier to Auckland</td>\n",
       "      <td>June 2024</td>\n",
       "      <td>3.0</td>\n",
       "      <td>4.0</td>\n",
       "      <td>NaN</td>\n",
       "      <td>NaN</td>\n",
       "      <td>1.0</td>\n",
       "      <td>NaN</td>\n",
       "      <td>1.0</td>\n",
       "      <td>False</td>\n",
       "      <td>ATR-72</td>\n",
       "      <td>True</td>\n",
       "      <td>Air New Zealand bumped us off our flight on th...</td>\n",
       "    </tr>\n",
       "  </tbody>\n",
       "</table>\n",
       "</div>"
      ],
      "text/plain": [
       "         date                             header  rating type_of_traveller  \\\n",
       "0  2024-09-15                Service was so good      10          Business   \n",
       "1  2024-09-12  a highly disappointing experience       4      Solo Leisure   \n",
       "2  2024-08-29               the legroom was huge       9    Family Leisure   \n",
       "3  2024-08-19           getting worse by the day       3          Business   \n",
       "4  2024-08-13    never fly Air New Zealand again       1    Family Leisure   \n",
       "\n",
       "       seat_type                             route     date_flown  \\\n",
       "0  Economy Class                Melbourne to Tokyo    August 2024   \n",
       "1  Economy Class  Raratonga to Auckland via Taipei    August 2024   \n",
       "2  Economy Class            Auckland to Queenstown  December 2023   \n",
       "3  Economy Class                Auckland to Napier    August 2024   \n",
       "4  Economy Class               Napier to Auckland       June 2024   \n",
       "\n",
       "   seat_comfort  cabin_staff_service  food_&_beverages  \\\n",
       "0           5.0                  5.0               5.0   \n",
       "1           3.0                  4.0               3.0   \n",
       "2           5.0                  5.0               5.0   \n",
       "3           4.0                  5.0               NaN   \n",
       "4           3.0                  4.0               NaN   \n",
       "\n",
       "   inflight_entertainment  ground_service  wifi_&_connectivity  \\\n",
       "0                     5.0             5.0                  5.0   \n",
       "1                     3.0             1.0                  4.0   \n",
       "2                     NaN             5.0                  4.0   \n",
       "3                     NaN             5.0                  NaN   \n",
       "4                     NaN             1.0                  NaN   \n",
       "\n",
       "   value_for_money  recommended aircraft  verified_status  \\\n",
       "0              5.0         True      NaN            False   \n",
       "1              1.0        False      NaN            False   \n",
       "2              5.0         True     A320            False   \n",
       "3              1.0        False      NaN            False   \n",
       "4              1.0        False   ATR-72             True   \n",
       "\n",
       "                                      review_content  \n",
       "0  Such a lovely experience! Service was so good ...  \n",
       "1  I recently had a highly disappointing experien...  \n",
       "2  I was honestly quite surprised about Air New Z...  \n",
       "3  Air New Zealand domestic service is getting wo...  \n",
       "4  Air New Zealand bumped us off our flight on th...  "
      ]
     },
     "execution_count": 16,
     "metadata": {},
     "output_type": "execute_result"
    }
   ],
   "source": [
    "# Strip both straight and curly quotes from the 'header' column\n",
    "reviews_df[\"header\"] = reviews_df[\"header\"].str.strip('\"“”')\n",
    "\n",
    "reviews_df.head()"
   ]
  },
  {
   "cell_type": "code",
   "execution_count": 17,
   "metadata": {
    "execution": {
     "iopub.execute_input": "2024-10-15T11:42:05.780160Z",
     "iopub.status.busy": "2024-10-15T11:42:05.780084Z",
     "iopub.status.idle": "2024-10-15T11:42:05.782586Z",
     "shell.execute_reply": "2024-10-15T11:42:05.782364Z"
    }
   },
   "outputs": [],
   "source": [
    "# Ensure reviews_df is the DataFrame\n",
    "# Identify the numeric columns\n",
    "numeric_columns = reviews_df.select_dtypes(include=['float64', 'int64']).columns\n",
    "\n",
    "# Replace missing values (NaN) in numeric columns with -1\n",
    "reviews_df[numeric_columns] = reviews_df[numeric_columns].fillna(-1)"
   ]
  },
  {
   "cell_type": "code",
   "execution_count": 18,
   "metadata": {
    "execution": {
     "iopub.execute_input": "2024-10-15T11:42:05.783602Z",
     "iopub.status.busy": "2024-10-15T11:42:05.783532Z",
     "iopub.status.idle": "2024-10-15T11:42:05.788538Z",
     "shell.execute_reply": "2024-10-15T11:42:05.788336Z"
    }
   },
   "outputs": [
    {
     "data": {
      "text/html": [
       "<div>\n",
       "<style scoped>\n",
       "    .dataframe tbody tr th:only-of-type {\n",
       "        vertical-align: middle;\n",
       "    }\n",
       "\n",
       "    .dataframe tbody tr th {\n",
       "        vertical-align: top;\n",
       "    }\n",
       "\n",
       "    .dataframe thead th {\n",
       "        text-align: right;\n",
       "    }\n",
       "</style>\n",
       "<table border=\"1\" class=\"dataframe\">\n",
       "  <thead>\n",
       "    <tr style=\"text-align: right;\">\n",
       "      <th></th>\n",
       "      <th>date</th>\n",
       "      <th>header</th>\n",
       "      <th>rating</th>\n",
       "      <th>type_of_traveller</th>\n",
       "      <th>seat_type</th>\n",
       "      <th>route</th>\n",
       "      <th>date_flown</th>\n",
       "      <th>seat_comfort</th>\n",
       "      <th>cabin_staff_service</th>\n",
       "      <th>food_&amp;_beverages</th>\n",
       "      <th>inflight_entertainment</th>\n",
       "      <th>ground_service</th>\n",
       "      <th>wifi_&amp;_connectivity</th>\n",
       "      <th>value_for_money</th>\n",
       "      <th>recommended</th>\n",
       "      <th>aircraft</th>\n",
       "      <th>verified_status</th>\n",
       "      <th>review_content</th>\n",
       "    </tr>\n",
       "  </thead>\n",
       "  <tbody>\n",
       "    <tr>\n",
       "      <th>0</th>\n",
       "      <td>2024-09-15</td>\n",
       "      <td>Service was so good</td>\n",
       "      <td>10</td>\n",
       "      <td>Business</td>\n",
       "      <td>Economy Class</td>\n",
       "      <td>Melbourne to Tokyo</td>\n",
       "      <td>August 2024</td>\n",
       "      <td>5.0</td>\n",
       "      <td>5.0</td>\n",
       "      <td>5.0</td>\n",
       "      <td>5.0</td>\n",
       "      <td>5.0</td>\n",
       "      <td>5.0</td>\n",
       "      <td>5.0</td>\n",
       "      <td>True</td>\n",
       "      <td>NaN</td>\n",
       "      <td>False</td>\n",
       "      <td>Such a lovely experience! Service was so good ...</td>\n",
       "    </tr>\n",
       "    <tr>\n",
       "      <th>1</th>\n",
       "      <td>2024-09-12</td>\n",
       "      <td>a highly disappointing experience</td>\n",
       "      <td>4</td>\n",
       "      <td>Solo Leisure</td>\n",
       "      <td>Economy Class</td>\n",
       "      <td>Raratonga to Auckland via Taipei</td>\n",
       "      <td>August 2024</td>\n",
       "      <td>3.0</td>\n",
       "      <td>4.0</td>\n",
       "      <td>3.0</td>\n",
       "      <td>3.0</td>\n",
       "      <td>1.0</td>\n",
       "      <td>4.0</td>\n",
       "      <td>1.0</td>\n",
       "      <td>False</td>\n",
       "      <td>NaN</td>\n",
       "      <td>False</td>\n",
       "      <td>I recently had a highly disappointing experien...</td>\n",
       "    </tr>\n",
       "    <tr>\n",
       "      <th>2</th>\n",
       "      <td>2024-08-29</td>\n",
       "      <td>the legroom was huge</td>\n",
       "      <td>9</td>\n",
       "      <td>Family Leisure</td>\n",
       "      <td>Economy Class</td>\n",
       "      <td>Auckland to Queenstown</td>\n",
       "      <td>December 2023</td>\n",
       "      <td>5.0</td>\n",
       "      <td>5.0</td>\n",
       "      <td>5.0</td>\n",
       "      <td>-1.0</td>\n",
       "      <td>5.0</td>\n",
       "      <td>4.0</td>\n",
       "      <td>5.0</td>\n",
       "      <td>True</td>\n",
       "      <td>A320</td>\n",
       "      <td>False</td>\n",
       "      <td>I was honestly quite surprised about Air New Z...</td>\n",
       "    </tr>\n",
       "    <tr>\n",
       "      <th>3</th>\n",
       "      <td>2024-08-19</td>\n",
       "      <td>getting worse by the day</td>\n",
       "      <td>3</td>\n",
       "      <td>Business</td>\n",
       "      <td>Economy Class</td>\n",
       "      <td>Auckland to Napier</td>\n",
       "      <td>August 2024</td>\n",
       "      <td>4.0</td>\n",
       "      <td>5.0</td>\n",
       "      <td>-1.0</td>\n",
       "      <td>-1.0</td>\n",
       "      <td>5.0</td>\n",
       "      <td>-1.0</td>\n",
       "      <td>1.0</td>\n",
       "      <td>False</td>\n",
       "      <td>NaN</td>\n",
       "      <td>False</td>\n",
       "      <td>Air New Zealand domestic service is getting wo...</td>\n",
       "    </tr>\n",
       "    <tr>\n",
       "      <th>4</th>\n",
       "      <td>2024-08-13</td>\n",
       "      <td>never fly Air New Zealand again</td>\n",
       "      <td>1</td>\n",
       "      <td>Family Leisure</td>\n",
       "      <td>Economy Class</td>\n",
       "      <td>Napier to Auckland</td>\n",
       "      <td>June 2024</td>\n",
       "      <td>3.0</td>\n",
       "      <td>4.0</td>\n",
       "      <td>-1.0</td>\n",
       "      <td>-1.0</td>\n",
       "      <td>1.0</td>\n",
       "      <td>-1.0</td>\n",
       "      <td>1.0</td>\n",
       "      <td>False</td>\n",
       "      <td>ATR-72</td>\n",
       "      <td>True</td>\n",
       "      <td>Air New Zealand bumped us off our flight on th...</td>\n",
       "    </tr>\n",
       "  </tbody>\n",
       "</table>\n",
       "</div>"
      ],
      "text/plain": [
       "         date                             header  rating type_of_traveller  \\\n",
       "0  2024-09-15                Service was so good      10          Business   \n",
       "1  2024-09-12  a highly disappointing experience       4      Solo Leisure   \n",
       "2  2024-08-29               the legroom was huge       9    Family Leisure   \n",
       "3  2024-08-19           getting worse by the day       3          Business   \n",
       "4  2024-08-13    never fly Air New Zealand again       1    Family Leisure   \n",
       "\n",
       "       seat_type                             route     date_flown  \\\n",
       "0  Economy Class                Melbourne to Tokyo    August 2024   \n",
       "1  Economy Class  Raratonga to Auckland via Taipei    August 2024   \n",
       "2  Economy Class            Auckland to Queenstown  December 2023   \n",
       "3  Economy Class                Auckland to Napier    August 2024   \n",
       "4  Economy Class               Napier to Auckland       June 2024   \n",
       "\n",
       "   seat_comfort  cabin_staff_service  food_&_beverages  \\\n",
       "0           5.0                  5.0               5.0   \n",
       "1           3.0                  4.0               3.0   \n",
       "2           5.0                  5.0               5.0   \n",
       "3           4.0                  5.0              -1.0   \n",
       "4           3.0                  4.0              -1.0   \n",
       "\n",
       "   inflight_entertainment  ground_service  wifi_&_connectivity  \\\n",
       "0                     5.0             5.0                  5.0   \n",
       "1                     3.0             1.0                  4.0   \n",
       "2                    -1.0             5.0                  4.0   \n",
       "3                    -1.0             5.0                 -1.0   \n",
       "4                    -1.0             1.0                 -1.0   \n",
       "\n",
       "   value_for_money  recommended aircraft  verified_status  \\\n",
       "0              5.0         True      NaN            False   \n",
       "1              1.0        False      NaN            False   \n",
       "2              5.0         True     A320            False   \n",
       "3              1.0        False      NaN            False   \n",
       "4              1.0        False   ATR-72             True   \n",
       "\n",
       "                                      review_content  \n",
       "0  Such a lovely experience! Service was so good ...  \n",
       "1  I recently had a highly disappointing experien...  \n",
       "2  I was honestly quite surprised about Air New Z...  \n",
       "3  Air New Zealand domestic service is getting wo...  \n",
       "4  Air New Zealand bumped us off our flight on th...  "
      ]
     },
     "execution_count": 18,
     "metadata": {},
     "output_type": "execute_result"
    }
   ],
   "source": [
    "reviews_df.head()"
   ]
  },
  {
   "cell_type": "code",
   "execution_count": 19,
   "metadata": {
    "execution": {
     "iopub.execute_input": "2024-10-15T11:42:05.789581Z",
     "iopub.status.busy": "2024-10-15T11:42:05.789513Z",
     "iopub.status.idle": "2024-10-15T11:42:05.792963Z",
     "shell.execute_reply": "2024-10-15T11:42:05.792741Z"
    }
   },
   "outputs": [],
   "source": [
    "# Identify the categorical columns\n",
    "categorical_columns = reviews_df.select_dtypes(include=['object']).columns\n",
    "\n",
    "# Strip leading and trailing spaces from all categorical columns\n",
    "reviews_df[categorical_columns] = reviews_df[categorical_columns].apply(lambda x: x.str.strip())"
   ]
  },
  {
   "cell_type": "code",
   "execution_count": 20,
   "metadata": {
    "execution": {
     "iopub.execute_input": "2024-10-15T11:42:05.794041Z",
     "iopub.status.busy": "2024-10-15T11:42:05.793971Z",
     "iopub.status.idle": "2024-10-15T11:42:05.799051Z",
     "shell.execute_reply": "2024-10-15T11:42:05.798834Z"
    }
   },
   "outputs": [
    {
     "data": {
      "text/html": [
       "<div>\n",
       "<style scoped>\n",
       "    .dataframe tbody tr th:only-of-type {\n",
       "        vertical-align: middle;\n",
       "    }\n",
       "\n",
       "    .dataframe tbody tr th {\n",
       "        vertical-align: top;\n",
       "    }\n",
       "\n",
       "    .dataframe thead th {\n",
       "        text-align: right;\n",
       "    }\n",
       "</style>\n",
       "<table border=\"1\" class=\"dataframe\">\n",
       "  <thead>\n",
       "    <tr style=\"text-align: right;\">\n",
       "      <th></th>\n",
       "      <th>date</th>\n",
       "      <th>header</th>\n",
       "      <th>rating</th>\n",
       "      <th>type_of_traveller</th>\n",
       "      <th>seat_type</th>\n",
       "      <th>route</th>\n",
       "      <th>date_flown</th>\n",
       "      <th>seat_comfort</th>\n",
       "      <th>cabin_staff_service</th>\n",
       "      <th>food_&amp;_beverages</th>\n",
       "      <th>inflight_entertainment</th>\n",
       "      <th>ground_service</th>\n",
       "      <th>wifi_&amp;_connectivity</th>\n",
       "      <th>value_for_money</th>\n",
       "      <th>recommended</th>\n",
       "      <th>aircraft</th>\n",
       "      <th>verified_status</th>\n",
       "      <th>review_content</th>\n",
       "    </tr>\n",
       "  </thead>\n",
       "  <tbody>\n",
       "    <tr>\n",
       "      <th>0</th>\n",
       "      <td>2024-09-15</td>\n",
       "      <td>Service was so good</td>\n",
       "      <td>10</td>\n",
       "      <td>Business</td>\n",
       "      <td>Economy Class</td>\n",
       "      <td>Melbourne to Tokyo</td>\n",
       "      <td>August 2024</td>\n",
       "      <td>5.0</td>\n",
       "      <td>5.0</td>\n",
       "      <td>5.0</td>\n",
       "      <td>5.0</td>\n",
       "      <td>5.0</td>\n",
       "      <td>5.0</td>\n",
       "      <td>5.0</td>\n",
       "      <td>True</td>\n",
       "      <td>NaN</td>\n",
       "      <td>False</td>\n",
       "      <td>Such a lovely experience! Service was so good ...</td>\n",
       "    </tr>\n",
       "    <tr>\n",
       "      <th>1</th>\n",
       "      <td>2024-09-12</td>\n",
       "      <td>a highly disappointing experience</td>\n",
       "      <td>4</td>\n",
       "      <td>Solo Leisure</td>\n",
       "      <td>Economy Class</td>\n",
       "      <td>Raratonga to Auckland via Taipei</td>\n",
       "      <td>August 2024</td>\n",
       "      <td>3.0</td>\n",
       "      <td>4.0</td>\n",
       "      <td>3.0</td>\n",
       "      <td>3.0</td>\n",
       "      <td>1.0</td>\n",
       "      <td>4.0</td>\n",
       "      <td>1.0</td>\n",
       "      <td>False</td>\n",
       "      <td>NaN</td>\n",
       "      <td>False</td>\n",
       "      <td>I recently had a highly disappointing experien...</td>\n",
       "    </tr>\n",
       "    <tr>\n",
       "      <th>2</th>\n",
       "      <td>2024-08-29</td>\n",
       "      <td>the legroom was huge</td>\n",
       "      <td>9</td>\n",
       "      <td>Family Leisure</td>\n",
       "      <td>Economy Class</td>\n",
       "      <td>Auckland to Queenstown</td>\n",
       "      <td>December 2023</td>\n",
       "      <td>5.0</td>\n",
       "      <td>5.0</td>\n",
       "      <td>5.0</td>\n",
       "      <td>-1.0</td>\n",
       "      <td>5.0</td>\n",
       "      <td>4.0</td>\n",
       "      <td>5.0</td>\n",
       "      <td>True</td>\n",
       "      <td>A320</td>\n",
       "      <td>False</td>\n",
       "      <td>I was honestly quite surprised about Air New Z...</td>\n",
       "    </tr>\n",
       "    <tr>\n",
       "      <th>3</th>\n",
       "      <td>2024-08-19</td>\n",
       "      <td>getting worse by the day</td>\n",
       "      <td>3</td>\n",
       "      <td>Business</td>\n",
       "      <td>Economy Class</td>\n",
       "      <td>Auckland to Napier</td>\n",
       "      <td>August 2024</td>\n",
       "      <td>4.0</td>\n",
       "      <td>5.0</td>\n",
       "      <td>-1.0</td>\n",
       "      <td>-1.0</td>\n",
       "      <td>5.0</td>\n",
       "      <td>-1.0</td>\n",
       "      <td>1.0</td>\n",
       "      <td>False</td>\n",
       "      <td>NaN</td>\n",
       "      <td>False</td>\n",
       "      <td>Air New Zealand domestic service is getting wo...</td>\n",
       "    </tr>\n",
       "    <tr>\n",
       "      <th>4</th>\n",
       "      <td>2024-08-13</td>\n",
       "      <td>never fly Air New Zealand again</td>\n",
       "      <td>1</td>\n",
       "      <td>Family Leisure</td>\n",
       "      <td>Economy Class</td>\n",
       "      <td>Napier to Auckland</td>\n",
       "      <td>June 2024</td>\n",
       "      <td>3.0</td>\n",
       "      <td>4.0</td>\n",
       "      <td>-1.0</td>\n",
       "      <td>-1.0</td>\n",
       "      <td>1.0</td>\n",
       "      <td>-1.0</td>\n",
       "      <td>1.0</td>\n",
       "      <td>False</td>\n",
       "      <td>ATR-72</td>\n",
       "      <td>True</td>\n",
       "      <td>Air New Zealand bumped us off our flight on th...</td>\n",
       "    </tr>\n",
       "  </tbody>\n",
       "</table>\n",
       "</div>"
      ],
      "text/plain": [
       "         date                             header  rating type_of_traveller  \\\n",
       "0  2024-09-15                Service was so good      10          Business   \n",
       "1  2024-09-12  a highly disappointing experience       4      Solo Leisure   \n",
       "2  2024-08-29               the legroom was huge       9    Family Leisure   \n",
       "3  2024-08-19           getting worse by the day       3          Business   \n",
       "4  2024-08-13    never fly Air New Zealand again       1    Family Leisure   \n",
       "\n",
       "       seat_type                             route     date_flown  \\\n",
       "0  Economy Class                Melbourne to Tokyo    August 2024   \n",
       "1  Economy Class  Raratonga to Auckland via Taipei    August 2024   \n",
       "2  Economy Class            Auckland to Queenstown  December 2023   \n",
       "3  Economy Class                Auckland to Napier    August 2024   \n",
       "4  Economy Class                Napier to Auckland      June 2024   \n",
       "\n",
       "   seat_comfort  cabin_staff_service  food_&_beverages  \\\n",
       "0           5.0                  5.0               5.0   \n",
       "1           3.0                  4.0               3.0   \n",
       "2           5.0                  5.0               5.0   \n",
       "3           4.0                  5.0              -1.0   \n",
       "4           3.0                  4.0              -1.0   \n",
       "\n",
       "   inflight_entertainment  ground_service  wifi_&_connectivity  \\\n",
       "0                     5.0             5.0                  5.0   \n",
       "1                     3.0             1.0                  4.0   \n",
       "2                    -1.0             5.0                  4.0   \n",
       "3                    -1.0             5.0                 -1.0   \n",
       "4                    -1.0             1.0                 -1.0   \n",
       "\n",
       "   value_for_money  recommended aircraft  verified_status  \\\n",
       "0              5.0         True      NaN            False   \n",
       "1              1.0        False      NaN            False   \n",
       "2              5.0         True     A320            False   \n",
       "3              1.0        False      NaN            False   \n",
       "4              1.0        False   ATR-72             True   \n",
       "\n",
       "                                      review_content  \n",
       "0  Such a lovely experience! Service was so good ...  \n",
       "1  I recently had a highly disappointing experien...  \n",
       "2  I was honestly quite surprised about Air New Z...  \n",
       "3  Air New Zealand domestic service is getting wo...  \n",
       "4  Air New Zealand bumped us off our flight on th...  "
      ]
     },
     "execution_count": 20,
     "metadata": {},
     "output_type": "execute_result"
    }
   ],
   "source": [
    "reviews_df.head()"
   ]
  },
  {
   "cell_type": "code",
   "execution_count": 21,
   "metadata": {
    "execution": {
     "iopub.execute_input": "2024-10-15T11:42:05.800034Z",
     "iopub.status.busy": "2024-10-15T11:42:05.799963Z",
     "iopub.status.idle": "2024-10-15T11:42:05.816997Z",
     "shell.execute_reply": "2024-10-15T11:42:05.816816Z"
    }
   },
   "outputs": [
    {
     "data": {
      "text/html": [
       "<div>\n",
       "<style scoped>\n",
       "    .dataframe tbody tr th:only-of-type {\n",
       "        vertical-align: middle;\n",
       "    }\n",
       "\n",
       "    .dataframe tbody tr th {\n",
       "        vertical-align: top;\n",
       "    }\n",
       "\n",
       "    .dataframe thead th {\n",
       "        text-align: right;\n",
       "    }\n",
       "</style>\n",
       "<table border=\"1\" class=\"dataframe\">\n",
       "  <thead>\n",
       "    <tr style=\"text-align: right;\">\n",
       "      <th></th>\n",
       "      <th>date</th>\n",
       "      <th>header</th>\n",
       "      <th>rating</th>\n",
       "      <th>type_of_traveller</th>\n",
       "      <th>seat_type</th>\n",
       "      <th>route</th>\n",
       "      <th>date_flown</th>\n",
       "      <th>seat_comfort</th>\n",
       "      <th>cabin_staff_service</th>\n",
       "      <th>food_&amp;_beverages</th>\n",
       "      <th>inflight_entertainment</th>\n",
       "      <th>ground_service</th>\n",
       "      <th>wifi_&amp;_connectivity</th>\n",
       "      <th>value_for_money</th>\n",
       "      <th>recommended</th>\n",
       "      <th>aircraft</th>\n",
       "      <th>verified_status</th>\n",
       "      <th>review_content</th>\n",
       "    </tr>\n",
       "  </thead>\n",
       "  <tbody>\n",
       "    <tr>\n",
       "      <th>0</th>\n",
       "      <td>2024-09-15</td>\n",
       "      <td>Service was so good</td>\n",
       "      <td>10</td>\n",
       "      <td>Business</td>\n",
       "      <td>Economy Class</td>\n",
       "      <td>Melbourne to Tokyo</td>\n",
       "      <td>August 2024</td>\n",
       "      <td>5.0</td>\n",
       "      <td>5.0</td>\n",
       "      <td>5.0</td>\n",
       "      <td>5.0</td>\n",
       "      <td>5.0</td>\n",
       "      <td>5.0</td>\n",
       "      <td>5.0</td>\n",
       "      <td>True</td>\n",
       "      <td>NaN</td>\n",
       "      <td>False</td>\n",
       "      <td>Such a lovely experience! Service was so good ...</td>\n",
       "    </tr>\n",
       "    <tr>\n",
       "      <th>1</th>\n",
       "      <td>2024-09-12</td>\n",
       "      <td>a highly disappointing experience</td>\n",
       "      <td>4</td>\n",
       "      <td>Solo Leisure</td>\n",
       "      <td>Economy Class</td>\n",
       "      <td>Raratonga to Auckland via Taipei</td>\n",
       "      <td>August 2024</td>\n",
       "      <td>3.0</td>\n",
       "      <td>4.0</td>\n",
       "      <td>3.0</td>\n",
       "      <td>3.0</td>\n",
       "      <td>1.0</td>\n",
       "      <td>4.0</td>\n",
       "      <td>1.0</td>\n",
       "      <td>False</td>\n",
       "      <td>NaN</td>\n",
       "      <td>False</td>\n",
       "      <td>I recently had a highly disappointing experien...</td>\n",
       "    </tr>\n",
       "    <tr>\n",
       "      <th>2</th>\n",
       "      <td>2024-08-29</td>\n",
       "      <td>the legroom was huge</td>\n",
       "      <td>9</td>\n",
       "      <td>Family Leisure</td>\n",
       "      <td>Economy Class</td>\n",
       "      <td>Auckland to Queenstown</td>\n",
       "      <td>December 2023</td>\n",
       "      <td>5.0</td>\n",
       "      <td>5.0</td>\n",
       "      <td>5.0</td>\n",
       "      <td>-1.0</td>\n",
       "      <td>5.0</td>\n",
       "      <td>4.0</td>\n",
       "      <td>5.0</td>\n",
       "      <td>True</td>\n",
       "      <td>A320</td>\n",
       "      <td>False</td>\n",
       "      <td>I was honestly quite surprised about Air New Z...</td>\n",
       "    </tr>\n",
       "    <tr>\n",
       "      <th>3</th>\n",
       "      <td>2024-08-19</td>\n",
       "      <td>getting worse by the day</td>\n",
       "      <td>3</td>\n",
       "      <td>Business</td>\n",
       "      <td>Economy Class</td>\n",
       "      <td>Auckland to Napier</td>\n",
       "      <td>August 2024</td>\n",
       "      <td>4.0</td>\n",
       "      <td>5.0</td>\n",
       "      <td>-1.0</td>\n",
       "      <td>-1.0</td>\n",
       "      <td>5.0</td>\n",
       "      <td>-1.0</td>\n",
       "      <td>1.0</td>\n",
       "      <td>False</td>\n",
       "      <td>NaN</td>\n",
       "      <td>False</td>\n",
       "      <td>Air New Zealand domestic service is getting wo...</td>\n",
       "    </tr>\n",
       "    <tr>\n",
       "      <th>4</th>\n",
       "      <td>2024-08-13</td>\n",
       "      <td>never fly Air New Zealand again</td>\n",
       "      <td>1</td>\n",
       "      <td>Family Leisure</td>\n",
       "      <td>Economy Class</td>\n",
       "      <td>Napier to Auckland</td>\n",
       "      <td>June 2024</td>\n",
       "      <td>3.0</td>\n",
       "      <td>4.0</td>\n",
       "      <td>-1.0</td>\n",
       "      <td>-1.0</td>\n",
       "      <td>1.0</td>\n",
       "      <td>-1.0</td>\n",
       "      <td>1.0</td>\n",
       "      <td>False</td>\n",
       "      <td>ATR-72</td>\n",
       "      <td>True</td>\n",
       "      <td>Air New Zealand bumped us off our flight on th...</td>\n",
       "    </tr>\n",
       "    <tr>\n",
       "      <th>...</th>\n",
       "      <td>...</td>\n",
       "      <td>...</td>\n",
       "      <td>...</td>\n",
       "      <td>...</td>\n",
       "      <td>...</td>\n",
       "      <td>...</td>\n",
       "      <td>...</td>\n",
       "      <td>...</td>\n",
       "      <td>...</td>\n",
       "      <td>...</td>\n",
       "      <td>...</td>\n",
       "      <td>...</td>\n",
       "      <td>...</td>\n",
       "      <td>...</td>\n",
       "      <td>...</td>\n",
       "      <td>...</td>\n",
       "      <td>...</td>\n",
       "      <td>...</td>\n",
       "    </tr>\n",
       "    <tr>\n",
       "      <th>831</th>\n",
       "      <td>2013-05-12</td>\n",
       "      <td>Air New Zealand customer review</td>\n",
       "      <td>3</td>\n",
       "      <td>NaN</td>\n",
       "      <td>Economy Class</td>\n",
       "      <td>NaN</td>\n",
       "      <td>NaN</td>\n",
       "      <td>3.0</td>\n",
       "      <td>2.0</td>\n",
       "      <td>3.0</td>\n",
       "      <td>4.0</td>\n",
       "      <td>-1.0</td>\n",
       "      <td>-1.0</td>\n",
       "      <td>2.0</td>\n",
       "      <td>False</td>\n",
       "      <td>NaN</td>\n",
       "      <td>False</td>\n",
       "      <td>I have flown with Air New Zealand for several ...</td>\n",
       "    </tr>\n",
       "    <tr>\n",
       "      <th>832</th>\n",
       "      <td>2013-05-10</td>\n",
       "      <td>Air New Zealand customer review</td>\n",
       "      <td>10</td>\n",
       "      <td>NaN</td>\n",
       "      <td>Premium Economy</td>\n",
       "      <td>NaN</td>\n",
       "      <td>NaN</td>\n",
       "      <td>5.0</td>\n",
       "      <td>5.0</td>\n",
       "      <td>5.0</td>\n",
       "      <td>5.0</td>\n",
       "      <td>-1.0</td>\n",
       "      <td>-1.0</td>\n",
       "      <td>4.0</td>\n",
       "      <td>True</td>\n",
       "      <td>NaN</td>\n",
       "      <td>False</td>\n",
       "      <td>Flew Wellington-San Francisco (via Auckland). ...</td>\n",
       "    </tr>\n",
       "    <tr>\n",
       "      <th>834</th>\n",
       "      <td>2013-05-08</td>\n",
       "      <td>Air New Zealand customer review</td>\n",
       "      <td>9</td>\n",
       "      <td>NaN</td>\n",
       "      <td>Premium Economy</td>\n",
       "      <td>NaN</td>\n",
       "      <td>NaN</td>\n",
       "      <td>4.0</td>\n",
       "      <td>5.0</td>\n",
       "      <td>5.0</td>\n",
       "      <td>5.0</td>\n",
       "      <td>-1.0</td>\n",
       "      <td>-1.0</td>\n",
       "      <td>5.0</td>\n",
       "      <td>True</td>\n",
       "      <td>NaN</td>\n",
       "      <td>False</td>\n",
       "      <td>Flew Premium Economy from LAX to AKL on a 777-...</td>\n",
       "    </tr>\n",
       "    <tr>\n",
       "      <th>836</th>\n",
       "      <td>2013-05-06</td>\n",
       "      <td>Air New Zealand customer review</td>\n",
       "      <td>5</td>\n",
       "      <td>NaN</td>\n",
       "      <td>Economy Class</td>\n",
       "      <td>NaN</td>\n",
       "      <td>NaN</td>\n",
       "      <td>3.0</td>\n",
       "      <td>3.0</td>\n",
       "      <td>4.0</td>\n",
       "      <td>1.0</td>\n",
       "      <td>-1.0</td>\n",
       "      <td>-1.0</td>\n",
       "      <td>3.0</td>\n",
       "      <td>False</td>\n",
       "      <td>NaN</td>\n",
       "      <td>False</td>\n",
       "      <td>Adelaide to Auckland April 28 2013. Usual incr...</td>\n",
       "    </tr>\n",
       "    <tr>\n",
       "      <th>837</th>\n",
       "      <td>2013-05-01</td>\n",
       "      <td>Air New Zealand customer review</td>\n",
       "      <td>5</td>\n",
       "      <td>NaN</td>\n",
       "      <td>Premium Economy</td>\n",
       "      <td>NaN</td>\n",
       "      <td>NaN</td>\n",
       "      <td>3.0</td>\n",
       "      <td>3.0</td>\n",
       "      <td>4.0</td>\n",
       "      <td>3.0</td>\n",
       "      <td>-1.0</td>\n",
       "      <td>-1.0</td>\n",
       "      <td>2.0</td>\n",
       "      <td>False</td>\n",
       "      <td>NaN</td>\n",
       "      <td>False</td>\n",
       "      <td>B747-400 Premium Economy SFO-AKL B767 Works AK...</td>\n",
       "    </tr>\n",
       "  </tbody>\n",
       "</table>\n",
       "<p>751 rows × 18 columns</p>\n",
       "</div>"
      ],
      "text/plain": [
       "           date                             header  rating type_of_traveller  \\\n",
       "0    2024-09-15                Service was so good      10          Business   \n",
       "1    2024-09-12  a highly disappointing experience       4      Solo Leisure   \n",
       "2    2024-08-29               the legroom was huge       9    Family Leisure   \n",
       "3    2024-08-19           getting worse by the day       3          Business   \n",
       "4    2024-08-13    never fly Air New Zealand again       1    Family Leisure   \n",
       "..          ...                                ...     ...               ...   \n",
       "831  2013-05-12    Air New Zealand customer review       3               NaN   \n",
       "832  2013-05-10    Air New Zealand customer review      10               NaN   \n",
       "834  2013-05-08    Air New Zealand customer review       9               NaN   \n",
       "836  2013-05-06    Air New Zealand customer review       5               NaN   \n",
       "837  2013-05-01    Air New Zealand customer review       5               NaN   \n",
       "\n",
       "           seat_type                             route     date_flown  \\\n",
       "0      Economy Class                Melbourne to Tokyo    August 2024   \n",
       "1      Economy Class  Raratonga to Auckland via Taipei    August 2024   \n",
       "2      Economy Class            Auckland to Queenstown  December 2023   \n",
       "3      Economy Class                Auckland to Napier    August 2024   \n",
       "4      Economy Class                Napier to Auckland      June 2024   \n",
       "..               ...                               ...            ...   \n",
       "831    Economy Class                               NaN            NaN   \n",
       "832  Premium Economy                               NaN            NaN   \n",
       "834  Premium Economy                               NaN            NaN   \n",
       "836    Economy Class                               NaN            NaN   \n",
       "837  Premium Economy                               NaN            NaN   \n",
       "\n",
       "     seat_comfort  cabin_staff_service  food_&_beverages  \\\n",
       "0             5.0                  5.0               5.0   \n",
       "1             3.0                  4.0               3.0   \n",
       "2             5.0                  5.0               5.0   \n",
       "3             4.0                  5.0              -1.0   \n",
       "4             3.0                  4.0              -1.0   \n",
       "..            ...                  ...               ...   \n",
       "831           3.0                  2.0               3.0   \n",
       "832           5.0                  5.0               5.0   \n",
       "834           4.0                  5.0               5.0   \n",
       "836           3.0                  3.0               4.0   \n",
       "837           3.0                  3.0               4.0   \n",
       "\n",
       "     inflight_entertainment  ground_service  wifi_&_connectivity  \\\n",
       "0                       5.0             5.0                  5.0   \n",
       "1                       3.0             1.0                  4.0   \n",
       "2                      -1.0             5.0                  4.0   \n",
       "3                      -1.0             5.0                 -1.0   \n",
       "4                      -1.0             1.0                 -1.0   \n",
       "..                      ...             ...                  ...   \n",
       "831                     4.0            -1.0                 -1.0   \n",
       "832                     5.0            -1.0                 -1.0   \n",
       "834                     5.0            -1.0                 -1.0   \n",
       "836                     1.0            -1.0                 -1.0   \n",
       "837                     3.0            -1.0                 -1.0   \n",
       "\n",
       "     value_for_money  recommended aircraft  verified_status  \\\n",
       "0                5.0         True      NaN            False   \n",
       "1                1.0        False      NaN            False   \n",
       "2                5.0         True     A320            False   \n",
       "3                1.0        False      NaN            False   \n",
       "4                1.0        False   ATR-72             True   \n",
       "..               ...          ...      ...              ...   \n",
       "831              2.0        False      NaN            False   \n",
       "832              4.0         True      NaN            False   \n",
       "834              5.0         True      NaN            False   \n",
       "836              3.0        False      NaN            False   \n",
       "837              2.0        False      NaN            False   \n",
       "\n",
       "                                        review_content  \n",
       "0    Such a lovely experience! Service was so good ...  \n",
       "1    I recently had a highly disappointing experien...  \n",
       "2    I was honestly quite surprised about Air New Z...  \n",
       "3    Air New Zealand domestic service is getting wo...  \n",
       "4    Air New Zealand bumped us off our flight on th...  \n",
       "..                                                 ...  \n",
       "831  I have flown with Air New Zealand for several ...  \n",
       "832  Flew Wellington-San Francisco (via Auckland). ...  \n",
       "834  Flew Premium Economy from LAX to AKL on a 777-...  \n",
       "836  Adelaide to Auckland April 28 2013. Usual incr...  \n",
       "837  B747-400 Premium Economy SFO-AKL B767 Works AK...  \n",
       "\n",
       "[751 rows x 18 columns]"
      ]
     },
     "execution_count": 21,
     "metadata": {},
     "output_type": "execute_result"
    }
   ],
   "source": [
    "# Save the cleaned reviews to a CSV file\n",
    "reviews_df.to_csv(\"../dataset/air_nz_cleaned_data.csv\", index=False)\n",
    "reviews_df"
   ]
  }
 ],
 "metadata": {
  "kernelspec": {
   "display_name": "Python 3",
   "language": "python",
   "name": "python3"
  },
  "language_info": {
   "codemirror_mode": {
    "name": "ipython",
    "version": 3
   },
   "file_extension": ".py",
   "mimetype": "text/x-python",
   "name": "python",
   "nbconvert_exporter": "python",
   "pygments_lexer": "ipython3",
   "version": "3.12.0"
  }
 },
 "nbformat": 4,
 "nbformat_minor": 2
}
